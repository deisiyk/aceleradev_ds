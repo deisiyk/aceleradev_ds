{
 "cells": [
  {
   "cell_type": "code",
   "execution_count": 1,
   "metadata": {},
   "outputs": [],
   "source": [
    "import pandas as pd\n",
    "import numpy as np\n",
    "import matplotlib.pyplot as plt\n",
    "import seaborn as sns\n",
    "\n",
    "from sklearn.model_selection import train_test_split, GridSearchCV\n",
    "from statsmodels.regression.linear_model import OLS\n",
    "from sklearn import linear_model\n",
    "from sklearn.metrics import mean_squared_error, r2_score\n",
    "from sklearn import preprocessing\n",
    "from sklearn.decomposition import PCA\n",
    "from sklearn.neighbors import LocalOutlierFactor\n",
    "\n",
    "%matplotlib inline\n",
    "from IPython.core.pylabtools import figsize\n",
    "figsize(12, 8)\n",
    "sns.set()"
   ]
  },
  {
   "cell_type": "code",
   "execution_count": 2,
   "metadata": {},
   "outputs": [],
   "source": [
    "# Definições das funções\n",
    "\n",
    "# Gráfico de correlação campos Nan. Lista somente as colunas que possuem dados Nan\n",
    "def null_correlation(df):\n",
    "    corr = df.isnull().corr()\n",
    "    cols = corr.columns[corr.count()>0]\n",
    "    corr = corr.loc[cols, cols]\n",
    "    cmap=sns.diverging_palette(20, 220, n=200)\n",
    "    mask = np.triu(np.ones(corr.shape)).astype(np.bool)  #constrói em forma triangular\n",
    "    sns.heatmap(corr, cmap = cmap,mask=mask, annot=True,vmin=-1, vmax=1,  fmt='.2f') #duas casas decimais\n",
    "    plt.title('Correlação de dados Nan', fontsize=18)\n",
    "    plt.show()\n",
    "    \n",
    "# Dataframe auxiliar com dados do dataframe para visualizar os tipos de dados e a quantidade de dados Nan\n",
    "def aux_dataframe(df):\n",
    "    df_aux = pd.DataFrame({\n",
    "                        'Column': df.columns,\n",
    "                        'Type': df.dtypes,\n",
    "                        'Unique': df.nunique(),\n",
    "                        'Nan': df.isnull().sum()\n",
    "                           })\n",
    "    df_aux['Nan_%'] = round(df_aux['Nan']/df.shape[0]*100,2)\n",
    "    return df_aux"
   ]
  },
  {
   "cell_type": "markdown",
   "metadata": {},
   "source": [
    "# Análise inicial dados de test\n",
    "\n",
    "Inicialmente foi analisado os dados de test para entender quais colunas virão e como os dados virão.\n",
    "A partir desta análise, serão identificadas a priori quais colunas, dos dados de treino, serão exploradas."
   ]
  },
  {
   "cell_type": "code",
   "execution_count": 3,
   "metadata": {},
   "outputs": [],
   "source": [
    "test = pd.read_csv('test.csv')"
   ]
  },
  {
   "cell_type": "code",
   "execution_count": 4,
   "metadata": {},
   "outputs": [
    {
     "data": {
      "text/html": [
       "<div>\n",
       "<style scoped>\n",
       "    .dataframe tbody tr th:only-of-type {\n",
       "        vertical-align: middle;\n",
       "    }\n",
       "\n",
       "    .dataframe tbody tr th {\n",
       "        vertical-align: top;\n",
       "    }\n",
       "\n",
       "    .dataframe thead th {\n",
       "        text-align: right;\n",
       "    }\n",
       "</style>\n",
       "<table border=\"1\" class=\"dataframe\">\n",
       "  <thead>\n",
       "    <tr style=\"text-align: right;\">\n",
       "      <th></th>\n",
       "      <th>NU_INSCRICAO</th>\n",
       "      <th>CO_UF_RESIDENCIA</th>\n",
       "      <th>SG_UF_RESIDENCIA</th>\n",
       "      <th>NU_IDADE</th>\n",
       "      <th>TP_SEXO</th>\n",
       "      <th>TP_COR_RACA</th>\n",
       "      <th>TP_NACIONALIDADE</th>\n",
       "      <th>TP_ST_CONCLUSAO</th>\n",
       "      <th>TP_ANO_CONCLUIU</th>\n",
       "      <th>TP_ESCOLA</th>\n",
       "      <th>...</th>\n",
       "      <th>NU_NOTA_COMP5</th>\n",
       "      <th>NU_NOTA_REDACAO</th>\n",
       "      <th>Q001</th>\n",
       "      <th>Q002</th>\n",
       "      <th>Q006</th>\n",
       "      <th>Q024</th>\n",
       "      <th>Q025</th>\n",
       "      <th>Q026</th>\n",
       "      <th>Q027</th>\n",
       "      <th>Q047</th>\n",
       "    </tr>\n",
       "  </thead>\n",
       "  <tbody>\n",
       "    <tr>\n",
       "      <td>0</td>\n",
       "      <td>73ff9fcc02f0a99919906c942c2e1a1042cdcf98</td>\n",
       "      <td>41</td>\n",
       "      <td>PR</td>\n",
       "      <td>22</td>\n",
       "      <td>F</td>\n",
       "      <td>3</td>\n",
       "      <td>1</td>\n",
       "      <td>1</td>\n",
       "      <td>5</td>\n",
       "      <td>1</td>\n",
       "      <td>...</td>\n",
       "      <td>40.0</td>\n",
       "      <td>420.0</td>\n",
       "      <td>B</td>\n",
       "      <td>A</td>\n",
       "      <td>C</td>\n",
       "      <td>A</td>\n",
       "      <td>A</td>\n",
       "      <td>C</td>\n",
       "      <td>C</td>\n",
       "      <td>A</td>\n",
       "    </tr>\n",
       "    <tr>\n",
       "      <td>1</td>\n",
       "      <td>71a95f9f1b91a82c65ad94abbdf9f54e6066f968</td>\n",
       "      <td>21</td>\n",
       "      <td>MA</td>\n",
       "      <td>26</td>\n",
       "      <td>F</td>\n",
       "      <td>3</td>\n",
       "      <td>1</td>\n",
       "      <td>1</td>\n",
       "      <td>8</td>\n",
       "      <td>1</td>\n",
       "      <td>...</td>\n",
       "      <td>100.0</td>\n",
       "      <td>580.0</td>\n",
       "      <td>E</td>\n",
       "      <td>B</td>\n",
       "      <td>C</td>\n",
       "      <td>B</td>\n",
       "      <td>B</td>\n",
       "      <td>B</td>\n",
       "      <td>F</td>\n",
       "      <td>A</td>\n",
       "    </tr>\n",
       "    <tr>\n",
       "      <td>2</td>\n",
       "      <td>b38a03232f43b11c9d0788abaf060f7366053b6d</td>\n",
       "      <td>23</td>\n",
       "      <td>CE</td>\n",
       "      <td>21</td>\n",
       "      <td>M</td>\n",
       "      <td>1</td>\n",
       "      <td>1</td>\n",
       "      <td>2</td>\n",
       "      <td>0</td>\n",
       "      <td>2</td>\n",
       "      <td>...</td>\n",
       "      <td>80.0</td>\n",
       "      <td>320.0</td>\n",
       "      <td>E</td>\n",
       "      <td>E</td>\n",
       "      <td>D</td>\n",
       "      <td>B</td>\n",
       "      <td>B</td>\n",
       "      <td>A</td>\n",
       "      <td>NaN</td>\n",
       "      <td>A</td>\n",
       "    </tr>\n",
       "    <tr>\n",
       "      <td>3</td>\n",
       "      <td>70b682d9a3636be23f6120fa9d6b164eb3c6002d</td>\n",
       "      <td>15</td>\n",
       "      <td>PA</td>\n",
       "      <td>27</td>\n",
       "      <td>F</td>\n",
       "      <td>3</td>\n",
       "      <td>1</td>\n",
       "      <td>1</td>\n",
       "      <td>8</td>\n",
       "      <td>1</td>\n",
       "      <td>...</td>\n",
       "      <td>NaN</td>\n",
       "      <td>NaN</td>\n",
       "      <td>H</td>\n",
       "      <td>E</td>\n",
       "      <td>G</td>\n",
       "      <td>B</td>\n",
       "      <td>B</td>\n",
       "      <td>A</td>\n",
       "      <td>NaN</td>\n",
       "      <td>A</td>\n",
       "    </tr>\n",
       "    <tr>\n",
       "      <td>4</td>\n",
       "      <td>715494628a50142ce8cb17191cfe6d0f3cae0934</td>\n",
       "      <td>41</td>\n",
       "      <td>PR</td>\n",
       "      <td>18</td>\n",
       "      <td>M</td>\n",
       "      <td>1</td>\n",
       "      <td>1</td>\n",
       "      <td>2</td>\n",
       "      <td>0</td>\n",
       "      <td>2</td>\n",
       "      <td>...</td>\n",
       "      <td>0.0</td>\n",
       "      <td>320.0</td>\n",
       "      <td>D</td>\n",
       "      <td>H</td>\n",
       "      <td>H</td>\n",
       "      <td>C</td>\n",
       "      <td>B</td>\n",
       "      <td>A</td>\n",
       "      <td>NaN</td>\n",
       "      <td>A</td>\n",
       "    </tr>\n",
       "  </tbody>\n",
       "</table>\n",
       "<p>5 rows × 47 columns</p>\n",
       "</div>"
      ],
      "text/plain": [
       "                               NU_INSCRICAO  CO_UF_RESIDENCIA  \\\n",
       "0  73ff9fcc02f0a99919906c942c2e1a1042cdcf98                41   \n",
       "1  71a95f9f1b91a82c65ad94abbdf9f54e6066f968                21   \n",
       "2  b38a03232f43b11c9d0788abaf060f7366053b6d                23   \n",
       "3  70b682d9a3636be23f6120fa9d6b164eb3c6002d                15   \n",
       "4  715494628a50142ce8cb17191cfe6d0f3cae0934                41   \n",
       "\n",
       "  SG_UF_RESIDENCIA  NU_IDADE TP_SEXO  TP_COR_RACA  TP_NACIONALIDADE  \\\n",
       "0               PR        22       F            3                 1   \n",
       "1               MA        26       F            3                 1   \n",
       "2               CE        21       M            1                 1   \n",
       "3               PA        27       F            3                 1   \n",
       "4               PR        18       M            1                 1   \n",
       "\n",
       "   TP_ST_CONCLUSAO  TP_ANO_CONCLUIU  TP_ESCOLA  ...  NU_NOTA_COMP5  \\\n",
       "0                1                5          1  ...           40.0   \n",
       "1                1                8          1  ...          100.0   \n",
       "2                2                0          2  ...           80.0   \n",
       "3                1                8          1  ...            NaN   \n",
       "4                2                0          2  ...            0.0   \n",
       "\n",
       "   NU_NOTA_REDACAO  Q001  Q002  Q006  Q024  Q025  Q026  Q027  Q047  \n",
       "0            420.0     B     A     C     A     A     C     C     A  \n",
       "1            580.0     E     B     C     B     B     B     F     A  \n",
       "2            320.0     E     E     D     B     B     A   NaN     A  \n",
       "3              NaN     H     E     G     B     B     A   NaN     A  \n",
       "4            320.0     D     H     H     C     B     A   NaN     A  \n",
       "\n",
       "[5 rows x 47 columns]"
      ]
     },
     "execution_count": 4,
     "metadata": {},
     "output_type": "execute_result"
    }
   ],
   "source": [
    "test.head()"
   ]
  },
  {
   "cell_type": "code",
   "execution_count": 5,
   "metadata": {},
   "outputs": [
    {
     "data": {
      "text/plain": [
       "(4576, 47)"
      ]
     },
     "execution_count": 5,
     "metadata": {},
     "output_type": "execute_result"
    }
   ],
   "source": [
    "test.shape"
   ]
  },
  {
   "cell_type": "code",
   "execution_count": 6,
   "metadata": {},
   "outputs": [],
   "source": [
    "# Chamada classe para criação de dataframe auxiliar\n",
    "test_aux = aux_dataframe(test)"
   ]
  },
  {
   "cell_type": "code",
   "execution_count": 7,
   "metadata": {},
   "outputs": [
    {
     "data": {
      "text/html": [
       "<div>\n",
       "<style scoped>\n",
       "    .dataframe tbody tr th:only-of-type {\n",
       "        vertical-align: middle;\n",
       "    }\n",
       "\n",
       "    .dataframe tbody tr th {\n",
       "        vertical-align: top;\n",
       "    }\n",
       "\n",
       "    .dataframe thead th {\n",
       "        text-align: right;\n",
       "    }\n",
       "</style>\n",
       "<table border=\"1\" class=\"dataframe\">\n",
       "  <thead>\n",
       "    <tr style=\"text-align: right;\">\n",
       "      <th></th>\n",
       "      <th>Column</th>\n",
       "      <th>Type</th>\n",
       "      <th>Unique</th>\n",
       "      <th>Nan</th>\n",
       "      <th>Nan_%</th>\n",
       "    </tr>\n",
       "  </thead>\n",
       "  <tbody>\n",
       "    <tr>\n",
       "      <td>TP_ENSINO</td>\n",
       "      <td>TP_ENSINO</td>\n",
       "      <td>float64</td>\n",
       "      <td>3</td>\n",
       "      <td>3096</td>\n",
       "      <td>67.66</td>\n",
       "    </tr>\n",
       "    <tr>\n",
       "      <td>TP_DEPENDENCIA_ADM_ESC</td>\n",
       "      <td>TP_DEPENDENCIA_ADM_ESC</td>\n",
       "      <td>float64</td>\n",
       "      <td>4</td>\n",
       "      <td>3096</td>\n",
       "      <td>67.66</td>\n",
       "    </tr>\n",
       "    <tr>\n",
       "      <td>NU_NOTA_CN</td>\n",
       "      <td>NU_NOTA_CN</td>\n",
       "      <td>float64</td>\n",
       "      <td>1823</td>\n",
       "      <td>1134</td>\n",
       "      <td>24.78</td>\n",
       "    </tr>\n",
       "    <tr>\n",
       "      <td>NU_NOTA_CH</td>\n",
       "      <td>NU_NOTA_CH</td>\n",
       "      <td>float64</td>\n",
       "      <td>1969</td>\n",
       "      <td>1134</td>\n",
       "      <td>24.78</td>\n",
       "    </tr>\n",
       "    <tr>\n",
       "      <td>NU_NOTA_LC</td>\n",
       "      <td>NU_NOTA_LC</td>\n",
       "      <td>float64</td>\n",
       "      <td>1839</td>\n",
       "      <td>1199</td>\n",
       "      <td>26.20</td>\n",
       "    </tr>\n",
       "    <tr>\n",
       "      <td>TP_STATUS_REDACAO</td>\n",
       "      <td>TP_STATUS_REDACAO</td>\n",
       "      <td>float64</td>\n",
       "      <td>9</td>\n",
       "      <td>1199</td>\n",
       "      <td>26.20</td>\n",
       "    </tr>\n",
       "    <tr>\n",
       "      <td>NU_NOTA_COMP1</td>\n",
       "      <td>NU_NOTA_COMP1</td>\n",
       "      <td>float64</td>\n",
       "      <td>10</td>\n",
       "      <td>1199</td>\n",
       "      <td>26.20</td>\n",
       "    </tr>\n",
       "    <tr>\n",
       "      <td>NU_NOTA_COMP2</td>\n",
       "      <td>NU_NOTA_COMP2</td>\n",
       "      <td>float64</td>\n",
       "      <td>10</td>\n",
       "      <td>1199</td>\n",
       "      <td>26.20</td>\n",
       "    </tr>\n",
       "    <tr>\n",
       "      <td>NU_NOTA_COMP3</td>\n",
       "      <td>NU_NOTA_COMP3</td>\n",
       "      <td>float64</td>\n",
       "      <td>11</td>\n",
       "      <td>1199</td>\n",
       "      <td>26.20</td>\n",
       "    </tr>\n",
       "    <tr>\n",
       "      <td>NU_NOTA_COMP4</td>\n",
       "      <td>NU_NOTA_COMP4</td>\n",
       "      <td>float64</td>\n",
       "      <td>11</td>\n",
       "      <td>1199</td>\n",
       "      <td>26.20</td>\n",
       "    </tr>\n",
       "    <tr>\n",
       "      <td>NU_NOTA_COMP5</td>\n",
       "      <td>NU_NOTA_COMP5</td>\n",
       "      <td>float64</td>\n",
       "      <td>11</td>\n",
       "      <td>1199</td>\n",
       "      <td>26.20</td>\n",
       "    </tr>\n",
       "    <tr>\n",
       "      <td>NU_NOTA_REDACAO</td>\n",
       "      <td>NU_NOTA_REDACAO</td>\n",
       "      <td>float64</td>\n",
       "      <td>44</td>\n",
       "      <td>1199</td>\n",
       "      <td>26.20</td>\n",
       "    </tr>\n",
       "    <tr>\n",
       "      <td>Q027</td>\n",
       "      <td>Q027</td>\n",
       "      <td>object</td>\n",
       "      <td>13</td>\n",
       "      <td>2488</td>\n",
       "      <td>54.37</td>\n",
       "    </tr>\n",
       "  </tbody>\n",
       "</table>\n",
       "</div>"
      ],
      "text/plain": [
       "                                        Column     Type  Unique   Nan  Nan_%\n",
       "TP_ENSINO                            TP_ENSINO  float64       3  3096  67.66\n",
       "TP_DEPENDENCIA_ADM_ESC  TP_DEPENDENCIA_ADM_ESC  float64       4  3096  67.66\n",
       "NU_NOTA_CN                          NU_NOTA_CN  float64    1823  1134  24.78\n",
       "NU_NOTA_CH                          NU_NOTA_CH  float64    1969  1134  24.78\n",
       "NU_NOTA_LC                          NU_NOTA_LC  float64    1839  1199  26.20\n",
       "TP_STATUS_REDACAO            TP_STATUS_REDACAO  float64       9  1199  26.20\n",
       "NU_NOTA_COMP1                    NU_NOTA_COMP1  float64      10  1199  26.20\n",
       "NU_NOTA_COMP2                    NU_NOTA_COMP2  float64      10  1199  26.20\n",
       "NU_NOTA_COMP3                    NU_NOTA_COMP3  float64      11  1199  26.20\n",
       "NU_NOTA_COMP4                    NU_NOTA_COMP4  float64      11  1199  26.20\n",
       "NU_NOTA_COMP5                    NU_NOTA_COMP5  float64      11  1199  26.20\n",
       "NU_NOTA_REDACAO                NU_NOTA_REDACAO  float64      44  1199  26.20\n",
       "Q027                                      Q027   object      13  2488  54.37"
      ]
     },
     "execution_count": 7,
     "metadata": {},
     "output_type": "execute_result"
    }
   ],
   "source": [
    "# Lista somente colunas que possuem dados Nan\n",
    "columns_null = test_aux[test_aux['Nan']!=0].index\n",
    "test_aux[ test_aux['Nan']!=0]"
   ]
  },
  {
   "cell_type": "code",
   "execution_count": 8,
   "metadata": {},
   "outputs": [],
   "source": [
    "columns_null = list(columns_null)   \n",
    "columns_null.append('NU_INSCRICAO')"
   ]
  },
  {
   "cell_type": "code",
   "execution_count": 9,
   "metadata": {},
   "outputs": [
    {
     "name": "stdout",
     "output_type": "stream",
     "text": [
      "0    1134\n",
      "Name: TP_PRESENCA_CN, dtype: int64\n",
      "0    1134\n",
      "Name: TP_PRESENCA_CH, dtype: int64\n",
      "0    1195\n",
      "2       4\n",
      "Name: TP_PRESENCA_LC, dtype: int64\n"
     ]
    }
   ],
   "source": [
    "# Verifica relação entre presença na prova e a nota Nan\n",
    "# 0 - Faltou à prova\n",
    "# 2 - Eliminado na prova\n",
    "\n",
    "# TP_PRESENCA_CN X NU_NOTA_CN\n",
    "print(test.loc[test.NU_NOTA_CN.isnull(), 'TP_PRESENCA_CN'].value_counts())\n",
    "# TP_PRESENCA_CH X NU_NOTA_CH\n",
    "print(test.loc[test.NU_NOTA_CH.isnull(), 'TP_PRESENCA_CH'].value_counts())\n",
    "# TP_PRESENCA_LC X NU_NOTA_LC\n",
    "print(test.loc[test.NU_NOTA_LC.isnull(), 'TP_PRESENCA_LC'].value_counts())"
   ]
  },
  {
   "cell_type": "code",
   "execution_count": 10,
   "metadata": {},
   "outputs": [],
   "source": [
    "# Preenchido com 0 as notas que os alunos faltaram ou forma eliminados na prova\n",
    "col = ['NU_NOTA_CN','NU_NOTA_CH','NU_NOTA_LC']\n",
    "for i in col:\n",
    "    test[i] = test[i].fillna(0)"
   ]
  },
  {
   "cell_type": "code",
   "execution_count": 11,
   "metadata": {},
   "outputs": [
    {
     "data": {
      "image/png": "[encoded data removed]",
      "text/plain": [
       "<Figure size 432x288 with 2 Axes>"
      ]
     },
     "metadata": {
      "needs_background": "light"
     },
     "output_type": "display_data"
    }
   ],
   "source": [
    "# Chamada a classe criada\n",
    "# Interpretação do gráfico: 17% dos linhas que possuem NU_NOTA_COMP1 = Nan, possuem TP_ENSINO = Nan\n",
    "#                           100% das linhas que possuem NU_NOTA_COMP1 = Nan possuem NU_NOTA_COMP2 = Nan  \n",
    "null_correlation(test)"
   ]
  },
  {
   "cell_type": "code",
   "execution_count": 12,
   "metadata": {},
   "outputs": [
    {
     "data": {
      "text/html": [
       "<div>\n",
       "<style scoped>\n",
       "    .dataframe tbody tr th:only-of-type {\n",
       "        vertical-align: middle;\n",
       "    }\n",
       "\n",
       "    .dataframe tbody tr th {\n",
       "        vertical-align: top;\n",
       "    }\n",
       "\n",
       "    .dataframe thead th {\n",
       "        text-align: right;\n",
       "    }\n",
       "</style>\n",
       "<table border=\"1\" class=\"dataframe\">\n",
       "  <thead>\n",
       "    <tr style=\"text-align: right;\">\n",
       "      <th></th>\n",
       "      <th>TP_ENSINO</th>\n",
       "      <th>TP_DEPENDENCIA_ADM_ESC</th>\n",
       "      <th>NU_NOTA_CN</th>\n",
       "      <th>NU_NOTA_CH</th>\n",
       "      <th>NU_NOTA_LC</th>\n",
       "      <th>TP_STATUS_REDACAO</th>\n",
       "      <th>NU_NOTA_COMP1</th>\n",
       "      <th>NU_NOTA_COMP2</th>\n",
       "      <th>NU_NOTA_COMP3</th>\n",
       "      <th>NU_NOTA_COMP4</th>\n",
       "      <th>NU_NOTA_COMP5</th>\n",
       "      <th>NU_NOTA_REDACAO</th>\n",
       "      <th>Q027</th>\n",
       "      <th>NU_INSCRICAO</th>\n",
       "    </tr>\n",
       "  </thead>\n",
       "  <tbody>\n",
       "    <tr>\n",
       "      <td>3</td>\n",
       "      <td>NaN</td>\n",
       "      <td>NaN</td>\n",
       "      <td>0.0</td>\n",
       "      <td>0.0</td>\n",
       "      <td>0.0</td>\n",
       "      <td>NaN</td>\n",
       "      <td>NaN</td>\n",
       "      <td>NaN</td>\n",
       "      <td>NaN</td>\n",
       "      <td>NaN</td>\n",
       "      <td>NaN</td>\n",
       "      <td>NaN</td>\n",
       "      <td>NaN</td>\n",
       "      <td>70b682d9a3636be23f6120fa9d6b164eb3c6002d</td>\n",
       "    </tr>\n",
       "    <tr>\n",
       "      <td>10</td>\n",
       "      <td>NaN</td>\n",
       "      <td>NaN</td>\n",
       "      <td>0.0</td>\n",
       "      <td>0.0</td>\n",
       "      <td>0.0</td>\n",
       "      <td>NaN</td>\n",
       "      <td>NaN</td>\n",
       "      <td>NaN</td>\n",
       "      <td>NaN</td>\n",
       "      <td>NaN</td>\n",
       "      <td>NaN</td>\n",
       "      <td>NaN</td>\n",
       "      <td>NaN</td>\n",
       "      <td>8b7c167ea7b55c8168ec60c3851b1b598a8fbd11</td>\n",
       "    </tr>\n",
       "    <tr>\n",
       "      <td>11</td>\n",
       "      <td>NaN</td>\n",
       "      <td>NaN</td>\n",
       "      <td>0.0</td>\n",
       "      <td>0.0</td>\n",
       "      <td>0.0</td>\n",
       "      <td>NaN</td>\n",
       "      <td>NaN</td>\n",
       "      <td>NaN</td>\n",
       "      <td>NaN</td>\n",
       "      <td>NaN</td>\n",
       "      <td>NaN</td>\n",
       "      <td>NaN</td>\n",
       "      <td>E</td>\n",
       "      <td>db4da599aab5bb08dce27094a35fd3e36cd0abce</td>\n",
       "    </tr>\n",
       "    <tr>\n",
       "      <td>16</td>\n",
       "      <td>NaN</td>\n",
       "      <td>NaN</td>\n",
       "      <td>0.0</td>\n",
       "      <td>0.0</td>\n",
       "      <td>0.0</td>\n",
       "      <td>NaN</td>\n",
       "      <td>NaN</td>\n",
       "      <td>NaN</td>\n",
       "      <td>NaN</td>\n",
       "      <td>NaN</td>\n",
       "      <td>NaN</td>\n",
       "      <td>NaN</td>\n",
       "      <td>B</td>\n",
       "      <td>fbfa8cde21a692b51fb86342110b4a334a0fcfdb</td>\n",
       "    </tr>\n",
       "    <tr>\n",
       "      <td>17</td>\n",
       "      <td>NaN</td>\n",
       "      <td>NaN</td>\n",
       "      <td>0.0</td>\n",
       "      <td>0.0</td>\n",
       "      <td>0.0</td>\n",
       "      <td>NaN</td>\n",
       "      <td>NaN</td>\n",
       "      <td>NaN</td>\n",
       "      <td>NaN</td>\n",
       "      <td>NaN</td>\n",
       "      <td>NaN</td>\n",
       "      <td>NaN</td>\n",
       "      <td>F</td>\n",
       "      <td>ca8477c8493b09f34d17bb287f9bacf2dd744c32</td>\n",
       "    </tr>\n",
       "    <tr>\n",
       "      <td>...</td>\n",
       "      <td>...</td>\n",
       "      <td>...</td>\n",
       "      <td>...</td>\n",
       "      <td>...</td>\n",
       "      <td>...</td>\n",
       "      <td>...</td>\n",
       "      <td>...</td>\n",
       "      <td>...</td>\n",
       "      <td>...</td>\n",
       "      <td>...</td>\n",
       "      <td>...</td>\n",
       "      <td>...</td>\n",
       "      <td>...</td>\n",
       "      <td>...</td>\n",
       "    </tr>\n",
       "    <tr>\n",
       "      <td>4543</td>\n",
       "      <td>NaN</td>\n",
       "      <td>NaN</td>\n",
       "      <td>0.0</td>\n",
       "      <td>0.0</td>\n",
       "      <td>0.0</td>\n",
       "      <td>NaN</td>\n",
       "      <td>NaN</td>\n",
       "      <td>NaN</td>\n",
       "      <td>NaN</td>\n",
       "      <td>NaN</td>\n",
       "      <td>NaN</td>\n",
       "      <td>NaN</td>\n",
       "      <td>A</td>\n",
       "      <td>098eabcd83d72785beca4cdff3d5cfbc71904a48</td>\n",
       "    </tr>\n",
       "    <tr>\n",
       "      <td>4546</td>\n",
       "      <td>NaN</td>\n",
       "      <td>NaN</td>\n",
       "      <td>0.0</td>\n",
       "      <td>0.0</td>\n",
       "      <td>0.0</td>\n",
       "      <td>NaN</td>\n",
       "      <td>NaN</td>\n",
       "      <td>NaN</td>\n",
       "      <td>NaN</td>\n",
       "      <td>NaN</td>\n",
       "      <td>NaN</td>\n",
       "      <td>NaN</td>\n",
       "      <td>E</td>\n",
       "      <td>b8ec140a86a7a6e569f3eda9ae9083183ca2e386</td>\n",
       "    </tr>\n",
       "    <tr>\n",
       "      <td>4547</td>\n",
       "      <td>NaN</td>\n",
       "      <td>NaN</td>\n",
       "      <td>0.0</td>\n",
       "      <td>0.0</td>\n",
       "      <td>0.0</td>\n",
       "      <td>NaN</td>\n",
       "      <td>NaN</td>\n",
       "      <td>NaN</td>\n",
       "      <td>NaN</td>\n",
       "      <td>NaN</td>\n",
       "      <td>NaN</td>\n",
       "      <td>NaN</td>\n",
       "      <td>F</td>\n",
       "      <td>40a9b86a4efdd7ab5ee6fc26de9a984946896deb</td>\n",
       "    </tr>\n",
       "    <tr>\n",
       "      <td>4549</td>\n",
       "      <td>NaN</td>\n",
       "      <td>NaN</td>\n",
       "      <td>419.9</td>\n",
       "      <td>517.1</td>\n",
       "      <td>0.0</td>\n",
       "      <td>NaN</td>\n",
       "      <td>NaN</td>\n",
       "      <td>NaN</td>\n",
       "      <td>NaN</td>\n",
       "      <td>NaN</td>\n",
       "      <td>NaN</td>\n",
       "      <td>NaN</td>\n",
       "      <td>F</td>\n",
       "      <td>ec73ba109d1a91299e071b2a95f79c36c1c6e069</td>\n",
       "    </tr>\n",
       "    <tr>\n",
       "      <td>4575</td>\n",
       "      <td>NaN</td>\n",
       "      <td>NaN</td>\n",
       "      <td>0.0</td>\n",
       "      <td>0.0</td>\n",
       "      <td>0.0</td>\n",
       "      <td>NaN</td>\n",
       "      <td>NaN</td>\n",
       "      <td>NaN</td>\n",
       "      <td>NaN</td>\n",
       "      <td>NaN</td>\n",
       "      <td>NaN</td>\n",
       "      <td>NaN</td>\n",
       "      <td>B</td>\n",
       "      <td>adf0d15b54317b6564ef56dad2b775bbb0ef50cc</td>\n",
       "    </tr>\n",
       "  </tbody>\n",
       "</table>\n",
       "<p>1199 rows × 14 columns</p>\n",
       "</div>"
      ],
      "text/plain": [
       "      TP_ENSINO  TP_DEPENDENCIA_ADM_ESC  NU_NOTA_CN  NU_NOTA_CH  NU_NOTA_LC  \\\n",
       "3           NaN                     NaN         0.0         0.0         0.0   \n",
       "10          NaN                     NaN         0.0         0.0         0.0   \n",
       "11          NaN                     NaN         0.0         0.0         0.0   \n",
       "16          NaN                     NaN         0.0         0.0         0.0   \n",
       "17          NaN                     NaN         0.0         0.0         0.0   \n",
       "...         ...                     ...         ...         ...         ...   \n",
       "4543        NaN                     NaN         0.0         0.0         0.0   \n",
       "4546        NaN                     NaN         0.0         0.0         0.0   \n",
       "4547        NaN                     NaN         0.0         0.0         0.0   \n",
       "4549        NaN                     NaN       419.9       517.1         0.0   \n",
       "4575        NaN                     NaN         0.0         0.0         0.0   \n",
       "\n",
       "      TP_STATUS_REDACAO  NU_NOTA_COMP1  NU_NOTA_COMP2  NU_NOTA_COMP3  \\\n",
       "3                   NaN            NaN            NaN            NaN   \n",
       "10                  NaN            NaN            NaN            NaN   \n",
       "11                  NaN            NaN            NaN            NaN   \n",
       "16                  NaN            NaN            NaN            NaN   \n",
       "17                  NaN            NaN            NaN            NaN   \n",
       "...                 ...            ...            ...            ...   \n",
       "4543                NaN            NaN            NaN            NaN   \n",
       "4546                NaN            NaN            NaN            NaN   \n",
       "4547                NaN            NaN            NaN            NaN   \n",
       "4549                NaN            NaN            NaN            NaN   \n",
       "4575                NaN            NaN            NaN            NaN   \n",
       "\n",
       "      NU_NOTA_COMP4  NU_NOTA_COMP5  NU_NOTA_REDACAO Q027  \\\n",
       "3               NaN            NaN              NaN  NaN   \n",
       "10              NaN            NaN              NaN  NaN   \n",
       "11              NaN            NaN              NaN    E   \n",
       "16              NaN            NaN              NaN    B   \n",
       "17              NaN            NaN              NaN    F   \n",
       "...             ...            ...              ...  ...   \n",
       "4543            NaN            NaN              NaN    A   \n",
       "4546            NaN            NaN              NaN    E   \n",
       "4547            NaN            NaN              NaN    F   \n",
       "4549            NaN            NaN              NaN    F   \n",
       "4575            NaN            NaN              NaN    B   \n",
       "\n",
       "                                  NU_INSCRICAO  \n",
       "3     70b682d9a3636be23f6120fa9d6b164eb3c6002d  \n",
       "10    8b7c167ea7b55c8168ec60c3851b1b598a8fbd11  \n",
       "11    db4da599aab5bb08dce27094a35fd3e36cd0abce  \n",
       "16    fbfa8cde21a692b51fb86342110b4a334a0fcfdb  \n",
       "17    ca8477c8493b09f34d17bb287f9bacf2dd744c32  \n",
       "...                                        ...  \n",
       "4543  098eabcd83d72785beca4cdff3d5cfbc71904a48  \n",
       "4546  b8ec140a86a7a6e569f3eda9ae9083183ca2e386  \n",
       "4547  40a9b86a4efdd7ab5ee6fc26de9a984946896deb  \n",
       "4549  ec73ba109d1a91299e071b2a95f79c36c1c6e069  \n",
       "4575  adf0d15b54317b6564ef56dad2b775bbb0ef50cc  \n",
       "\n",
       "[1199 rows x 14 columns]"
      ]
     },
     "execution_count": 12,
     "metadata": {},
     "output_type": "execute_result"
    }
   ],
   "source": [
    "test.loc[test.NU_NOTA_COMP1.isnull(),columns_null]"
   ]
  },
  {
   "cell_type": "code",
   "execution_count": 13,
   "metadata": {},
   "outputs": [],
   "source": [
    "#Visualizando os dados de teste, somente para insight\n",
    "columns_nota = [ 'NU_NOTA_COMP1', 'NU_NOTA_REDACAO',\n",
    "                'NU_NOTA_COMP2', 'NU_NOTA_COMP3', 'NU_NOTA_COMP4', 'NU_NOTA_COMP5']"
   ]
  },
  {
   "cell_type": "code",
   "execution_count": 14,
   "metadata": {},
   "outputs": [
    {
     "data": {
      "text/html": [
       "<div>\n",
       "<style scoped>\n",
       "    .dataframe tbody tr th:only-of-type {\n",
       "        vertical-align: middle;\n",
       "    }\n",
       "\n",
       "    .dataframe tbody tr th {\n",
       "        vertical-align: top;\n",
       "    }\n",
       "\n",
       "    .dataframe thead th {\n",
       "        text-align: right;\n",
       "    }\n",
       "</style>\n",
       "<table border=\"1\" class=\"dataframe\">\n",
       "  <thead>\n",
       "    <tr style=\"text-align: right;\">\n",
       "      <th></th>\n",
       "      <th>NU_NOTA_COMP1</th>\n",
       "      <th>NU_NOTA_REDACAO</th>\n",
       "      <th>NU_NOTA_COMP2</th>\n",
       "      <th>NU_NOTA_COMP3</th>\n",
       "      <th>NU_NOTA_COMP4</th>\n",
       "      <th>NU_NOTA_COMP5</th>\n",
       "    </tr>\n",
       "  </thead>\n",
       "  <tbody>\n",
       "    <tr>\n",
       "      <td>count</td>\n",
       "      <td>3377.000000</td>\n",
       "      <td>3377.000000</td>\n",
       "      <td>3377.000000</td>\n",
       "      <td>3377.000000</td>\n",
       "      <td>3377.000000</td>\n",
       "      <td>3377.000000</td>\n",
       "    </tr>\n",
       "    <tr>\n",
       "      <td>mean</td>\n",
       "      <td>119.626888</td>\n",
       "      <td>527.491857</td>\n",
       "      <td>111.915902</td>\n",
       "      <td>106.384365</td>\n",
       "      <td>112.881256</td>\n",
       "      <td>76.683447</td>\n",
       "    </tr>\n",
       "    <tr>\n",
       "      <td>std</td>\n",
       "      <td>29.028146</td>\n",
       "      <td>151.979490</td>\n",
       "      <td>33.296849</td>\n",
       "      <td>33.834492</td>\n",
       "      <td>33.202244</td>\n",
       "      <td>42.985637</td>\n",
       "    </tr>\n",
       "    <tr>\n",
       "      <td>min</td>\n",
       "      <td>0.000000</td>\n",
       "      <td>0.000000</td>\n",
       "      <td>0.000000</td>\n",
       "      <td>0.000000</td>\n",
       "      <td>0.000000</td>\n",
       "      <td>0.000000</td>\n",
       "    </tr>\n",
       "    <tr>\n",
       "      <td>25%</td>\n",
       "      <td>120.000000</td>\n",
       "      <td>440.000000</td>\n",
       "      <td>100.000000</td>\n",
       "      <td>80.000000</td>\n",
       "      <td>100.000000</td>\n",
       "      <td>40.000000</td>\n",
       "    </tr>\n",
       "    <tr>\n",
       "      <td>50%</td>\n",
       "      <td>120.000000</td>\n",
       "      <td>540.000000</td>\n",
       "      <td>120.000000</td>\n",
       "      <td>100.000000</td>\n",
       "      <td>120.000000</td>\n",
       "      <td>80.000000</td>\n",
       "    </tr>\n",
       "    <tr>\n",
       "      <td>75%</td>\n",
       "      <td>140.000000</td>\n",
       "      <td>600.000000</td>\n",
       "      <td>120.000000</td>\n",
       "      <td>120.000000</td>\n",
       "      <td>120.000000</td>\n",
       "      <td>100.000000</td>\n",
       "    </tr>\n",
       "    <tr>\n",
       "      <td>max</td>\n",
       "      <td>200.000000</td>\n",
       "      <td>980.000000</td>\n",
       "      <td>200.000000</td>\n",
       "      <td>200.000000</td>\n",
       "      <td>200.000000</td>\n",
       "      <td>200.000000</td>\n",
       "    </tr>\n",
       "  </tbody>\n",
       "</table>\n",
       "</div>"
      ],
      "text/plain": [
       "       NU_NOTA_COMP1  NU_NOTA_REDACAO  NU_NOTA_COMP2  NU_NOTA_COMP3  \\\n",
       "count    3377.000000      3377.000000    3377.000000    3377.000000   \n",
       "mean      119.626888       527.491857     111.915902     106.384365   \n",
       "std        29.028146       151.979490      33.296849      33.834492   \n",
       "min         0.000000         0.000000       0.000000       0.000000   \n",
       "25%       120.000000       440.000000     100.000000      80.000000   \n",
       "50%       120.000000       540.000000     120.000000     100.000000   \n",
       "75%       140.000000       600.000000     120.000000     120.000000   \n",
       "max       200.000000       980.000000     200.000000     200.000000   \n",
       "\n",
       "       NU_NOTA_COMP4  NU_NOTA_COMP5  \n",
       "count    3377.000000    3377.000000  \n",
       "mean      112.881256      76.683447  \n",
       "std        33.202244      42.985637  \n",
       "min         0.000000       0.000000  \n",
       "25%       100.000000      40.000000  \n",
       "50%       120.000000      80.000000  \n",
       "75%       120.000000     100.000000  \n",
       "max       200.000000     200.000000  "
      ]
     },
     "execution_count": 14,
     "metadata": {},
     "output_type": "execute_result"
    }
   ],
   "source": [
    "test[columns_nota].describe()"
   ]
  },
  {
   "cell_type": "code",
   "execution_count": 15,
   "metadata": {},
   "outputs": [
    {
     "data": {
      "text/html": [
       "<div>\n",
       "<style scoped>\n",
       "    .dataframe tbody tr th:only-of-type {\n",
       "        vertical-align: middle;\n",
       "    }\n",
       "\n",
       "    .dataframe tbody tr th {\n",
       "        vertical-align: top;\n",
       "    }\n",
       "\n",
       "    .dataframe thead th {\n",
       "        text-align: right;\n",
       "    }\n",
       "</style>\n",
       "<table border=\"1\" class=\"dataframe\">\n",
       "  <thead>\n",
       "    <tr style=\"text-align: right;\">\n",
       "      <th></th>\n",
       "      <th>Column</th>\n",
       "      <th>Type</th>\n",
       "      <th>Unique</th>\n",
       "      <th>Nan</th>\n",
       "      <th>Nan_%</th>\n",
       "    </tr>\n",
       "  </thead>\n",
       "  <tbody>\n",
       "    <tr>\n",
       "      <td>TP_ENSINO</td>\n",
       "      <td>TP_ENSINO</td>\n",
       "      <td>float64</td>\n",
       "      <td>3</td>\n",
       "      <td>3096</td>\n",
       "      <td>67.66</td>\n",
       "    </tr>\n",
       "    <tr>\n",
       "      <td>TP_DEPENDENCIA_ADM_ESC</td>\n",
       "      <td>TP_DEPENDENCIA_ADM_ESC</td>\n",
       "      <td>float64</td>\n",
       "      <td>4</td>\n",
       "      <td>3096</td>\n",
       "      <td>67.66</td>\n",
       "    </tr>\n",
       "    <tr>\n",
       "      <td>TP_STATUS_REDACAO</td>\n",
       "      <td>TP_STATUS_REDACAO</td>\n",
       "      <td>float64</td>\n",
       "      <td>9</td>\n",
       "      <td>1199</td>\n",
       "      <td>26.20</td>\n",
       "    </tr>\n",
       "    <tr>\n",
       "      <td>NU_NOTA_COMP1</td>\n",
       "      <td>NU_NOTA_COMP1</td>\n",
       "      <td>float64</td>\n",
       "      <td>10</td>\n",
       "      <td>1199</td>\n",
       "      <td>26.20</td>\n",
       "    </tr>\n",
       "    <tr>\n",
       "      <td>NU_NOTA_COMP2</td>\n",
       "      <td>NU_NOTA_COMP2</td>\n",
       "      <td>float64</td>\n",
       "      <td>10</td>\n",
       "      <td>1199</td>\n",
       "      <td>26.20</td>\n",
       "    </tr>\n",
       "    <tr>\n",
       "      <td>NU_NOTA_COMP3</td>\n",
       "      <td>NU_NOTA_COMP3</td>\n",
       "      <td>float64</td>\n",
       "      <td>11</td>\n",
       "      <td>1199</td>\n",
       "      <td>26.20</td>\n",
       "    </tr>\n",
       "    <tr>\n",
       "      <td>NU_NOTA_COMP4</td>\n",
       "      <td>NU_NOTA_COMP4</td>\n",
       "      <td>float64</td>\n",
       "      <td>11</td>\n",
       "      <td>1199</td>\n",
       "      <td>26.20</td>\n",
       "    </tr>\n",
       "    <tr>\n",
       "      <td>NU_NOTA_COMP5</td>\n",
       "      <td>NU_NOTA_COMP5</td>\n",
       "      <td>float64</td>\n",
       "      <td>11</td>\n",
       "      <td>1199</td>\n",
       "      <td>26.20</td>\n",
       "    </tr>\n",
       "    <tr>\n",
       "      <td>NU_NOTA_REDACAO</td>\n",
       "      <td>NU_NOTA_REDACAO</td>\n",
       "      <td>float64</td>\n",
       "      <td>44</td>\n",
       "      <td>1199</td>\n",
       "      <td>26.20</td>\n",
       "    </tr>\n",
       "    <tr>\n",
       "      <td>Q027</td>\n",
       "      <td>Q027</td>\n",
       "      <td>object</td>\n",
       "      <td>13</td>\n",
       "      <td>2488</td>\n",
       "      <td>54.37</td>\n",
       "    </tr>\n",
       "  </tbody>\n",
       "</table>\n",
       "</div>"
      ],
      "text/plain": [
       "                                        Column     Type  Unique   Nan  Nan_%\n",
       "TP_ENSINO                            TP_ENSINO  float64       3  3096  67.66\n",
       "TP_DEPENDENCIA_ADM_ESC  TP_DEPENDENCIA_ADM_ESC  float64       4  3096  67.66\n",
       "TP_STATUS_REDACAO            TP_STATUS_REDACAO  float64       9  1199  26.20\n",
       "NU_NOTA_COMP1                    NU_NOTA_COMP1  float64      10  1199  26.20\n",
       "NU_NOTA_COMP2                    NU_NOTA_COMP2  float64      10  1199  26.20\n",
       "NU_NOTA_COMP3                    NU_NOTA_COMP3  float64      11  1199  26.20\n",
       "NU_NOTA_COMP4                    NU_NOTA_COMP4  float64      11  1199  26.20\n",
       "NU_NOTA_COMP5                    NU_NOTA_COMP5  float64      11  1199  26.20\n",
       "NU_NOTA_REDACAO                NU_NOTA_REDACAO  float64      44  1199  26.20\n",
       "Q027                                      Q027   object      13  2488  54.37"
      ]
     },
     "execution_count": 15,
     "metadata": {},
     "output_type": "execute_result"
    }
   ],
   "source": [
    "# Chamada classe para criação de dataframe auxiliar\n",
    "test_aux = aux_dataframe(test)\n",
    "# Lista somente colunas que possuem dados Nan\n",
    "test_aux[test_aux['Nan']!=0]"
   ]
  },
  {
   "cell_type": "code",
   "execution_count": 16,
   "metadata": {},
   "outputs": [],
   "source": [
    "columns_to_work = list(test_aux.index)"
   ]
  },
  {
   "cell_type": "markdown",
   "metadata": {},
   "source": [
    "### Dados de treino\n",
    "Verificando colunas nulas.\n",
    "Removendo colunas que não fazer parte dos dados de teste.\n",
    "Preenchendo NU_NOTA_CN e NU_NOTA_CH com a nota média."
   ]
  },
  {
   "cell_type": "code",
   "execution_count": 17,
   "metadata": {},
   "outputs": [],
   "source": [
    "treino = pd.read_csv('train.csv')"
   ]
  },
  {
   "cell_type": "code",
   "execution_count": 18,
   "metadata": {},
   "outputs": [
    {
     "data": {
      "text/plain": [
       "(13730, 167)"
      ]
     },
     "execution_count": 18,
     "metadata": {},
     "output_type": "execute_result"
    }
   ],
   "source": [
    "treino.shape"
   ]
  },
  {
   "cell_type": "code",
   "execution_count": 19,
   "metadata": {},
   "outputs": [
    {
     "name": "stdout",
     "output_type": "stream",
     "text": [
      "0    3592\n",
      "2       5\n",
      "Name: TP_PRESENCA_MT, dtype: int64\n"
     ]
    }
   ],
   "source": [
    "# A coluna TP_PRESENCA_MT não esta presente na base de test, portanto não será carregada nos dados de treino. \n",
    "# Mas serão removidos todos os registros cujo NU_NOTA_MT seja null, pois estes alunos\n",
    "# não compareceram ou foram eliminados na prova.\n",
    "print(treino.loc[treino.NU_NOTA_MT.isnull(), 'TP_PRESENCA_MT'].value_counts())"
   ]
  },
  {
   "cell_type": "code",
   "execution_count": 20,
   "metadata": {
    "scrolled": true
   },
   "outputs": [],
   "source": [
    "# Dataframe de treino somente com as colunas presente no dataframe de test\n",
    "columns_to_work.append('NU_NOTA_MT')\n",
    "treino1 = treino[columns_to_work]"
   ]
  },
  {
   "cell_type": "code",
   "execution_count": 21,
   "metadata": {},
   "outputs": [
    {
     "data": {
      "text/html": [
       "<div>\n",
       "<style scoped>\n",
       "    .dataframe tbody tr th:only-of-type {\n",
       "        vertical-align: middle;\n",
       "    }\n",
       "\n",
       "    .dataframe tbody tr th {\n",
       "        vertical-align: top;\n",
       "    }\n",
       "\n",
       "    .dataframe thead th {\n",
       "        text-align: right;\n",
       "    }\n",
       "</style>\n",
       "<table border=\"1\" class=\"dataframe\">\n",
       "  <thead>\n",
       "    <tr style=\"text-align: right;\">\n",
       "      <th></th>\n",
       "      <th>NU_INSCRICAO</th>\n",
       "      <th>CO_UF_RESIDENCIA</th>\n",
       "      <th>SG_UF_RESIDENCIA</th>\n",
       "      <th>NU_IDADE</th>\n",
       "      <th>TP_SEXO</th>\n",
       "      <th>TP_COR_RACA</th>\n",
       "      <th>TP_NACIONALIDADE</th>\n",
       "      <th>TP_ST_CONCLUSAO</th>\n",
       "      <th>TP_ANO_CONCLUIU</th>\n",
       "      <th>TP_ESCOLA</th>\n",
       "      <th>...</th>\n",
       "      <th>NU_NOTA_REDACAO</th>\n",
       "      <th>Q001</th>\n",
       "      <th>Q002</th>\n",
       "      <th>Q006</th>\n",
       "      <th>Q024</th>\n",
       "      <th>Q025</th>\n",
       "      <th>Q026</th>\n",
       "      <th>Q027</th>\n",
       "      <th>Q047</th>\n",
       "      <th>NU_NOTA_MT</th>\n",
       "    </tr>\n",
       "  </thead>\n",
       "  <tbody>\n",
       "    <tr>\n",
       "      <td>0</td>\n",
       "      <td>ed50e8aaa58e7a806c337585efee9ca41f1eb1ad</td>\n",
       "      <td>43</td>\n",
       "      <td>RS</td>\n",
       "      <td>24</td>\n",
       "      <td>M</td>\n",
       "      <td>1</td>\n",
       "      <td>1</td>\n",
       "      <td>1</td>\n",
       "      <td>4</td>\n",
       "      <td>1</td>\n",
       "      <td>...</td>\n",
       "      <td>520.0</td>\n",
       "      <td>D</td>\n",
       "      <td>D</td>\n",
       "      <td>C</td>\n",
       "      <td>A</td>\n",
       "      <td>A</td>\n",
       "      <td>C</td>\n",
       "      <td>H</td>\n",
       "      <td>A</td>\n",
       "      <td>399.4</td>\n",
       "    </tr>\n",
       "    <tr>\n",
       "      <td>1</td>\n",
       "      <td>2c3acac4b33ec2b195d77e7c04a2d75727fad723</td>\n",
       "      <td>23</td>\n",
       "      <td>CE</td>\n",
       "      <td>17</td>\n",
       "      <td>F</td>\n",
       "      <td>3</td>\n",
       "      <td>1</td>\n",
       "      <td>2</td>\n",
       "      <td>0</td>\n",
       "      <td>2</td>\n",
       "      <td>...</td>\n",
       "      <td>580.0</td>\n",
       "      <td>A</td>\n",
       "      <td>A</td>\n",
       "      <td>B</td>\n",
       "      <td>A</td>\n",
       "      <td>A</td>\n",
       "      <td>A</td>\n",
       "      <td>NaN</td>\n",
       "      <td>A</td>\n",
       "      <td>459.8</td>\n",
       "    </tr>\n",
       "    <tr>\n",
       "      <td>2</td>\n",
       "      <td>f4545f8ccb9ff5c8aad7d32951b3f251a26e6568</td>\n",
       "      <td>23</td>\n",
       "      <td>CE</td>\n",
       "      <td>21</td>\n",
       "      <td>F</td>\n",
       "      <td>3</td>\n",
       "      <td>1</td>\n",
       "      <td>3</td>\n",
       "      <td>0</td>\n",
       "      <td>1</td>\n",
       "      <td>...</td>\n",
       "      <td>NaN</td>\n",
       "      <td>D</td>\n",
       "      <td>D</td>\n",
       "      <td>C</td>\n",
       "      <td>A</td>\n",
       "      <td>A</td>\n",
       "      <td>A</td>\n",
       "      <td>NaN</td>\n",
       "      <td>A</td>\n",
       "      <td>NaN</td>\n",
       "    </tr>\n",
       "    <tr>\n",
       "      <td>3</td>\n",
       "      <td>3d6ec248fef899c414e77f82d5c6d2bffbeaf7fe</td>\n",
       "      <td>33</td>\n",
       "      <td>RJ</td>\n",
       "      <td>25</td>\n",
       "      <td>F</td>\n",
       "      <td>0</td>\n",
       "      <td>1</td>\n",
       "      <td>1</td>\n",
       "      <td>9</td>\n",
       "      <td>1</td>\n",
       "      <td>...</td>\n",
       "      <td>NaN</td>\n",
       "      <td>H</td>\n",
       "      <td>E</td>\n",
       "      <td>E</td>\n",
       "      <td>C</td>\n",
       "      <td>B</td>\n",
       "      <td>C</td>\n",
       "      <td>F</td>\n",
       "      <td>D</td>\n",
       "      <td>NaN</td>\n",
       "    </tr>\n",
       "    <tr>\n",
       "      <td>4</td>\n",
       "      <td>bf896ac8d3ecadd6dba1dfbf50110afcbf5d3268</td>\n",
       "      <td>13</td>\n",
       "      <td>AM</td>\n",
       "      <td>28</td>\n",
       "      <td>M</td>\n",
       "      <td>2</td>\n",
       "      <td>1</td>\n",
       "      <td>1</td>\n",
       "      <td>4</td>\n",
       "      <td>1</td>\n",
       "      <td>...</td>\n",
       "      <td>NaN</td>\n",
       "      <td>E</td>\n",
       "      <td>D</td>\n",
       "      <td>C</td>\n",
       "      <td>A</td>\n",
       "      <td>A</td>\n",
       "      <td>B</td>\n",
       "      <td>F</td>\n",
       "      <td>A</td>\n",
       "      <td>NaN</td>\n",
       "    </tr>\n",
       "  </tbody>\n",
       "</table>\n",
       "<p>5 rows × 48 columns</p>\n",
       "</div>"
      ],
      "text/plain": [
       "                               NU_INSCRICAO  CO_UF_RESIDENCIA  \\\n",
       "0  ed50e8aaa58e7a806c337585efee9ca41f1eb1ad                43   \n",
       "1  2c3acac4b33ec2b195d77e7c04a2d75727fad723                23   \n",
       "2  f4545f8ccb9ff5c8aad7d32951b3f251a26e6568                23   \n",
       "3  3d6ec248fef899c414e77f82d5c6d2bffbeaf7fe                33   \n",
       "4  bf896ac8d3ecadd6dba1dfbf50110afcbf5d3268                13   \n",
       "\n",
       "  SG_UF_RESIDENCIA  NU_IDADE TP_SEXO  TP_COR_RACA  TP_NACIONALIDADE  \\\n",
       "0               RS        24       M            1                 1   \n",
       "1               CE        17       F            3                 1   \n",
       "2               CE        21       F            3                 1   \n",
       "3               RJ        25       F            0                 1   \n",
       "4               AM        28       M            2                 1   \n",
       "\n",
       "   TP_ST_CONCLUSAO  TP_ANO_CONCLUIU  TP_ESCOLA  ...  NU_NOTA_REDACAO  Q001  \\\n",
       "0                1                4          1  ...            520.0     D   \n",
       "1                2                0          2  ...            580.0     A   \n",
       "2                3                0          1  ...              NaN     D   \n",
       "3                1                9          1  ...              NaN     H   \n",
       "4                1                4          1  ...              NaN     E   \n",
       "\n",
       "   Q002  Q006  Q024  Q025  Q026  Q027  Q047  NU_NOTA_MT  \n",
       "0     D     C     A     A     C     H     A       399.4  \n",
       "1     A     B     A     A     A   NaN     A       459.8  \n",
       "2     D     C     A     A     A   NaN     A         NaN  \n",
       "3     E     E     C     B     C     F     D         NaN  \n",
       "4     D     C     A     A     B     F     A         NaN  \n",
       "\n",
       "[5 rows x 48 columns]"
      ]
     },
     "execution_count": 21,
     "metadata": {},
     "output_type": "execute_result"
    }
   ],
   "source": [
    "treino1.head()"
   ]
  },
  {
   "cell_type": "code",
   "execution_count": 22,
   "metadata": {},
   "outputs": [],
   "source": [
    "# Remove registros com NU_NOTA_MT = 'Nan'\n",
    "treino1 = treino1.drop(treino1[treino1.NU_NOTA_MT.isnull()].index)"
   ]
  },
  {
   "cell_type": "code",
   "execution_count": 23,
   "metadata": {},
   "outputs": [
    {
     "data": {
      "text/html": [
       "<div>\n",
       "<style scoped>\n",
       "    .dataframe tbody tr th:only-of-type {\n",
       "        vertical-align: middle;\n",
       "    }\n",
       "\n",
       "    .dataframe tbody tr th {\n",
       "        vertical-align: top;\n",
       "    }\n",
       "\n",
       "    .dataframe thead th {\n",
       "        text-align: right;\n",
       "    }\n",
       "</style>\n",
       "<table border=\"1\" class=\"dataframe\">\n",
       "  <thead>\n",
       "    <tr style=\"text-align: right;\">\n",
       "      <th></th>\n",
       "      <th>Column</th>\n",
       "      <th>Type</th>\n",
       "      <th>Unique</th>\n",
       "      <th>Nan</th>\n",
       "      <th>Nan_%</th>\n",
       "    </tr>\n",
       "  </thead>\n",
       "  <tbody>\n",
       "    <tr>\n",
       "      <td>TP_ENSINO</td>\n",
       "      <td>TP_ENSINO</td>\n",
       "      <td>float64</td>\n",
       "      <td>3</td>\n",
       "      <td>6494</td>\n",
       "      <td>64.09</td>\n",
       "    </tr>\n",
       "    <tr>\n",
       "      <td>TP_DEPENDENCIA_ADM_ESC</td>\n",
       "      <td>TP_DEPENDENCIA_ADM_ESC</td>\n",
       "      <td>float64</td>\n",
       "      <td>4</td>\n",
       "      <td>6494</td>\n",
       "      <td>64.09</td>\n",
       "    </tr>\n",
       "    <tr>\n",
       "      <td>NU_NOTA_CN</td>\n",
       "      <td>NU_NOTA_CN</td>\n",
       "      <td>float64</td>\n",
       "      <td>2680</td>\n",
       "      <td>36</td>\n",
       "      <td>0.36</td>\n",
       "    </tr>\n",
       "    <tr>\n",
       "      <td>NU_NOTA_CH</td>\n",
       "      <td>NU_NOTA_CH</td>\n",
       "      <td>float64</td>\n",
       "      <td>2963</td>\n",
       "      <td>36</td>\n",
       "      <td>0.36</td>\n",
       "    </tr>\n",
       "    <tr>\n",
       "      <td>Q027</td>\n",
       "      <td>Q027</td>\n",
       "      <td>object</td>\n",
       "      <td>13</td>\n",
       "      <td>6126</td>\n",
       "      <td>60.46</td>\n",
       "    </tr>\n",
       "  </tbody>\n",
       "</table>\n",
       "</div>"
      ],
      "text/plain": [
       "                                        Column     Type  Unique   Nan  Nan_%\n",
       "TP_ENSINO                            TP_ENSINO  float64       3  6494  64.09\n",
       "TP_DEPENDENCIA_ADM_ESC  TP_DEPENDENCIA_ADM_ESC  float64       4  6494  64.09\n",
       "NU_NOTA_CN                          NU_NOTA_CN  float64    2680    36   0.36\n",
       "NU_NOTA_CH                          NU_NOTA_CH  float64    2963    36   0.36\n",
       "Q027                                      Q027   object      13  6126  60.46"
      ]
     },
     "execution_count": 23,
     "metadata": {},
     "output_type": "execute_result"
    }
   ],
   "source": [
    "treino1_aux = aux_dataframe(treino1)\n",
    "treino1_aux[treino1_aux.Nan !=0]"
   ]
  },
  {
   "cell_type": "code",
   "execution_count": 24,
   "metadata": {},
   "outputs": [],
   "source": [
    "# Remove os 36 registros \n",
    "treino1 = treino1.drop(treino1[treino1.NU_NOTA_CN.isna()].index)"
   ]
  },
  {
   "cell_type": "code",
   "execution_count": 25,
   "metadata": {},
   "outputs": [
    {
     "data": {
      "text/html": [
       "<div>\n",
       "<style scoped>\n",
       "    .dataframe tbody tr th:only-of-type {\n",
       "        vertical-align: middle;\n",
       "    }\n",
       "\n",
       "    .dataframe tbody tr th {\n",
       "        vertical-align: top;\n",
       "    }\n",
       "\n",
       "    .dataframe thead th {\n",
       "        text-align: right;\n",
       "    }\n",
       "</style>\n",
       "<table border=\"1\" class=\"dataframe\">\n",
       "  <thead>\n",
       "    <tr style=\"text-align: right;\">\n",
       "      <th></th>\n",
       "      <th>Column</th>\n",
       "      <th>Type</th>\n",
       "      <th>Unique</th>\n",
       "      <th>Nan</th>\n",
       "      <th>Nan_%</th>\n",
       "    </tr>\n",
       "  </thead>\n",
       "  <tbody>\n",
       "    <tr>\n",
       "      <td>TP_ENSINO</td>\n",
       "      <td>TP_ENSINO</td>\n",
       "      <td>float64</td>\n",
       "      <td>3</td>\n",
       "      <td>6469</td>\n",
       "      <td>64.07</td>\n",
       "    </tr>\n",
       "    <tr>\n",
       "      <td>TP_DEPENDENCIA_ADM_ESC</td>\n",
       "      <td>TP_DEPENDENCIA_ADM_ESC</td>\n",
       "      <td>float64</td>\n",
       "      <td>4</td>\n",
       "      <td>6469</td>\n",
       "      <td>64.07</td>\n",
       "    </tr>\n",
       "    <tr>\n",
       "      <td>Q027</td>\n",
       "      <td>Q027</td>\n",
       "      <td>object</td>\n",
       "      <td>13</td>\n",
       "      <td>6106</td>\n",
       "      <td>60.47</td>\n",
       "    </tr>\n",
       "  </tbody>\n",
       "</table>\n",
       "</div>"
      ],
      "text/plain": [
       "                                        Column     Type  Unique   Nan  Nan_%\n",
       "TP_ENSINO                            TP_ENSINO  float64       3  6469  64.07\n",
       "TP_DEPENDENCIA_ADM_ESC  TP_DEPENDENCIA_ADM_ESC  float64       4  6469  64.07\n",
       "Q027                                      Q027   object      13  6106  60.47"
      ]
     },
     "execution_count": 25,
     "metadata": {},
     "output_type": "execute_result"
    }
   ],
   "source": [
    "treino1_aux = aux_dataframe(treino1)\n",
    "treino1_aux[treino1_aux.Nan!=0]"
   ]
  },
  {
   "cell_type": "code",
   "execution_count": 26,
   "metadata": {},
   "outputs": [
    {
     "data": {
      "image/png": "[encoded data removed]",
      "text/plain": [
       "<Figure size 720x720 with 2 Axes>"
      ]
     },
     "metadata": {
      "needs_background": "light"
     },
     "output_type": "display_data"
    }
   ],
   "source": [
    "# Visualiza correlação das variáveis numéricas\n",
    "type_number = treino1.select_dtypes(exclude=[object]).columns\n",
    "fig, ax = plt.subplots(figsize=(10,10)) \n",
    "corr = treino1[type_number].corr()\n",
    "sns.heatmap(corr, ax=ax,  cmap = 'coolwarm')\n",
    "plt.title('Matrix de Correlação\\n', fontsize=18)\n",
    "plt.show()"
   ]
  },
  {
   "cell_type": "code",
   "execution_count": 27,
   "metadata": {},
   "outputs": [
    {
     "data": {
      "image/png": "[encoded data removed]",
      "text/plain": [
       "<Figure size 288x720 with 2 Axes>"
      ]
     },
     "metadata": {
      "needs_background": "light"
     },
     "output_type": "display_data"
    }
   ],
   "source": [
    "# Visualização detalhada da correlação das variaveis independentes com a variavel target \n",
    "plt.figure(figsize(4,10))\n",
    "cmap=sns.diverging_palette(20, 220, n=200)\n",
    "sns.heatmap(corr[['NU_NOTA_MT']].sort_values('NU_NOTA_MT',ascending=False),\n",
    "            cmap = 'coolwarm',\n",
    "            annot=True,\n",
    "            fmt='.2f'\n",
    "           )\n",
    "plt.title('Correlação NU_NOTA_MT X Variáveis Independentes\\n', fontsize=18)\n",
    "plt.show()"
   ]
  },
  {
   "cell_type": "markdown",
   "metadata": {},
   "source": [
    "- As variáveis que possuem pouca correlação e que possuem muitos dados nulos não serão utilizados como \n",
    "parâmetro no algoritmo de ML"
   ]
  },
  {
   "cell_type": "code",
   "execution_count": 28,
   "metadata": {},
   "outputs": [],
   "source": [
    "# Juntar os dados de treino e teste para facilitar as transformações\n",
    "# Nesta junção as NU_NOTA_MT do index test serão NAN\n",
    "# Cria um dataframe multindex\n",
    "df = pd.concat([treino1, test], keys=['train', 'test'], sort=True)"
   ]
  },
  {
   "cell_type": "code",
   "execution_count": 29,
   "metadata": {},
   "outputs": [
    {
     "data": {
      "text/html": [
       "<div>\n",
       "<style scoped>\n",
       "    .dataframe tbody tr th:only-of-type {\n",
       "        vertical-align: middle;\n",
       "    }\n",
       "\n",
       "    .dataframe tbody tr th {\n",
       "        vertical-align: top;\n",
       "    }\n",
       "\n",
       "    .dataframe thead th {\n",
       "        text-align: right;\n",
       "    }\n",
       "</style>\n",
       "<table border=\"1\" class=\"dataframe\">\n",
       "  <thead>\n",
       "    <tr style=\"text-align: right;\">\n",
       "      <th></th>\n",
       "      <th></th>\n",
       "      <th>CO_PROVA_CH</th>\n",
       "      <th>CO_PROVA_CN</th>\n",
       "      <th>CO_PROVA_LC</th>\n",
       "      <th>CO_PROVA_MT</th>\n",
       "      <th>CO_UF_RESIDENCIA</th>\n",
       "      <th>IN_BAIXA_VISAO</th>\n",
       "      <th>IN_CEGUEIRA</th>\n",
       "      <th>IN_DISCALCULIA</th>\n",
       "      <th>IN_DISLEXIA</th>\n",
       "      <th>IN_GESTANTE</th>\n",
       "      <th>...</th>\n",
       "      <th>TP_ENSINO</th>\n",
       "      <th>TP_ESCOLA</th>\n",
       "      <th>TP_LINGUA</th>\n",
       "      <th>TP_NACIONALIDADE</th>\n",
       "      <th>TP_PRESENCA_CH</th>\n",
       "      <th>TP_PRESENCA_CN</th>\n",
       "      <th>TP_PRESENCA_LC</th>\n",
       "      <th>TP_SEXO</th>\n",
       "      <th>TP_STATUS_REDACAO</th>\n",
       "      <th>TP_ST_CONCLUSAO</th>\n",
       "    </tr>\n",
       "  </thead>\n",
       "  <tbody>\n",
       "    <tr>\n",
       "      <td rowspan=\"5\" valign=\"top\">train</td>\n",
       "      <td>0</td>\n",
       "      <td>9cd70f1b922e02bd33453b3f607f5a644fb9b1b8</td>\n",
       "      <td>16f84b7b3d2aeaff7d2f01297e6b3d0e25c77bb2</td>\n",
       "      <td>01af53cd161a420fff1767129c10de560cc264dd</td>\n",
       "      <td>97caab1e1533dba217deb7ef41490f52e459ab01</td>\n",
       "      <td>43</td>\n",
       "      <td>0</td>\n",
       "      <td>0</td>\n",
       "      <td>0</td>\n",
       "      <td>0</td>\n",
       "      <td>0</td>\n",
       "      <td>...</td>\n",
       "      <td>NaN</td>\n",
       "      <td>1</td>\n",
       "      <td>1</td>\n",
       "      <td>1</td>\n",
       "      <td>1</td>\n",
       "      <td>1</td>\n",
       "      <td>1</td>\n",
       "      <td>M</td>\n",
       "      <td>1.0</td>\n",
       "      <td>1</td>\n",
       "    </tr>\n",
       "    <tr>\n",
       "      <td>1</td>\n",
       "      <td>909237ab0d84688e10c0470e2997348aff585273</td>\n",
       "      <td>b9b06ce8c319a3df2158ea3d0aef0f7d3eecaed7</td>\n",
       "      <td>01af53cd161a420fff1767129c10de560cc264dd</td>\n",
       "      <td>97caab1e1533dba217deb7ef41490f52e459ab01</td>\n",
       "      <td>23</td>\n",
       "      <td>0</td>\n",
       "      <td>0</td>\n",
       "      <td>0</td>\n",
       "      <td>0</td>\n",
       "      <td>0</td>\n",
       "      <td>...</td>\n",
       "      <td>1.0</td>\n",
       "      <td>2</td>\n",
       "      <td>1</td>\n",
       "      <td>1</td>\n",
       "      <td>1</td>\n",
       "      <td>1</td>\n",
       "      <td>1</td>\n",
       "      <td>F</td>\n",
       "      <td>1.0</td>\n",
       "      <td>2</td>\n",
       "    </tr>\n",
       "    <tr>\n",
       "      <td>5</td>\n",
       "      <td>f48d390ab6a2428e659c37fb8a9d00afde621889</td>\n",
       "      <td>c8328ebc6f3238e06076c481bc1b82b8301e7a3f</td>\n",
       "      <td>01abbb7f1a90505385f44eec9905f82ca2a42cfd</td>\n",
       "      <td>81d0ee00ef42a7c23eb04496458c03d4c5b9c31a</td>\n",
       "      <td>29</td>\n",
       "      <td>0</td>\n",
       "      <td>0</td>\n",
       "      <td>0</td>\n",
       "      <td>0</td>\n",
       "      <td>0</td>\n",
       "      <td>...</td>\n",
       "      <td>NaN</td>\n",
       "      <td>1</td>\n",
       "      <td>0</td>\n",
       "      <td>1</td>\n",
       "      <td>1</td>\n",
       "      <td>1</td>\n",
       "      <td>1</td>\n",
       "      <td>F</td>\n",
       "      <td>1.0</td>\n",
       "      <td>1</td>\n",
       "    </tr>\n",
       "    <tr>\n",
       "      <td>6</td>\n",
       "      <td>942ab3dc020af4cf53740b6b07e9dd7060b24164</td>\n",
       "      <td>66b1dad288e13be0992bae01e81f71eca1c6e8a6</td>\n",
       "      <td>5aebe5cad7fabc1545ac7fba07a4e6177f98483c</td>\n",
       "      <td>767a32545304ed293242d528f54d4edb1369f910</td>\n",
       "      <td>51</td>\n",
       "      <td>0</td>\n",
       "      <td>0</td>\n",
       "      <td>0</td>\n",
       "      <td>0</td>\n",
       "      <td>0</td>\n",
       "      <td>...</td>\n",
       "      <td>1.0</td>\n",
       "      <td>2</td>\n",
       "      <td>0</td>\n",
       "      <td>1</td>\n",
       "      <td>1</td>\n",
       "      <td>1</td>\n",
       "      <td>1</td>\n",
       "      <td>F</td>\n",
       "      <td>1.0</td>\n",
       "      <td>2</td>\n",
       "    </tr>\n",
       "    <tr>\n",
       "      <td>7</td>\n",
       "      <td>909237ab0d84688e10c0470e2997348aff585273</td>\n",
       "      <td>b9b06ce8c319a3df2158ea3d0aef0f7d3eecaed7</td>\n",
       "      <td>72f80e4b3150c627c7ffc93cfe0fa13a9989b610</td>\n",
       "      <td>577f8968d95046f5eb5cc158608e12fa9ba34c85</td>\n",
       "      <td>43</td>\n",
       "      <td>0</td>\n",
       "      <td>0</td>\n",
       "      <td>0</td>\n",
       "      <td>0</td>\n",
       "      <td>0</td>\n",
       "      <td>...</td>\n",
       "      <td>NaN</td>\n",
       "      <td>1</td>\n",
       "      <td>0</td>\n",
       "      <td>1</td>\n",
       "      <td>1</td>\n",
       "      <td>1</td>\n",
       "      <td>1</td>\n",
       "      <td>F</td>\n",
       "      <td>1.0</td>\n",
       "      <td>1</td>\n",
       "    </tr>\n",
       "  </tbody>\n",
       "</table>\n",
       "<p>5 rows × 48 columns</p>\n",
       "</div>"
      ],
      "text/plain": [
       "                                      CO_PROVA_CH  \\\n",
       "train 0  9cd70f1b922e02bd33453b3f607f5a644fb9b1b8   \n",
       "      1  909237ab0d84688e10c0470e2997348aff585273   \n",
       "      5  f48d390ab6a2428e659c37fb8a9d00afde621889   \n",
       "      6  942ab3dc020af4cf53740b6b07e9dd7060b24164   \n",
       "      7  909237ab0d84688e10c0470e2997348aff585273   \n",
       "\n",
       "                                      CO_PROVA_CN  \\\n",
       "train 0  16f84b7b3d2aeaff7d2f01297e6b3d0e25c77bb2   \n",
       "      1  b9b06ce8c319a3df2158ea3d0aef0f7d3eecaed7   \n",
       "      5  c8328ebc6f3238e06076c481bc1b82b8301e7a3f   \n",
       "      6  66b1dad288e13be0992bae01e81f71eca1c6e8a6   \n",
       "      7  b9b06ce8c319a3df2158ea3d0aef0f7d3eecaed7   \n",
       "\n",
       "                                      CO_PROVA_LC  \\\n",
       "train 0  01af53cd161a420fff1767129c10de560cc264dd   \n",
       "      1  01af53cd161a420fff1767129c10de560cc264dd   \n",
       "      5  01abbb7f1a90505385f44eec9905f82ca2a42cfd   \n",
       "      6  5aebe5cad7fabc1545ac7fba07a4e6177f98483c   \n",
       "      7  72f80e4b3150c627c7ffc93cfe0fa13a9989b610   \n",
       "\n",
       "                                      CO_PROVA_MT  CO_UF_RESIDENCIA  \\\n",
       "train 0  97caab1e1533dba217deb7ef41490f52e459ab01                43   \n",
       "      1  97caab1e1533dba217deb7ef41490f52e459ab01                23   \n",
       "      5  81d0ee00ef42a7c23eb04496458c03d4c5b9c31a                29   \n",
       "      6  767a32545304ed293242d528f54d4edb1369f910                51   \n",
       "      7  577f8968d95046f5eb5cc158608e12fa9ba34c85                43   \n",
       "\n",
       "         IN_BAIXA_VISAO  IN_CEGUEIRA  IN_DISCALCULIA  IN_DISLEXIA  \\\n",
       "train 0               0            0               0            0   \n",
       "      1               0            0               0            0   \n",
       "      5               0            0               0            0   \n",
       "      6               0            0               0            0   \n",
       "      7               0            0               0            0   \n",
       "\n",
       "         IN_GESTANTE  ...  TP_ENSINO  TP_ESCOLA  TP_LINGUA  TP_NACIONALIDADE  \\\n",
       "train 0            0  ...        NaN          1          1                 1   \n",
       "      1            0  ...        1.0          2          1                 1   \n",
       "      5            0  ...        NaN          1          0                 1   \n",
       "      6            0  ...        1.0          2          0                 1   \n",
       "      7            0  ...        NaN          1          0                 1   \n",
       "\n",
       "         TP_PRESENCA_CH TP_PRESENCA_CN  TP_PRESENCA_LC  TP_SEXO  \\\n",
       "train 0               1              1               1        M   \n",
       "      1               1              1               1        F   \n",
       "      5               1              1               1        F   \n",
       "      6               1              1               1        F   \n",
       "      7               1              1               1        F   \n",
       "\n",
       "         TP_STATUS_REDACAO  TP_ST_CONCLUSAO  \n",
       "train 0                1.0                1  \n",
       "      1                1.0                2  \n",
       "      5                1.0                1  \n",
       "      6                1.0                2  \n",
       "      7                1.0                1  \n",
       "\n",
       "[5 rows x 48 columns]"
      ]
     },
     "execution_count": 29,
     "metadata": {},
     "output_type": "execute_result"
    }
   ],
   "source": [
    "df.head()"
   ]
  },
  {
   "cell_type": "code",
   "execution_count": 30,
   "metadata": {},
   "outputs": [
    {
     "data": {
      "text/html": [
       "<div>\n",
       "<style scoped>\n",
       "    .dataframe tbody tr th:only-of-type {\n",
       "        vertical-align: middle;\n",
       "    }\n",
       "\n",
       "    .dataframe tbody tr th {\n",
       "        vertical-align: top;\n",
       "    }\n",
       "\n",
       "    .dataframe thead th {\n",
       "        text-align: right;\n",
       "    }\n",
       "</style>\n",
       "<table border=\"1\" class=\"dataframe\">\n",
       "  <thead>\n",
       "    <tr style=\"text-align: right;\">\n",
       "      <th></th>\n",
       "      <th></th>\n",
       "      <th>CO_PROVA_CH</th>\n",
       "      <th>CO_PROVA_CN</th>\n",
       "      <th>CO_PROVA_LC</th>\n",
       "      <th>CO_PROVA_MT</th>\n",
       "      <th>CO_UF_RESIDENCIA</th>\n",
       "      <th>IN_BAIXA_VISAO</th>\n",
       "      <th>IN_CEGUEIRA</th>\n",
       "      <th>IN_DISCALCULIA</th>\n",
       "      <th>IN_DISLEXIA</th>\n",
       "      <th>IN_GESTANTE</th>\n",
       "      <th>...</th>\n",
       "      <th>TP_ENSINO</th>\n",
       "      <th>TP_ESCOLA</th>\n",
       "      <th>TP_LINGUA</th>\n",
       "      <th>TP_NACIONALIDADE</th>\n",
       "      <th>TP_PRESENCA_CH</th>\n",
       "      <th>TP_PRESENCA_CN</th>\n",
       "      <th>TP_PRESENCA_LC</th>\n",
       "      <th>TP_SEXO</th>\n",
       "      <th>TP_STATUS_REDACAO</th>\n",
       "      <th>TP_ST_CONCLUSAO</th>\n",
       "    </tr>\n",
       "  </thead>\n",
       "  <tbody>\n",
       "    <tr>\n",
       "      <td rowspan=\"5\" valign=\"top\">test</td>\n",
       "      <td>4571</td>\n",
       "      <td>9cd70f1b922e02bd33453b3f607f5a644fb9b1b8</td>\n",
       "      <td>16f84b7b3d2aeaff7d2f01297e6b3d0e25c77bb2</td>\n",
       "      <td>01abbb7f1a90505385f44eec9905f82ca2a42cfd</td>\n",
       "      <td>81d0ee00ef42a7c23eb04496458c03d4c5b9c31a</td>\n",
       "      <td>41</td>\n",
       "      <td>0</td>\n",
       "      <td>0</td>\n",
       "      <td>0</td>\n",
       "      <td>0</td>\n",
       "      <td>0</td>\n",
       "      <td>...</td>\n",
       "      <td>1.0</td>\n",
       "      <td>2</td>\n",
       "      <td>0</td>\n",
       "      <td>1</td>\n",
       "      <td>1</td>\n",
       "      <td>1</td>\n",
       "      <td>1</td>\n",
       "      <td>F</td>\n",
       "      <td>1.0</td>\n",
       "      <td>2</td>\n",
       "    </tr>\n",
       "    <tr>\n",
       "      <td>4572</td>\n",
       "      <td>9cd70f1b922e02bd33453b3f607f5a644fb9b1b8</td>\n",
       "      <td>16f84b7b3d2aeaff7d2f01297e6b3d0e25c77bb2</td>\n",
       "      <td>72f80e4b3150c627c7ffc93cfe0fa13a9989b610</td>\n",
       "      <td>577f8968d95046f5eb5cc158608e12fa9ba34c85</td>\n",
       "      <td>35</td>\n",
       "      <td>0</td>\n",
       "      <td>0</td>\n",
       "      <td>0</td>\n",
       "      <td>0</td>\n",
       "      <td>0</td>\n",
       "      <td>...</td>\n",
       "      <td>1.0</td>\n",
       "      <td>2</td>\n",
       "      <td>1</td>\n",
       "      <td>1</td>\n",
       "      <td>1</td>\n",
       "      <td>1</td>\n",
       "      <td>1</td>\n",
       "      <td>M</td>\n",
       "      <td>1.0</td>\n",
       "      <td>2</td>\n",
       "    </tr>\n",
       "    <tr>\n",
       "      <td>4573</td>\n",
       "      <td>909237ab0d84688e10c0470e2997348aff585273</td>\n",
       "      <td>b9b06ce8c319a3df2158ea3d0aef0f7d3eecaed7</td>\n",
       "      <td>01af53cd161a420fff1767129c10de560cc264dd</td>\n",
       "      <td>97caab1e1533dba217deb7ef41490f52e459ab01</td>\n",
       "      <td>35</td>\n",
       "      <td>0</td>\n",
       "      <td>0</td>\n",
       "      <td>0</td>\n",
       "      <td>0</td>\n",
       "      <td>0</td>\n",
       "      <td>...</td>\n",
       "      <td>NaN</td>\n",
       "      <td>1</td>\n",
       "      <td>0</td>\n",
       "      <td>1</td>\n",
       "      <td>1</td>\n",
       "      <td>1</td>\n",
       "      <td>1</td>\n",
       "      <td>M</td>\n",
       "      <td>1.0</td>\n",
       "      <td>1</td>\n",
       "    </tr>\n",
       "    <tr>\n",
       "      <td>4574</td>\n",
       "      <td>942ab3dc020af4cf53740b6b07e9dd7060b24164</td>\n",
       "      <td>66b1dad288e13be0992bae01e81f71eca1c6e8a6</td>\n",
       "      <td>72f80e4b3150c627c7ffc93cfe0fa13a9989b610</td>\n",
       "      <td>577f8968d95046f5eb5cc158608e12fa9ba34c85</td>\n",
       "      <td>52</td>\n",
       "      <td>0</td>\n",
       "      <td>0</td>\n",
       "      <td>0</td>\n",
       "      <td>0</td>\n",
       "      <td>0</td>\n",
       "      <td>...</td>\n",
       "      <td>NaN</td>\n",
       "      <td>1</td>\n",
       "      <td>1</td>\n",
       "      <td>2</td>\n",
       "      <td>1</td>\n",
       "      <td>1</td>\n",
       "      <td>1</td>\n",
       "      <td>M</td>\n",
       "      <td>1.0</td>\n",
       "      <td>3</td>\n",
       "    </tr>\n",
       "    <tr>\n",
       "      <td>4575</td>\n",
       "      <td>2d22ac1d42e6187f09ee6c578df187a760123ccf</td>\n",
       "      <td>2d22ac1d42e6187f09ee6c578df187a760123ccf</td>\n",
       "      <td>2d22ac1d42e6187f09ee6c578df187a760123ccf</td>\n",
       "      <td>2d22ac1d42e6187f09ee6c578df187a760123ccf</td>\n",
       "      <td>33</td>\n",
       "      <td>0</td>\n",
       "      <td>0</td>\n",
       "      <td>0</td>\n",
       "      <td>0</td>\n",
       "      <td>0</td>\n",
       "      <td>...</td>\n",
       "      <td>NaN</td>\n",
       "      <td>1</td>\n",
       "      <td>1</td>\n",
       "      <td>1</td>\n",
       "      <td>0</td>\n",
       "      <td>0</td>\n",
       "      <td>0</td>\n",
       "      <td>M</td>\n",
       "      <td>NaN</td>\n",
       "      <td>1</td>\n",
       "    </tr>\n",
       "  </tbody>\n",
       "</table>\n",
       "<p>5 rows × 48 columns</p>\n",
       "</div>"
      ],
      "text/plain": [
       "                                        CO_PROVA_CH  \\\n",
       "test 4571  9cd70f1b922e02bd33453b3f607f5a644fb9b1b8   \n",
       "     4572  9cd70f1b922e02bd33453b3f607f5a644fb9b1b8   \n",
       "     4573  909237ab0d84688e10c0470e2997348aff585273   \n",
       "     4574  942ab3dc020af4cf53740b6b07e9dd7060b24164   \n",
       "     4575  2d22ac1d42e6187f09ee6c578df187a760123ccf   \n",
       "\n",
       "                                        CO_PROVA_CN  \\\n",
       "test 4571  16f84b7b3d2aeaff7d2f01297e6b3d0e25c77bb2   \n",
       "     4572  16f84b7b3d2aeaff7d2f01297e6b3d0e25c77bb2   \n",
       "     4573  b9b06ce8c319a3df2158ea3d0aef0f7d3eecaed7   \n",
       "     4574  66b1dad288e13be0992bae01e81f71eca1c6e8a6   \n",
       "     4575  2d22ac1d42e6187f09ee6c578df187a760123ccf   \n",
       "\n",
       "                                        CO_PROVA_LC  \\\n",
       "test 4571  01abbb7f1a90505385f44eec9905f82ca2a42cfd   \n",
       "     4572  72f80e4b3150c627c7ffc93cfe0fa13a9989b610   \n",
       "     4573  01af53cd161a420fff1767129c10de560cc264dd   \n",
       "     4574  72f80e4b3150c627c7ffc93cfe0fa13a9989b610   \n",
       "     4575  2d22ac1d42e6187f09ee6c578df187a760123ccf   \n",
       "\n",
       "                                        CO_PROVA_MT  CO_UF_RESIDENCIA  \\\n",
       "test 4571  81d0ee00ef42a7c23eb04496458c03d4c5b9c31a                41   \n",
       "     4572  577f8968d95046f5eb5cc158608e12fa9ba34c85                35   \n",
       "     4573  97caab1e1533dba217deb7ef41490f52e459ab01                35   \n",
       "     4574  577f8968d95046f5eb5cc158608e12fa9ba34c85                52   \n",
       "     4575  2d22ac1d42e6187f09ee6c578df187a760123ccf                33   \n",
       "\n",
       "           IN_BAIXA_VISAO  IN_CEGUEIRA  IN_DISCALCULIA  IN_DISLEXIA  \\\n",
       "test 4571               0            0               0            0   \n",
       "     4572               0            0               0            0   \n",
       "     4573               0            0               0            0   \n",
       "     4574               0            0               0            0   \n",
       "     4575               0            0               0            0   \n",
       "\n",
       "           IN_GESTANTE  ...  TP_ENSINO  TP_ESCOLA  TP_LINGUA  \\\n",
       "test 4571            0  ...        1.0          2          0   \n",
       "     4572            0  ...        1.0          2          1   \n",
       "     4573            0  ...        NaN          1          0   \n",
       "     4574            0  ...        NaN          1          1   \n",
       "     4575            0  ...        NaN          1          1   \n",
       "\n",
       "           TP_NACIONALIDADE  TP_PRESENCA_CH TP_PRESENCA_CN  TP_PRESENCA_LC  \\\n",
       "test 4571                 1               1              1               1   \n",
       "     4572                 1               1              1               1   \n",
       "     4573                 1               1              1               1   \n",
       "     4574                 2               1              1               1   \n",
       "     4575                 1               0              0               0   \n",
       "\n",
       "           TP_SEXO  TP_STATUS_REDACAO  TP_ST_CONCLUSAO  \n",
       "test 4571        F                1.0                2  \n",
       "     4572        M                1.0                2  \n",
       "     4573        M                1.0                1  \n",
       "     4574        M                1.0                3  \n",
       "     4575        M                NaN                1  \n",
       "\n",
       "[5 rows x 48 columns]"
      ]
     },
     "execution_count": 30,
     "metadata": {},
     "output_type": "execute_result"
    }
   ],
   "source": [
    "df.tail()"
   ]
  },
  {
   "cell_type": "code",
   "execution_count": 31,
   "metadata": {},
   "outputs": [
    {
     "data": {
      "text/html": [
       "<div>\n",
       "<style scoped>\n",
       "    .dataframe tbody tr th:only-of-type {\n",
       "        vertical-align: middle;\n",
       "    }\n",
       "\n",
       "    .dataframe tbody tr th {\n",
       "        vertical-align: top;\n",
       "    }\n",
       "\n",
       "    .dataframe thead th {\n",
       "        text-align: right;\n",
       "    }\n",
       "</style>\n",
       "<table border=\"1\" class=\"dataframe\">\n",
       "  <thead>\n",
       "    <tr style=\"text-align: right;\">\n",
       "      <th></th>\n",
       "      <th>CO_PROVA_CH</th>\n",
       "      <th>CO_PROVA_CN</th>\n",
       "      <th>CO_PROVA_LC</th>\n",
       "      <th>CO_PROVA_MT</th>\n",
       "      <th>CO_UF_RESIDENCIA</th>\n",
       "      <th>IN_BAIXA_VISAO</th>\n",
       "      <th>IN_CEGUEIRA</th>\n",
       "      <th>IN_DISCALCULIA</th>\n",
       "      <th>IN_DISLEXIA</th>\n",
       "      <th>IN_GESTANTE</th>\n",
       "      <th>...</th>\n",
       "      <th>TP_ENSINO</th>\n",
       "      <th>TP_ESCOLA</th>\n",
       "      <th>TP_LINGUA</th>\n",
       "      <th>TP_NACIONALIDADE</th>\n",
       "      <th>TP_PRESENCA_CH</th>\n",
       "      <th>TP_PRESENCA_CN</th>\n",
       "      <th>TP_PRESENCA_LC</th>\n",
       "      <th>TP_SEXO</th>\n",
       "      <th>TP_STATUS_REDACAO</th>\n",
       "      <th>TP_ST_CONCLUSAO</th>\n",
       "    </tr>\n",
       "  </thead>\n",
       "  <tbody>\n",
       "    <tr>\n",
       "      <td>0</td>\n",
       "      <td>9cd70f1b922e02bd33453b3f607f5a644fb9b1b8</td>\n",
       "      <td>16f84b7b3d2aeaff7d2f01297e6b3d0e25c77bb2</td>\n",
       "      <td>01abbb7f1a90505385f44eec9905f82ca2a42cfd</td>\n",
       "      <td>81d0ee00ef42a7c23eb04496458c03d4c5b9c31a</td>\n",
       "      <td>41</td>\n",
       "      <td>0</td>\n",
       "      <td>0</td>\n",
       "      <td>0</td>\n",
       "      <td>0</td>\n",
       "      <td>0</td>\n",
       "      <td>...</td>\n",
       "      <td>NaN</td>\n",
       "      <td>1</td>\n",
       "      <td>0</td>\n",
       "      <td>1</td>\n",
       "      <td>1</td>\n",
       "      <td>1</td>\n",
       "      <td>1</td>\n",
       "      <td>F</td>\n",
       "      <td>1.0</td>\n",
       "      <td>1</td>\n",
       "    </tr>\n",
       "    <tr>\n",
       "      <td>1</td>\n",
       "      <td>f48d390ab6a2428e659c37fb8a9d00afde621889</td>\n",
       "      <td>c8328ebc6f3238e06076c481bc1b82b8301e7a3f</td>\n",
       "      <td>72f80e4b3150c627c7ffc93cfe0fa13a9989b610</td>\n",
       "      <td>577f8968d95046f5eb5cc158608e12fa9ba34c85</td>\n",
       "      <td>21</td>\n",
       "      <td>0</td>\n",
       "      <td>0</td>\n",
       "      <td>0</td>\n",
       "      <td>0</td>\n",
       "      <td>0</td>\n",
       "      <td>...</td>\n",
       "      <td>NaN</td>\n",
       "      <td>1</td>\n",
       "      <td>1</td>\n",
       "      <td>1</td>\n",
       "      <td>1</td>\n",
       "      <td>1</td>\n",
       "      <td>1</td>\n",
       "      <td>F</td>\n",
       "      <td>1.0</td>\n",
       "      <td>1</td>\n",
       "    </tr>\n",
       "    <tr>\n",
       "      <td>2</td>\n",
       "      <td>9cd70f1b922e02bd33453b3f607f5a644fb9b1b8</td>\n",
       "      <td>16f84b7b3d2aeaff7d2f01297e6b3d0e25c77bb2</td>\n",
       "      <td>01af53cd161a420fff1767129c10de560cc264dd</td>\n",
       "      <td>97caab1e1533dba217deb7ef41490f52e459ab01</td>\n",
       "      <td>23</td>\n",
       "      <td>0</td>\n",
       "      <td>0</td>\n",
       "      <td>0</td>\n",
       "      <td>0</td>\n",
       "      <td>0</td>\n",
       "      <td>...</td>\n",
       "      <td>3.0</td>\n",
       "      <td>2</td>\n",
       "      <td>0</td>\n",
       "      <td>1</td>\n",
       "      <td>1</td>\n",
       "      <td>1</td>\n",
       "      <td>1</td>\n",
       "      <td>M</td>\n",
       "      <td>1.0</td>\n",
       "      <td>2</td>\n",
       "    </tr>\n",
       "    <tr>\n",
       "      <td>3</td>\n",
       "      <td>2d22ac1d42e6187f09ee6c578df187a760123ccf</td>\n",
       "      <td>2d22ac1d42e6187f09ee6c578df187a760123ccf</td>\n",
       "      <td>2d22ac1d42e6187f09ee6c578df187a760123ccf</td>\n",
       "      <td>2d22ac1d42e6187f09ee6c578df187a760123ccf</td>\n",
       "      <td>15</td>\n",
       "      <td>0</td>\n",
       "      <td>0</td>\n",
       "      <td>0</td>\n",
       "      <td>0</td>\n",
       "      <td>0</td>\n",
       "      <td>...</td>\n",
       "      <td>NaN</td>\n",
       "      <td>1</td>\n",
       "      <td>0</td>\n",
       "      <td>1</td>\n",
       "      <td>0</td>\n",
       "      <td>0</td>\n",
       "      <td>0</td>\n",
       "      <td>F</td>\n",
       "      <td>NaN</td>\n",
       "      <td>1</td>\n",
       "    </tr>\n",
       "    <tr>\n",
       "      <td>4</td>\n",
       "      <td>942ab3dc020af4cf53740b6b07e9dd7060b24164</td>\n",
       "      <td>66b1dad288e13be0992bae01e81f71eca1c6e8a6</td>\n",
       "      <td>5aebe5cad7fabc1545ac7fba07a4e6177f98483c</td>\n",
       "      <td>767a32545304ed293242d528f54d4edb1369f910</td>\n",
       "      <td>41</td>\n",
       "      <td>0</td>\n",
       "      <td>0</td>\n",
       "      <td>0</td>\n",
       "      <td>0</td>\n",
       "      <td>0</td>\n",
       "      <td>...</td>\n",
       "      <td>1.0</td>\n",
       "      <td>2</td>\n",
       "      <td>1</td>\n",
       "      <td>1</td>\n",
       "      <td>1</td>\n",
       "      <td>1</td>\n",
       "      <td>1</td>\n",
       "      <td>M</td>\n",
       "      <td>1.0</td>\n",
       "      <td>2</td>\n",
       "    </tr>\n",
       "  </tbody>\n",
       "</table>\n",
       "<p>5 rows × 48 columns</p>\n",
       "</div>"
      ],
      "text/plain": [
       "                                CO_PROVA_CH  \\\n",
       "0  9cd70f1b922e02bd33453b3f607f5a644fb9b1b8   \n",
       "1  f48d390ab6a2428e659c37fb8a9d00afde621889   \n",
       "2  9cd70f1b922e02bd33453b3f607f5a644fb9b1b8   \n",
       "3  2d22ac1d42e6187f09ee6c578df187a760123ccf   \n",
       "4  942ab3dc020af4cf53740b6b07e9dd7060b24164   \n",
       "\n",
       "                                CO_PROVA_CN  \\\n",
       "0  16f84b7b3d2aeaff7d2f01297e6b3d0e25c77bb2   \n",
       "1  c8328ebc6f3238e06076c481bc1b82b8301e7a3f   \n",
       "2  16f84b7b3d2aeaff7d2f01297e6b3d0e25c77bb2   \n",
       "3  2d22ac1d42e6187f09ee6c578df187a760123ccf   \n",
       "4  66b1dad288e13be0992bae01e81f71eca1c6e8a6   \n",
       "\n",
       "                                CO_PROVA_LC  \\\n",
       "0  01abbb7f1a90505385f44eec9905f82ca2a42cfd   \n",
       "1  72f80e4b3150c627c7ffc93cfe0fa13a9989b610   \n",
       "2  01af53cd161a420fff1767129c10de560cc264dd   \n",
       "3  2d22ac1d42e6187f09ee6c578df187a760123ccf   \n",
       "4  5aebe5cad7fabc1545ac7fba07a4e6177f98483c   \n",
       "\n",
       "                                CO_PROVA_MT  CO_UF_RESIDENCIA  IN_BAIXA_VISAO  \\\n",
       "0  81d0ee00ef42a7c23eb04496458c03d4c5b9c31a                41               0   \n",
       "1  577f8968d95046f5eb5cc158608e12fa9ba34c85                21               0   \n",
       "2  97caab1e1533dba217deb7ef41490f52e459ab01                23               0   \n",
       "3  2d22ac1d42e6187f09ee6c578df187a760123ccf                15               0   \n",
       "4  767a32545304ed293242d528f54d4edb1369f910                41               0   \n",
       "\n",
       "   IN_CEGUEIRA  IN_DISCALCULIA  IN_DISLEXIA  IN_GESTANTE  ...  TP_ENSINO  \\\n",
       "0            0               0            0            0  ...        NaN   \n",
       "1            0               0            0            0  ...        NaN   \n",
       "2            0               0            0            0  ...        3.0   \n",
       "3            0               0            0            0  ...        NaN   \n",
       "4            0               0            0            0  ...        1.0   \n",
       "\n",
       "   TP_ESCOLA  TP_LINGUA  TP_NACIONALIDADE  TP_PRESENCA_CH TP_PRESENCA_CN  \\\n",
       "0          1          0                 1               1              1   \n",
       "1          1          1                 1               1              1   \n",
       "2          2          0                 1               1              1   \n",
       "3          1          0                 1               0              0   \n",
       "4          2          1                 1               1              1   \n",
       "\n",
       "   TP_PRESENCA_LC  TP_SEXO  TP_STATUS_REDACAO  TP_ST_CONCLUSAO  \n",
       "0               1        F                1.0                1  \n",
       "1               1        F                1.0                1  \n",
       "2               1        M                1.0                2  \n",
       "3               0        F                NaN                1  \n",
       "4               1        M                1.0                2  \n",
       "\n",
       "[5 rows x 48 columns]"
      ]
     },
     "execution_count": 31,
     "metadata": {},
     "output_type": "execute_result"
    }
   ],
   "source": [
    "df.xs('test').head()"
   ]
  },
  {
   "cell_type": "markdown",
   "metadata": {},
   "source": [
    "# Tratativa\n",
    "\n",
    "- Serão ignorado as colunas TP_ENSINO, TP_DEPENDENCIA_ADM_ESC e Q027 que possuem mais de 60% de dados Nan na base de treino.\n",
    "- As colunas 'NU_NOTA_CN' e 'NU_NOTA_CH' com valores Nan foram removidos da base de treino.\n",
    "- As colunas NU_NOTA_COMP na base de teste possuem várias linhas NAN que serão tratadas posteriormente."
   ]
  },
  {
   "cell_type": "markdown",
   "metadata": {},
   "source": [
    "### Análise das variáveis pela correlação e treino1_aux\n",
    "\n",
    "- IN_CEGUEIRA só existe um registro, será removido da análise.\n",
    "- TP_PRESENCA_CN, TP_PRESENCA_CH, TP_PRESENCA_LC, TP_STATUS_REDACAO estão relacionado com as respectivas nota, serão removido da análise.\n",
    "- IN_DISCALCULIA, IN_DISLEXIA, IN_BAIXA_VISAO, IN_GESTANTE, IN_IDOSO, IN_SURDEZ, IN_SABATISTA correlação ~ 0  com NU_NOTA_MT, por conta da grande diferença de registros 0 e 1. Serão removidos da análise.\n",
    "- CO_UF_RESIDENCIA será substituido por regiões geográficas. Será removido da análise."
   ]
  },
  {
   "cell_type": "code",
   "execution_count": 32,
   "metadata": {},
   "outputs": [
    {
     "name": "stdout",
     "output_type": "stream",
     "text": [
      " IN_DISCALCULIA \n",
      "  0    10096\n",
      "1        1\n",
      "Name: IN_DISCALCULIA, dtype: int64 \n",
      " \n",
      " IN_DISLEXIA \n",
      "  0    10096\n",
      "1        1\n",
      "Name: IN_DISLEXIA, dtype: int64 \n",
      " \n",
      " IN_BAIXA_VISAO \n",
      "  0    10086\n",
      "1       11\n",
      "Name: IN_BAIXA_VISAO, dtype: int64 \n",
      " \n",
      " IN_GESTANTE \n",
      "  0    10093\n",
      "1        4\n",
      "Name: IN_GESTANTE, dtype: int64 \n",
      " \n",
      " IN_IDOSO \n",
      "  0    10096\n",
      "1        1\n",
      "Name: IN_IDOSO, dtype: int64 \n",
      " \n",
      " IN_SURDEZ \n",
      "  0    10093\n",
      "1        4\n",
      "Name: IN_SURDEZ, dtype: int64 \n",
      " \n",
      " IN_SABATISTA \n",
      "  0    9998\n",
      "1      99\n",
      "Name: IN_SABATISTA, dtype: int64 \n",
      " \n"
     ]
    }
   ],
   "source": [
    "columns = ['IN_DISCALCULIA', 'IN_DISLEXIA', 'IN_BAIXA_VISAO', 'IN_GESTANTE', 'IN_IDOSO', 'IN_SURDEZ', 'IN_SABATISTA']\n",
    "for i in columns:\n",
    "    print(f' {i} \\n  {treino1[i].value_counts()} \\n ')  "
   ]
  },
  {
   "cell_type": "code",
   "execution_count": 33,
   "metadata": {},
   "outputs": [
    {
     "data": {
      "text/plain": [
       "Index(['CO_PROVA_CH', 'CO_PROVA_CN', 'CO_PROVA_LC', 'CO_PROVA_MT',\n",
       "       'NU_INSCRICAO', 'Q001', 'Q002', 'Q006', 'Q024', 'Q025', 'Q026', 'Q027',\n",
       "       'Q047', 'SG_UF_RESIDENCIA', 'TP_SEXO'],\n",
       "      dtype='object')"
      ]
     },
     "execution_count": 33,
     "metadata": {},
     "output_type": "execute_result"
    }
   ],
   "source": [
    "# Variáveis categóricas que poderam ser transformadas\n",
    "# CO_PROVA_CH, CO_PROVA_CN, CO_PROVA_LC, CO_PROVA_MT não são relevantes para nosso modelo. Serão removidas.\n",
    "df.select_dtypes(include=object).columns"
   ]
  },
  {
   "cell_type": "code",
   "execution_count": 34,
   "metadata": {},
   "outputs": [],
   "source": [
    "col_delete = ['TP_ENSINO', 'TP_DEPENDENCIA_ADM_ESC', 'Q027',\n",
    "              'IN_CEGUEIRA', 'TP_PRESENCA_CN', 'TP_PRESENCA_CH', 'TP_PRESENCA_LC', 'TP_STATUS_REDACAO', \n",
    "              'IN_DISCALCULIA', 'IN_DISLEXIA', 'IN_BAIXA_VISAO', 'IN_GESTANTE', 'IN_IDOSO', 'IN_SURDEZ', \n",
    "              'IN_SABATISTA', 'CO_UF_RESIDENCIA',  'CO_PROVA_CH', 'CO_PROVA_CN', 'CO_PROVA_LC', \n",
    "              'CO_PROVA_MT'\n",
    "             ]\n",
    "df1 = df.drop(col_delete, axis=1)"
   ]
  },
  {
   "cell_type": "code",
   "execution_count": 35,
   "metadata": {},
   "outputs": [
    {
     "data": {
      "text/plain": [
       "Index(['IN_TREINEIRO', 'NU_IDADE', 'NU_INSCRICAO', 'NU_NOTA_CH', 'NU_NOTA_CN',\n",
       "       'NU_NOTA_COMP1', 'NU_NOTA_COMP2', 'NU_NOTA_COMP3', 'NU_NOTA_COMP4',\n",
       "       'NU_NOTA_COMP5', 'NU_NOTA_LC', 'NU_NOTA_MT', 'NU_NOTA_REDACAO', 'Q001',\n",
       "       'Q002', 'Q006', 'Q024', 'Q025', 'Q026', 'Q047', 'SG_UF_RESIDENCIA',\n",
       "       'TP_ANO_CONCLUIU', 'TP_COR_RACA', 'TP_ESCOLA', 'TP_LINGUA',\n",
       "       'TP_NACIONALIDADE', 'TP_SEXO', 'TP_ST_CONCLUSAO'],\n",
       "      dtype='object')"
      ]
     },
     "execution_count": 35,
     "metadata": {},
     "output_type": "execute_result"
    }
   ],
   "source": [
    "df1.columns"
   ]
  },
  {
   "cell_type": "markdown",
   "metadata": {},
   "source": [
    "## Transformações nas variáveis\n",
    "\n",
    "- 'Q001', 'Q002', 'Q006','Q024', 'Q025', 'Q026', 'Q047', 'SG_UF_RESIDENCIA','TP_COR_RACA', 'TP_ESCOLA', 'TP_SEXO', 'TP_NACIONALIDADE','TP_ST_CONCLUSAO' serão transformadados em numéricos."
   ]
  },
  {
   "cell_type": "code",
   "execution_count": 36,
   "metadata": {},
   "outputs": [],
   "source": [
    "df2 = df1.copy()"
   ]
  },
  {
   "cell_type": "code",
   "execution_count": 37,
   "metadata": {},
   "outputs": [],
   "source": [
    "# Como possuem variabilidade de valores, serão transformados em numérico mas não serão colunas binárias\n",
    "columns = ['Q001', 'Q002', 'Q006',  'Q026', 'Q047', 'SG_UF_RESIDENCIA',\n",
    "           'TP_COR_RACA', 'TP_ESCOLA', 'TP_SEXO', 'Q025','TP_NACIONALIDADE','TP_ST_CONCLUSAO',\n",
    "           'Q024'\n",
    "          ]\n",
    "\n",
    "lab_encoder = preprocessing.LabelEncoder()\n",
    "for col in columns:\n",
    "    lab_encoder.fit(df2[col])\n",
    "    df2[col] = lab_encoder.transform(df2[col])    "
   ]
  },
  {
   "cell_type": "markdown",
   "metadata": {},
   "source": [
    "### Classe para cálculos de métricas para a regressão linear"
   ]
  },
  {
   "cell_type": "code",
   "execution_count": 38,
   "metadata": {},
   "outputs": [],
   "source": [
    "def press_statistic(y_true, y_pred, xs):\n",
    "    res = y_pred - y_true\n",
    "    hat = xs.dot(np.linalg.pinv(xs))\n",
    "    den = (1 - np.diagonal(hat))\n",
    "    sqr = np.square(res/den)\n",
    "    return sqr.sum()\n",
    "\n",
    "def predicted_r2(y_true, y_pred, xs):\n",
    "    # é uma forma de validar com o modelo esta acertando as previsões\n",
    "    press = press_statistic(y_true=y_true,\n",
    "                            y_pred=y_pred,\n",
    "                            xs=xs\n",
    "    )\n",
    "\n",
    "    sst  = np.square( y_true - y_true.mean() ).sum()\n",
    "    return 1 - press / sst"
   ]
  },
  {
   "cell_type": "code",
   "execution_count": 39,
   "metadata": {},
   "outputs": [],
   "source": [
    "def adjusted_r2(r2, shape):\n",
    "    # é uma forma de validar se as variáveis inseridas no modelo estão realmente agregando ao modelo\n",
    "    # se o valor retornado começar a diminuir com relação a outro modelo, a inserção de novas variáveis \n",
    "    #não será mais significativo ao modelo\n",
    "    adj_r2 = (1 - (1 - r2) * ((shape[0] - 1) / \n",
    "          (shape[0] - shape[1] - 1)))\n",
    "    return adj_r2"
   ]
  },
  {
   "cell_type": "markdown",
   "metadata": {},
   "source": [
    "## Modelo de Regressão"
   ]
  },
  {
   "cell_type": "code",
   "execution_count": 40,
   "metadata": {},
   "outputs": [
    {
     "data": {
      "text/plain": [
       "Index(['IN_TREINEIRO', 'NU_IDADE', 'NU_INSCRICAO', 'NU_NOTA_CH', 'NU_NOTA_CN',\n",
       "       'NU_NOTA_COMP1', 'NU_NOTA_COMP2', 'NU_NOTA_COMP3', 'NU_NOTA_COMP4',\n",
       "       'NU_NOTA_COMP5', 'NU_NOTA_LC', 'NU_NOTA_MT', 'NU_NOTA_REDACAO', 'Q001',\n",
       "       'Q002', 'Q006', 'Q024', 'Q025', 'Q026', 'Q047', 'SG_UF_RESIDENCIA',\n",
       "       'TP_ANO_CONCLUIU', 'TP_COR_RACA', 'TP_ESCOLA', 'TP_LINGUA',\n",
       "       'TP_NACIONALIDADE', 'TP_SEXO', 'TP_ST_CONCLUSAO'],\n",
       "      dtype='object')"
      ]
     },
     "execution_count": 40,
     "metadata": {},
     "output_type": "execute_result"
    }
   ],
   "source": [
    "df2.columns"
   ]
  },
  {
   "cell_type": "code",
   "execution_count": 41,
   "metadata": {},
   "outputs": [],
   "source": [
    "X = df2.xs('train').drop(['NU_NOTA_MT', 'NU_INSCRICAO'], axis=1 )\n",
    "y = df2.xs('train').NU_NOTA_MT \n",
    "X_train, X_test, y_train, y_test = train_test_split(X, y, test_size=0.33, random_state=250 )"
   ]
  },
  {
   "cell_type": "code",
   "execution_count": 42,
   "metadata": {},
   "outputs": [
    {
     "data": {
      "text/plain": [
       "LinearRegression(copy_X=True, fit_intercept=True, n_jobs=None, normalize=False)"
      ]
     },
     "execution_count": 42,
     "metadata": {},
     "output_type": "execute_result"
    }
   ],
   "source": [
    "regr = linear_model.LinearRegression()\n",
    "regr.fit(X_train, y_train)"
   ]
  },
  {
   "cell_type": "code",
   "execution_count": 43,
   "metadata": {},
   "outputs": [],
   "source": [
    "predict = regr.predict(X_test)"
   ]
  },
  {
   "cell_type": "code",
   "execution_count": 44,
   "metadata": {},
   "outputs": [
    {
     "name": "stdout",
     "output_type": "stream",
     "text": [
      "Mean squared error:  5586.049797353438\n",
      "R2 score:  0.4407810591422725\n",
      "Adjusted R2: 0.4386228741248611\n",
      "Predicted R2: 0.4314143321058779\n"
     ]
    }
   ],
   "source": [
    "print('Mean squared error: ' ,mean_squared_error(y_test, predict))\n",
    "print('R2 score: ', r2_score(y_test, predict))\n",
    "print('Adjusted R2:', adjusted_r2(r2_score(y_test, predict), X_train.shape) )\n",
    "print('Predicted R2:', predicted_r2(y_test, predict, X_test))"
   ]
  },
  {
   "cell_type": "code",
   "execution_count": 45,
   "metadata": {},
   "outputs": [
    {
     "data": {
      "image/png": "[encoded data removed]",
      "text/plain": [
       "<Figure size 576x288 with 1 Axes>"
      ]
     },
     "metadata": {
      "needs_background": "light"
     },
     "output_type": "display_data"
    }
   ],
   "source": [
    "residuos = predict - y_test\n",
    "plt.figure(figsize=(8,4)) \n",
    "sns.distplot(residuos)\n",
    "plt.show()"
   ]
  },
  {
   "cell_type": "code",
   "execution_count": 46,
   "metadata": {},
   "outputs": [
    {
     "data": {
      "image/png": "[encoded data removed]",
      "text/plain": [
       "<Figure size 576x288 with 1 Axes>"
      ]
     },
     "metadata": {
      "needs_background": "light"
     },
     "output_type": "display_data"
    }
   ],
   "source": [
    "plt.figure(figsize=(8,4))\n",
    "plt.scatter(x = y_test, y=predict)\n",
    "plt.show()"
   ]
  },
  {
   "cell_type": "markdown",
   "metadata": {},
   "source": [
    "- Detectar outliers"
   ]
  },
  {
   "cell_type": "code",
   "execution_count": 47,
   "metadata": {},
   "outputs": [
    {
     "data": {
      "image/png": "[encoded data removed]",
      "text/plain": [
       "<Figure size 576x288 with 1 Axes>"
      ]
     },
     "metadata": {
      "needs_background": "light"
     },
     "output_type": "display_data"
    }
   ],
   "source": [
    "\n",
    "plt.figure(figsize(8,4))\n",
    "# Utilizando as configurações abaixo para validar a precisão: n_neighbors=20\n",
    "detector_outlier = LocalOutlierFactor(novelty=True, contamination=0.001).fit(X)\n",
    "predict_outlier = detector_outlier.predict(X)==-1\n",
    "\n",
    "#transforma em dados de treino em 2 componentes para faciliar a visualização\n",
    "pca_outlier = PCA(n_components=2).fit(X)\n",
    "\n",
    "train_points = pca_outlier.transform(X[~predict_outlier])\n",
    "plt.scatter(train_points[:, 0], train_points[:, 1], c='blue', alpha=0.1)\n",
    "\n",
    "\n",
    "outliers = pca_outlier.transform(X[predict_outlier])\n",
    "plt.scatter(outliers[:, 0], outliers[:, 1], c='red', alpha=0.5);\n",
    "\n",
    "plt.show()"
   ]
  },
  {
   "cell_type": "code",
   "execution_count": 48,
   "metadata": {},
   "outputs": [
    {
     "data": {
      "text/plain": [
       "0.09903931860948798"
      ]
     },
     "execution_count": 48,
     "metadata": {},
     "output_type": "execute_result"
    }
   ],
   "source": [
    "#Serão removidos dados identificados como outliers\n",
    "len(predict_outlier[predict_outlier == True])/predict_outlier.shape[0] *100"
   ]
  },
  {
   "cell_type": "code",
   "execution_count": 49,
   "metadata": {},
   "outputs": [],
   "source": [
    "X = X[~predict_outlier]\n",
    "y = y[~predict_outlier]"
   ]
  },
  {
   "cell_type": "code",
   "execution_count": 50,
   "metadata": {},
   "outputs": [
    {
     "name": "stdout",
     "output_type": "stream",
     "text": [
      "Mean squared error:  5622.972065002045\n",
      "R2 score:  0.4383299286492509\n",
      "Adjusted R2: 0.43616035178769696\n",
      "Predicted R2: 0.42944170283255945\n"
     ]
    }
   ],
   "source": [
    "X_stand_train, X_stand_test, y_train, y_test = train_test_split(X, y, test_size=0.33, random_state=250)\n",
    "regr_stand = linear_model.LinearRegression()\n",
    "regr_stand.fit(X_stand_train, y_train)\n",
    "predict_stand = regr_stand.predict(X_stand_test)\n",
    "print('Mean squared error: ' ,mean_squared_error(y_test, predict_stand))\n",
    "print('R2 score: ', r2_score(y_test, predict_stand))\n",
    "print('Adjusted R2:', adjusted_r2(r2_score(y_test, predict_stand), X_stand_train.shape) )\n",
    "print('Predicted R2:', predicted_r2(y_test, predict_stand, X_stand_test))"
   ]
  },
  {
   "cell_type": "markdown",
   "metadata": {},
   "source": [
    "- Aplicar PCA com dados retirando os outliers"
   ]
  },
  {
   "cell_type": "code",
   "execution_count": 51,
   "metadata": {},
   "outputs": [],
   "source": [
    "pca = PCA().fit(X)"
   ]
  },
  {
   "cell_type": "code",
   "execution_count": 52,
   "metadata": {},
   "outputs": [
    {
     "data": {
      "image/png": "[encoded data removed]",
      "text/plain": [
       "<Figure size 576x288 with 1 Axes>"
      ]
     },
     "metadata": {
      "needs_background": "light"
     },
     "output_type": "display_data"
    }
   ],
   "source": [
    "plt.figure(figsize=(8,4)) \n",
    "plt.plot(np.cumsum(pca.explained_variance_ratio_))\n",
    "plt.xlabel('number de components')\n",
    "plt.ylabel('cumulative explained variancce')\n",
    "plt.show()"
   ]
  },
  {
   "cell_type": "code",
   "execution_count": 53,
   "metadata": {},
   "outputs": [],
   "source": [
    "X_pca = PCA(n_components=8).fit_transform(X)\n",
    "X_pca_train, X_pca_test, y_train, y_test = train_test_split(X_pca, y, test_size=0.33, random_state=250)\n",
    "regr_pca = linear_model.LinearRegression()\n",
    "regr_pca.fit(X_pca_train, y_train)\n",
    "predict_pca = regr_pca.predict(X_pca_test)"
   ]
  },
  {
   "cell_type": "code",
   "execution_count": 54,
   "metadata": {},
   "outputs": [
    {
     "name": "stdout",
     "output_type": "stream",
     "text": [
      "Mean squared error:  6003.516731317398\n",
      "R2 score:  0.40031790450781246\n",
      "Adjusted R2: 0.39960706486283737\n",
      "Predicted R2: 0.39724904344187517\n"
     ]
    }
   ],
   "source": [
    "print('Mean squared error: ' ,mean_squared_error(y_test, predict_pca))\n",
    "print('R2 score: ', r2_score(y_test, predict_pca))\n",
    "print('Adjusted R2:', adjusted_r2(r2_score(y_test, predict_pca), X_pca_train.shape) )\n",
    "print('Predicted R2:', predicted_r2(y_test, predict_pca, X_pca_test))"
   ]
  },
  {
   "cell_type": "code",
   "execution_count": 55,
   "metadata": {},
   "outputs": [
    {
     "data": {
      "image/png": "[encoded data removed]",
      "text/plain": [
       "<Figure size 576x288 with 1 Axes>"
      ]
     },
     "metadata": {
      "needs_background": "light"
     },
     "output_type": "display_data"
    }
   ],
   "source": [
    "plt.figure(figsize=(8,4)) \n",
    "residuos = predict_pca - y_test\n",
    "sns.distplot(residuos)\n",
    "plt.show()"
   ]
  },
  {
   "cell_type": "code",
   "execution_count": 56,
   "metadata": {},
   "outputs": [
    {
     "data": {
      "image/png": "[encoded data removed]",
      "text/plain": [
       "<Figure size 576x288 with 1 Axes>"
      ]
     },
     "metadata": {
      "needs_background": "light"
     },
     "output_type": "display_data"
    }
   ],
   "source": [
    "plt.figure(figsize=(8,4)) \n",
    "plt.scatter(x = y_test, y=predict_pca)\n",
    "plt.xlabel(\"Real\")\n",
    "plt.ylabel(\"Previsto\")\n",
    "plt.show()"
   ]
  },
  {
   "cell_type": "markdown",
   "metadata": {},
   "source": [
    "### GridSearchCV\n",
    "\n",
    "Utilizando GridSearchCV na Regressão removendo os outliers sem PCA"
   ]
  },
  {
   "cell_type": "code",
   "execution_count": 57,
   "metadata": {},
   "outputs": [],
   "source": [
    "parms = {'fit_intercept': [True, False],\n",
    "        'normalize': [True, False],\n",
    "        }\n",
    "metricas = ['neg_mean_absolute_error', 'neg_mean_squared_error',   'r2']\n"
   ]
  },
  {
   "cell_type": "code",
   "execution_count": 58,
   "metadata": {},
   "outputs": [],
   "source": [
    "# Busca os melhores parâmetros com cv=3(default) para todos as métricas definida a cima\n",
    "grid_Search = GridSearchCV(regr_stand, param_grid=parms, scoring=metricas,\n",
    "                          refit='neg_mean_squared_error', return_train_score=False, cv=50)"
   ]
  },
  {
   "cell_type": "code",
   "execution_count": 59,
   "metadata": {},
   "outputs": [],
   "source": [
    "grid_Search = grid_Search.fit(X_stand_train, y_train)"
   ]
  },
  {
   "cell_type": "code",
   "execution_count": 60,
   "metadata": {},
   "outputs": [
    {
     "data": {
      "text/plain": [
       "-5438.236347104042"
      ]
     },
     "execution_count": 60,
     "metadata": {},
     "output_type": "execute_result"
    }
   ],
   "source": [
    "# Considerando o refit='neg_mean_squared_error'\n",
    "grid_Search.best_score_"
   ]
  },
  {
   "cell_type": "code",
   "execution_count": 61,
   "metadata": {},
   "outputs": [
    {
     "data": {
      "text/plain": [
       "73.7443987507122"
      ]
     },
     "execution_count": 61,
     "metadata": {},
     "output_type": "execute_result"
    }
   ],
   "source": [
    "#A regressão esta dando um erro médio de 74,29\n",
    "np.sqrt(grid_Search.best_score_*-1)"
   ]
  },
  {
   "cell_type": "code",
   "execution_count": 62,
   "metadata": {},
   "outputs": [
    {
     "data": {
      "text/plain": [
       "LinearRegression(copy_X=True, fit_intercept=True, n_jobs=None, normalize=False)"
      ]
     },
     "execution_count": 62,
     "metadata": {},
     "output_type": "execute_result"
    }
   ],
   "source": [
    "# A melhor combinação é a definida abaixo\n",
    "grid_Search.best_estimator_"
   ]
  },
  {
   "cell_type": "code",
   "execution_count": 63,
   "metadata": {},
   "outputs": [
    {
     "data": {
      "text/html": [
       "<div>\n",
       "<style scoped>\n",
       "    .dataframe tbody tr th:only-of-type {\n",
       "        vertical-align: middle;\n",
       "    }\n",
       "\n",
       "    .dataframe tbody tr th {\n",
       "        vertical-align: top;\n",
       "    }\n",
       "\n",
       "    .dataframe thead th {\n",
       "        text-align: right;\n",
       "    }\n",
       "</style>\n",
       "<table border=\"1\" class=\"dataframe\">\n",
       "  <thead>\n",
       "    <tr style=\"text-align: right;\">\n",
       "      <th></th>\n",
       "      <th>split0_test_neg_mean_absolute_error</th>\n",
       "      <th>split1_test_neg_mean_absolute_error</th>\n",
       "      <th>split2_test_neg_mean_absolute_error</th>\n",
       "      <th>split3_test_neg_mean_absolute_error</th>\n",
       "      <th>split4_test_neg_mean_absolute_error</th>\n",
       "      <th>split5_test_neg_mean_absolute_error</th>\n",
       "      <th>split6_test_neg_mean_absolute_error</th>\n",
       "      <th>split7_test_neg_mean_absolute_error</th>\n",
       "      <th>split8_test_neg_mean_absolute_error</th>\n",
       "      <th>split9_test_neg_mean_absolute_error</th>\n",
       "      <th>...</th>\n",
       "      <th>split43_test_r2</th>\n",
       "      <th>split44_test_r2</th>\n",
       "      <th>split45_test_r2</th>\n",
       "      <th>split46_test_r2</th>\n",
       "      <th>split47_test_r2</th>\n",
       "      <th>split48_test_r2</th>\n",
       "      <th>split49_test_r2</th>\n",
       "      <th>mean_test_r2</th>\n",
       "      <th>std_test_r2</th>\n",
       "      <th>rank_test_r2</th>\n",
       "    </tr>\n",
       "  </thead>\n",
       "  <tbody>\n",
       "    <tr>\n",
       "      <td>0</td>\n",
       "      <td>-59.673930</td>\n",
       "      <td>-57.589338</td>\n",
       "      <td>-52.869634</td>\n",
       "      <td>-62.812962</td>\n",
       "      <td>-67.683253</td>\n",
       "      <td>-60.181149</td>\n",
       "      <td>-65.811577</td>\n",
       "      <td>-60.876822</td>\n",
       "      <td>-57.325491</td>\n",
       "      <td>-56.144684</td>\n",
       "      <td>...</td>\n",
       "      <td>0.267321</td>\n",
       "      <td>0.525928</td>\n",
       "      <td>0.449113</td>\n",
       "      <td>0.516453</td>\n",
       "      <td>0.458463</td>\n",
       "      <td>0.361006</td>\n",
       "      <td>0.422866</td>\n",
       "      <td>0.428227</td>\n",
       "      <td>0.085722</td>\n",
       "      <td>2</td>\n",
       "    </tr>\n",
       "    <tr>\n",
       "      <td>1</td>\n",
       "      <td>-59.675215</td>\n",
       "      <td>-57.591407</td>\n",
       "      <td>-52.868566</td>\n",
       "      <td>-62.820856</td>\n",
       "      <td>-67.689452</td>\n",
       "      <td>-60.176105</td>\n",
       "      <td>-65.811008</td>\n",
       "      <td>-60.876822</td>\n",
       "      <td>-57.325491</td>\n",
       "      <td>-56.140793</td>\n",
       "      <td>...</td>\n",
       "      <td>0.267301</td>\n",
       "      <td>0.525929</td>\n",
       "      <td>0.449113</td>\n",
       "      <td>0.516624</td>\n",
       "      <td>0.458540</td>\n",
       "      <td>0.361006</td>\n",
       "      <td>0.422859</td>\n",
       "      <td>0.428239</td>\n",
       "      <td>0.085720</td>\n",
       "      <td>1</td>\n",
       "    </tr>\n",
       "    <tr>\n",
       "      <td>2</td>\n",
       "      <td>-60.005055</td>\n",
       "      <td>-57.727813</td>\n",
       "      <td>-53.399401</td>\n",
       "      <td>-63.264976</td>\n",
       "      <td>-68.195707</td>\n",
       "      <td>-60.294073</td>\n",
       "      <td>-65.845668</td>\n",
       "      <td>-60.859709</td>\n",
       "      <td>-57.018347</td>\n",
       "      <td>-56.326007</td>\n",
       "      <td>...</td>\n",
       "      <td>0.279618</td>\n",
       "      <td>0.518621</td>\n",
       "      <td>0.459055</td>\n",
       "      <td>0.519005</td>\n",
       "      <td>0.463830</td>\n",
       "      <td>0.354782</td>\n",
       "      <td>0.422160</td>\n",
       "      <td>0.426439</td>\n",
       "      <td>0.087451</td>\n",
       "      <td>3</td>\n",
       "    </tr>\n",
       "    <tr>\n",
       "      <td>3</td>\n",
       "      <td>-60.005055</td>\n",
       "      <td>-57.727813</td>\n",
       "      <td>-53.399401</td>\n",
       "      <td>-63.264976</td>\n",
       "      <td>-68.195707</td>\n",
       "      <td>-60.294073</td>\n",
       "      <td>-65.845668</td>\n",
       "      <td>-60.859709</td>\n",
       "      <td>-57.018347</td>\n",
       "      <td>-56.326007</td>\n",
       "      <td>...</td>\n",
       "      <td>0.279618</td>\n",
       "      <td>0.518621</td>\n",
       "      <td>0.459055</td>\n",
       "      <td>0.519005</td>\n",
       "      <td>0.463830</td>\n",
       "      <td>0.354782</td>\n",
       "      <td>0.422160</td>\n",
       "      <td>0.426439</td>\n",
       "      <td>0.087451</td>\n",
       "      <td>3</td>\n",
       "    </tr>\n",
       "  </tbody>\n",
       "</table>\n",
       "<p>4 rows × 159 columns</p>\n",
       "</div>"
      ],
      "text/plain": [
       "   split0_test_neg_mean_absolute_error  split1_test_neg_mean_absolute_error  \\\n",
       "0                           -59.673930                           -57.589338   \n",
       "1                           -59.675215                           -57.591407   \n",
       "2                           -60.005055                           -57.727813   \n",
       "3                           -60.005055                           -57.727813   \n",
       "\n",
       "   split2_test_neg_mean_absolute_error  split3_test_neg_mean_absolute_error  \\\n",
       "0                           -52.869634                           -62.812962   \n",
       "1                           -52.868566                           -62.820856   \n",
       "2                           -53.399401                           -63.264976   \n",
       "3                           -53.399401                           -63.264976   \n",
       "\n",
       "   split4_test_neg_mean_absolute_error  split5_test_neg_mean_absolute_error  \\\n",
       "0                           -67.683253                           -60.181149   \n",
       "1                           -67.689452                           -60.176105   \n",
       "2                           -68.195707                           -60.294073   \n",
       "3                           -68.195707                           -60.294073   \n",
       "\n",
       "   split6_test_neg_mean_absolute_error  split7_test_neg_mean_absolute_error  \\\n",
       "0                           -65.811577                           -60.876822   \n",
       "1                           -65.811008                           -60.876822   \n",
       "2                           -65.845668                           -60.859709   \n",
       "3                           -65.845668                           -60.859709   \n",
       "\n",
       "   split8_test_neg_mean_absolute_error  split9_test_neg_mean_absolute_error  \\\n",
       "0                           -57.325491                           -56.144684   \n",
       "1                           -57.325491                           -56.140793   \n",
       "2                           -57.018347                           -56.326007   \n",
       "3                           -57.018347                           -56.326007   \n",
       "\n",
       "   ...  split43_test_r2  split44_test_r2  split45_test_r2  split46_test_r2  \\\n",
       "0  ...         0.267321         0.525928         0.449113         0.516453   \n",
       "1  ...         0.267301         0.525929         0.449113         0.516624   \n",
       "2  ...         0.279618         0.518621         0.459055         0.519005   \n",
       "3  ...         0.279618         0.518621         0.459055         0.519005   \n",
       "\n",
       "   split47_test_r2  split48_test_r2  split49_test_r2  mean_test_r2  \\\n",
       "0         0.458463         0.361006         0.422866      0.428227   \n",
       "1         0.458540         0.361006         0.422859      0.428239   \n",
       "2         0.463830         0.354782         0.422160      0.426439   \n",
       "3         0.463830         0.354782         0.422160      0.426439   \n",
       "\n",
       "   std_test_r2  rank_test_r2  \n",
       "0     0.085722             2  \n",
       "1     0.085720             1  \n",
       "2     0.087451             3  \n",
       "3     0.087451             3  \n",
       "\n",
       "[4 rows x 159 columns]"
      ]
     },
     "execution_count": 63,
     "metadata": {},
     "output_type": "execute_result"
    }
   ],
   "source": [
    "pd.DataFrame(grid_Search.cv_results_).iloc[:,7:]"
   ]
  },
  {
   "cell_type": "code",
   "execution_count": 64,
   "metadata": {},
   "outputs": [
    {
     "data": {
      "text/plain": [
       "1"
      ]
     },
     "execution_count": 64,
     "metadata": {},
     "output_type": "execute_result"
    }
   ],
   "source": [
    "# A primeira 0 é a melhor candidata\n",
    "grid_Search.best_index_"
   ]
  },
  {
   "cell_type": "code",
   "execution_count": 65,
   "metadata": {},
   "outputs": [],
   "source": [
    "best_reg = grid_Search.best_estimator_\n",
    "predict_grid = best_reg.predict(X_stand_test)"
   ]
  },
  {
   "cell_type": "code",
   "execution_count": 66,
   "metadata": {},
   "outputs": [
    {
     "name": "stdout",
     "output_type": "stream",
     "text": [
      "Mean squared error:  5622.972065002045\n",
      "R2 score:  0.4383299286492509\n",
      "Adjusted R2: 0.43766414696740097\n",
      "Predicted R2: 0.4354647652099005\n"
     ]
    }
   ],
   "source": [
    "print('Mean squared error: ' ,mean_squared_error(y_test, predict_grid))\n",
    "print('R2 score: ', r2_score(y_test, predict_grid))\n",
    "print('Adjusted R2:', adjusted_r2(r2_score(y_test, predict_grid), X_pca_train.shape) )\n",
    "print('Predicted R2:', predicted_r2(y_test, predict_grid, X_pca_test))"
   ]
  },
  {
   "cell_type": "code",
   "execution_count": 67,
   "metadata": {},
   "outputs": [
    {
     "data": {
      "image/png": "[encoded data removed]",
      "text/plain": [
       "<Figure size 576x288 with 1 Axes>"
      ]
     },
     "metadata": {
      "needs_background": "light"
     },
     "output_type": "display_data"
    }
   ],
   "source": [
    "plt.figure(figsize=(8,4)) \n",
    "residuos = predict_grid - y_test\n",
    "sns.distplot(residuos)\n",
    "plt.show()"
   ]
  },
  {
   "cell_type": "code",
   "execution_count": 68,
   "metadata": {},
   "outputs": [
    {
     "data": {
      "image/png": "[encoded data removed]",
      "text/plain": [
       "<Figure size 576x288 with 1 Axes>"
      ]
     },
     "metadata": {
      "needs_background": "light"
     },
     "output_type": "display_data"
    }
   ],
   "source": [
    "plt.figure(figsize=(8,4)) \n",
    "plt.scatter(x = y_test, y=predict_grid)\n",
    "plt.xlabel(\"Real\")\n",
    "plt.ylabel(\"Previsto\")\n",
    "plt.show()"
   ]
  },
  {
   "cell_type": "markdown",
   "metadata": {},
   "source": [
    "## Tratamento test.csv"
   ]
  },
  {
   "cell_type": "code",
   "execution_count": 69,
   "metadata": {},
   "outputs": [
    {
     "data": {
      "text/plain": [
       "NU_NOTA_COMP1      119.880361\n",
       "NU_NOTA_COMP2      111.998019\n",
       "NU_NOTA_COMP3      106.906012\n",
       "NU_NOTA_COMP4      113.210360\n",
       "NU_NOTA_COMP5       77.458156\n",
       "NU_NOTA_REDACAO    529.452907\n",
       "dtype: float64"
      ]
     },
     "execution_count": 69,
     "metadata": {},
     "output_type": "execute_result"
    }
   ],
   "source": [
    "# Optou-se por colocar a média das notas da base de treino na base de test\n",
    "colunas = [ 'NU_NOTA_COMP1', 'NU_NOTA_COMP2', 'NU_NOTA_COMP3', 'NU_NOTA_COMP4',\n",
    "        'NU_NOTA_COMP5', 'NU_NOTA_REDACAO']\n",
    "mean_train = df2.xs('train')[colunas].mean()\n",
    "mean_train"
   ]
  },
  {
   "cell_type": "markdown",
   "metadata": {},
   "source": [
    "# Arquivo para submissão"
   ]
  },
  {
   "cell_type": "code",
   "execution_count": 70,
   "metadata": {},
   "outputs": [],
   "source": [
    "colunas = df2.drop(['NU_NOTA_MT', 'NU_INSCRICAO'], axis=1).columns\n",
    "df_entrega = df2.xs('test')[colunas]"
   ]
  },
  {
   "cell_type": "code",
   "execution_count": 71,
   "metadata": {},
   "outputs": [],
   "source": [
    "# Preenche dados Nan com a média da base de treino\n",
    "df_entrega1 = df2.xs('test')[colunas].fillna(0)\n",
    "\n",
    "modelo_preds = grid_Search.predict(df_entrega1)"
   ]
  },
  {
   "cell_type": "code",
   "execution_count": 72,
   "metadata": {},
   "outputs": [],
   "source": [
    "df_submit = pd.DataFrame({\n",
    "    'NU_INSCRICAO':df2.xs('test').NU_INSCRICAO,\n",
    "    'NU_NOTA_MT':modelo_preds\n",
    "})\n",
    "df_submit.to_csv('answer.csv', index=False)"
   ]
  }
 ],
 "metadata": {
  "kernelspec": {
   "display_name": "Python 3",
   "language": "python",
   "name": "python3"
  },
  "language_info": {
   "codemirror_mode": {
    "name": "ipython",
    "version": 3
   },
   "file_extension": ".py",
   "mimetype": "text/x-python",
   "name": "python",
   "nbconvert_exporter": "python",
   "pygments_lexer": "ipython3",
   "version": "3.7.4"
  }
 },
 "nbformat": 4,
 "nbformat_minor": 2
}
