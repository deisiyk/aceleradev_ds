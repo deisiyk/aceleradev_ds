{
 "cells": [
  {
   "cell_type": "markdown",
   "metadata": {},
   "source": [
    "# Desafio 6\n",
    "\n",
    "Neste desafio, vamos praticar _feature engineering_, um dos processos mais importantes e trabalhosos de ML. Utilizaremos o _data set_ [Countries of the world](https://www.kaggle.com/fernandol/countries-of-the-world), que contém dados sobre os 227 países do mundo com informações sobre tamanho da população, área, imigração e setores de produção.\n",
    "\n",
    "> Obs.: Por favor, não modifique o nome das funções de resposta."
   ]
  },
  {
   "cell_type": "markdown",
   "metadata": {},
   "source": [
    "## _Setup_ geral"
   ]
  },
  {
   "cell_type": "code",
   "execution_count": 1,
   "metadata": {},
   "outputs": [],
   "source": [
    "import pandas as pd\n",
    "import numpy as np\n",
    "import seaborn as sns\n",
    "import sklearn as sk\n",
    "import matplotlib.pyplot as plt\n",
    "import scipy.stats as sct\n",
    "\n",
    "from sklearn import preprocessing\n",
    "from sklearn.pipeline import Pipeline\n",
    "from sklearn.impute import SimpleImputer\n",
    "from sklearn.datasets import fetch_20newsgroups\n",
    "from sklearn.feature_extraction.text import CountVectorizer\n",
    "from sklearn.feature_extraction.text import TfidfVectorizer\n",
    "from math import sqrt, log"
   ]
  },
  {
   "cell_type": "code",
   "execution_count": 4,
   "metadata": {},
   "outputs": [],
   "source": [
    "# Algumas configurações para o matplotlib.\n",
    "#%matplotlib inline\n",
    "\n",
    "from IPython.core.pylabtools import figsize\n",
    "\n",
    "\n",
    "figsize(12, 8)\n",
    "\n",
    "sns.set()"
   ]
  },
  {
   "cell_type": "code",
   "execution_count": 5,
   "metadata": {
    "scrolled": false
   },
   "outputs": [],
   "source": [
    "countries = pd.read_csv(\"countries.csv\")"
   ]
  },
  {
   "cell_type": "code",
   "execution_count": 6,
   "metadata": {},
   "outputs": [
    {
     "data": {
      "text/html": [
       "<div>\n",
       "<style scoped>\n",
       "    .dataframe tbody tr th:only-of-type {\n",
       "        vertical-align: middle;\n",
       "    }\n",
       "\n",
       "    .dataframe tbody tr th {\n",
       "        vertical-align: top;\n",
       "    }\n",
       "\n",
       "    .dataframe thead th {\n",
       "        text-align: right;\n",
       "    }\n",
       "</style>\n",
       "<table border=\"1\" class=\"dataframe\">\n",
       "  <thead>\n",
       "    <tr style=\"text-align: right;\">\n",
       "      <th></th>\n",
       "      <th>Country</th>\n",
       "      <th>Region</th>\n",
       "      <th>Population</th>\n",
       "      <th>Area</th>\n",
       "      <th>Pop_density</th>\n",
       "      <th>Coastline_ratio</th>\n",
       "      <th>Net_migration</th>\n",
       "      <th>Infant_mortality</th>\n",
       "      <th>GDP</th>\n",
       "      <th>Literacy</th>\n",
       "      <th>Phones_per_1000</th>\n",
       "      <th>Arable</th>\n",
       "      <th>Crops</th>\n",
       "      <th>Other</th>\n",
       "      <th>Climate</th>\n",
       "      <th>Birthrate</th>\n",
       "      <th>Deathrate</th>\n",
       "      <th>Agriculture</th>\n",
       "      <th>Industry</th>\n",
       "      <th>Service</th>\n",
       "    </tr>\n",
       "  </thead>\n",
       "  <tbody>\n",
       "    <tr>\n",
       "      <td>0</td>\n",
       "      <td>Afghanistan</td>\n",
       "      <td>ASIA (EX. NEAR EAST)</td>\n",
       "      <td>31056997</td>\n",
       "      <td>647500</td>\n",
       "      <td>48,0</td>\n",
       "      <td>0,00</td>\n",
       "      <td>23,06</td>\n",
       "      <td>163,07</td>\n",
       "      <td>700.0</td>\n",
       "      <td>36,0</td>\n",
       "      <td>3,2</td>\n",
       "      <td>12,13</td>\n",
       "      <td>0,22</td>\n",
       "      <td>87,65</td>\n",
       "      <td>1</td>\n",
       "      <td>46,6</td>\n",
       "      <td>20,34</td>\n",
       "      <td>0,38</td>\n",
       "      <td>0,24</td>\n",
       "      <td>0,38</td>\n",
       "    </tr>\n",
       "    <tr>\n",
       "      <td>1</td>\n",
       "      <td>Albania</td>\n",
       "      <td>EASTERN EUROPE</td>\n",
       "      <td>3581655</td>\n",
       "      <td>28748</td>\n",
       "      <td>124,6</td>\n",
       "      <td>1,26</td>\n",
       "      <td>-4,93</td>\n",
       "      <td>21,52</td>\n",
       "      <td>4500.0</td>\n",
       "      <td>86,5</td>\n",
       "      <td>71,2</td>\n",
       "      <td>21,09</td>\n",
       "      <td>4,42</td>\n",
       "      <td>74,49</td>\n",
       "      <td>3</td>\n",
       "      <td>15,11</td>\n",
       "      <td>5,22</td>\n",
       "      <td>0,232</td>\n",
       "      <td>0,188</td>\n",
       "      <td>0,579</td>\n",
       "    </tr>\n",
       "    <tr>\n",
       "      <td>2</td>\n",
       "      <td>Algeria</td>\n",
       "      <td>NORTHERN AFRICA</td>\n",
       "      <td>32930091</td>\n",
       "      <td>2381740</td>\n",
       "      <td>13,8</td>\n",
       "      <td>0,04</td>\n",
       "      <td>-0,39</td>\n",
       "      <td>31</td>\n",
       "      <td>6000.0</td>\n",
       "      <td>70,0</td>\n",
       "      <td>78,1</td>\n",
       "      <td>3,22</td>\n",
       "      <td>0,25</td>\n",
       "      <td>96,53</td>\n",
       "      <td>1</td>\n",
       "      <td>17,14</td>\n",
       "      <td>4,61</td>\n",
       "      <td>0,101</td>\n",
       "      <td>0,6</td>\n",
       "      <td>0,298</td>\n",
       "    </tr>\n",
       "    <tr>\n",
       "      <td>3</td>\n",
       "      <td>American Samoa</td>\n",
       "      <td>OCEANIA</td>\n",
       "      <td>57794</td>\n",
       "      <td>199</td>\n",
       "      <td>290,4</td>\n",
       "      <td>58,29</td>\n",
       "      <td>-20,71</td>\n",
       "      <td>9,27</td>\n",
       "      <td>8000.0</td>\n",
       "      <td>97,0</td>\n",
       "      <td>259,5</td>\n",
       "      <td>10</td>\n",
       "      <td>15</td>\n",
       "      <td>75</td>\n",
       "      <td>2</td>\n",
       "      <td>22,46</td>\n",
       "      <td>3,27</td>\n",
       "      <td>NaN</td>\n",
       "      <td>NaN</td>\n",
       "      <td>NaN</td>\n",
       "    </tr>\n",
       "    <tr>\n",
       "      <td>4</td>\n",
       "      <td>Andorra</td>\n",
       "      <td>WESTERN EUROPE</td>\n",
       "      <td>71201</td>\n",
       "      <td>468</td>\n",
       "      <td>152,1</td>\n",
       "      <td>0,00</td>\n",
       "      <td>6,6</td>\n",
       "      <td>4,05</td>\n",
       "      <td>19000.0</td>\n",
       "      <td>100,0</td>\n",
       "      <td>497,2</td>\n",
       "      <td>2,22</td>\n",
       "      <td>0</td>\n",
       "      <td>97,78</td>\n",
       "      <td>3</td>\n",
       "      <td>8,71</td>\n",
       "      <td>6,25</td>\n",
       "      <td>NaN</td>\n",
       "      <td>NaN</td>\n",
       "      <td>NaN</td>\n",
       "    </tr>\n",
       "  </tbody>\n",
       "</table>\n",
       "</div>"
      ],
      "text/plain": [
       "           Country                               Region  Population     Area  \\\n",
       "0     Afghanistan         ASIA (EX. NEAR EAST)             31056997   647500   \n",
       "1         Albania   EASTERN EUROPE                          3581655    28748   \n",
       "2         Algeria   NORTHERN AFRICA                        32930091  2381740   \n",
       "3  American Samoa   OCEANIA                                   57794      199   \n",
       "4         Andorra   WESTERN EUROPE                            71201      468   \n",
       "\n",
       "  Pop_density Coastline_ratio Net_migration Infant_mortality      GDP  \\\n",
       "0        48,0            0,00         23,06           163,07    700.0   \n",
       "1       124,6            1,26         -4,93            21,52   4500.0   \n",
       "2        13,8            0,04         -0,39               31   6000.0   \n",
       "3       290,4           58,29        -20,71             9,27   8000.0   \n",
       "4       152,1            0,00           6,6             4,05  19000.0   \n",
       "\n",
       "  Literacy Phones_per_1000 Arable Crops  Other Climate Birthrate Deathrate  \\\n",
       "0     36,0             3,2  12,13  0,22  87,65       1      46,6     20,34   \n",
       "1     86,5            71,2  21,09  4,42  74,49       3     15,11      5,22   \n",
       "2     70,0            78,1   3,22  0,25  96,53       1     17,14      4,61   \n",
       "3     97,0           259,5     10    15     75       2     22,46      3,27   \n",
       "4    100,0           497,2   2,22     0  97,78       3      8,71      6,25   \n",
       "\n",
       "  Agriculture Industry Service  \n",
       "0        0,38     0,24    0,38  \n",
       "1       0,232    0,188   0,579  \n",
       "2       0,101      0,6   0,298  \n",
       "3         NaN      NaN     NaN  \n",
       "4         NaN      NaN     NaN  "
      ]
     },
     "execution_count": 6,
     "metadata": {},
     "output_type": "execute_result"
    }
   ],
   "source": [
    "new_column_names = [\n",
    "    \"Country\", \"Region\", \"Population\", \"Area\", \"Pop_density\", \"Coastline_ratio\",\n",
    "    \"Net_migration\", \"Infant_mortality\", \"GDP\", \"Literacy\", \"Phones_per_1000\",\n",
    "    \"Arable\", \"Crops\", \"Other\", \"Climate\", \"Birthrate\", \"Deathrate\", \"Agriculture\",\n",
    "    \"Industry\", \"Service\"\n",
    "]\n",
    "\n",
    "countries.columns = new_column_names\n",
    "\n",
    "countries.head(5)"
   ]
  },
  {
   "cell_type": "markdown",
   "metadata": {},
   "source": [
    "## Observações\n",
    "\n",
    "Esse _data set_ ainda precisa de alguns ajustes iniciais. Primeiro, note que as variáveis numéricas estão usando vírgula como separador decimal e estão codificadas como strings. Corrija isso antes de continuar: transforme essas variáveis em numéricas adequadamente.\n",
    "\n",
    "Além disso, as variáveis `Country` e `Region` possuem espaços a mais no começo e no final da string. Você pode utilizar o método `str.strip()` para remover esses espaços."
   ]
  },
  {
   "cell_type": "markdown",
   "metadata": {},
   "source": [
    "## Inicia sua análise a partir daqui"
   ]
  },
  {
   "cell_type": "code",
   "execution_count": 7,
   "metadata": {},
   "outputs": [
    {
     "data": {
      "text/html": [
       "<div>\n",
       "<style scoped>\n",
       "    .dataframe tbody tr th:only-of-type {\n",
       "        vertical-align: middle;\n",
       "    }\n",
       "\n",
       "    .dataframe tbody tr th {\n",
       "        vertical-align: top;\n",
       "    }\n",
       "\n",
       "    .dataframe thead th {\n",
       "        text-align: right;\n",
       "    }\n",
       "</style>\n",
       "<table border=\"1\" class=\"dataframe\">\n",
       "  <thead>\n",
       "    <tr style=\"text-align: right;\">\n",
       "      <th></th>\n",
       "      <th>Columns</th>\n",
       "      <th>Type</th>\n",
       "      <th>Nan</th>\n",
       "      <th>Nan%</th>\n",
       "    </tr>\n",
       "  </thead>\n",
       "  <tbody>\n",
       "    <tr>\n",
       "      <td>Country</td>\n",
       "      <td>Country</td>\n",
       "      <td>object</td>\n",
       "      <td>0</td>\n",
       "      <td>0.00</td>\n",
       "    </tr>\n",
       "    <tr>\n",
       "      <td>Region</td>\n",
       "      <td>Region</td>\n",
       "      <td>object</td>\n",
       "      <td>0</td>\n",
       "      <td>0.00</td>\n",
       "    </tr>\n",
       "    <tr>\n",
       "      <td>Population</td>\n",
       "      <td>Population</td>\n",
       "      <td>int64</td>\n",
       "      <td>0</td>\n",
       "      <td>0.00</td>\n",
       "    </tr>\n",
       "    <tr>\n",
       "      <td>Area</td>\n",
       "      <td>Area</td>\n",
       "      <td>int64</td>\n",
       "      <td>0</td>\n",
       "      <td>0.00</td>\n",
       "    </tr>\n",
       "    <tr>\n",
       "      <td>Pop_density</td>\n",
       "      <td>Pop_density</td>\n",
       "      <td>object</td>\n",
       "      <td>0</td>\n",
       "      <td>0.00</td>\n",
       "    </tr>\n",
       "    <tr>\n",
       "      <td>Coastline_ratio</td>\n",
       "      <td>Coastline_ratio</td>\n",
       "      <td>object</td>\n",
       "      <td>0</td>\n",
       "      <td>0.00</td>\n",
       "    </tr>\n",
       "    <tr>\n",
       "      <td>Net_migration</td>\n",
       "      <td>Net_migration</td>\n",
       "      <td>object</td>\n",
       "      <td>3</td>\n",
       "      <td>1.32</td>\n",
       "    </tr>\n",
       "    <tr>\n",
       "      <td>Infant_mortality</td>\n",
       "      <td>Infant_mortality</td>\n",
       "      <td>object</td>\n",
       "      <td>3</td>\n",
       "      <td>1.32</td>\n",
       "    </tr>\n",
       "    <tr>\n",
       "      <td>GDP</td>\n",
       "      <td>GDP</td>\n",
       "      <td>float64</td>\n",
       "      <td>1</td>\n",
       "      <td>0.44</td>\n",
       "    </tr>\n",
       "    <tr>\n",
       "      <td>Literacy</td>\n",
       "      <td>Literacy</td>\n",
       "      <td>object</td>\n",
       "      <td>18</td>\n",
       "      <td>7.93</td>\n",
       "    </tr>\n",
       "    <tr>\n",
       "      <td>Phones_per_1000</td>\n",
       "      <td>Phones_per_1000</td>\n",
       "      <td>object</td>\n",
       "      <td>4</td>\n",
       "      <td>1.76</td>\n",
       "    </tr>\n",
       "    <tr>\n",
       "      <td>Arable</td>\n",
       "      <td>Arable</td>\n",
       "      <td>object</td>\n",
       "      <td>2</td>\n",
       "      <td>0.88</td>\n",
       "    </tr>\n",
       "    <tr>\n",
       "      <td>Crops</td>\n",
       "      <td>Crops</td>\n",
       "      <td>object</td>\n",
       "      <td>2</td>\n",
       "      <td>0.88</td>\n",
       "    </tr>\n",
       "    <tr>\n",
       "      <td>Other</td>\n",
       "      <td>Other</td>\n",
       "      <td>object</td>\n",
       "      <td>2</td>\n",
       "      <td>0.88</td>\n",
       "    </tr>\n",
       "    <tr>\n",
       "      <td>Climate</td>\n",
       "      <td>Climate</td>\n",
       "      <td>object</td>\n",
       "      <td>22</td>\n",
       "      <td>9.69</td>\n",
       "    </tr>\n",
       "    <tr>\n",
       "      <td>Birthrate</td>\n",
       "      <td>Birthrate</td>\n",
       "      <td>object</td>\n",
       "      <td>3</td>\n",
       "      <td>1.32</td>\n",
       "    </tr>\n",
       "    <tr>\n",
       "      <td>Deathrate</td>\n",
       "      <td>Deathrate</td>\n",
       "      <td>object</td>\n",
       "      <td>4</td>\n",
       "      <td>1.76</td>\n",
       "    </tr>\n",
       "    <tr>\n",
       "      <td>Agriculture</td>\n",
       "      <td>Agriculture</td>\n",
       "      <td>object</td>\n",
       "      <td>15</td>\n",
       "      <td>6.61</td>\n",
       "    </tr>\n",
       "    <tr>\n",
       "      <td>Industry</td>\n",
       "      <td>Industry</td>\n",
       "      <td>object</td>\n",
       "      <td>16</td>\n",
       "      <td>7.05</td>\n",
       "    </tr>\n",
       "    <tr>\n",
       "      <td>Service</td>\n",
       "      <td>Service</td>\n",
       "      <td>object</td>\n",
       "      <td>15</td>\n",
       "      <td>6.61</td>\n",
       "    </tr>\n",
       "  </tbody>\n",
       "</table>\n",
       "</div>"
      ],
      "text/plain": [
       "                           Columns     Type  Nan  Nan%\n",
       "Country                    Country   object    0  0.00\n",
       "Region                      Region   object    0  0.00\n",
       "Population              Population    int64    0  0.00\n",
       "Area                          Area    int64    0  0.00\n",
       "Pop_density            Pop_density   object    0  0.00\n",
       "Coastline_ratio    Coastline_ratio   object    0  0.00\n",
       "Net_migration        Net_migration   object    3  1.32\n",
       "Infant_mortality  Infant_mortality   object    3  1.32\n",
       "GDP                            GDP  float64    1  0.44\n",
       "Literacy                  Literacy   object   18  7.93\n",
       "Phones_per_1000    Phones_per_1000   object    4  1.76\n",
       "Arable                      Arable   object    2  0.88\n",
       "Crops                        Crops   object    2  0.88\n",
       "Other                        Other   object    2  0.88\n",
       "Climate                    Climate   object   22  9.69\n",
       "Birthrate                Birthrate   object    3  1.32\n",
       "Deathrate                Deathrate   object    4  1.76\n",
       "Agriculture            Agriculture   object   15  6.61\n",
       "Industry                  Industry   object   16  7.05\n",
       "Service                    Service   object   15  6.61"
      ]
     },
     "execution_count": 7,
     "metadata": {},
     "output_type": "execute_result"
    }
   ],
   "source": [
    "# Sua análise começa aqui.\n",
    "\n",
    "#Criação do dataset auxiliar para análise inicial dos dados\n",
    "df_aux = pd.DataFrame({\n",
    "                    'Columns': countries.columns,\n",
    "                    'Type': countries.dtypes,\n",
    "                    'Nan': countries.isnull().sum()\n",
    "                    })\n",
    "df_aux['Nan%'] = round(df_aux.Nan/countries.shape[0]*100,2)\n",
    "df_aux"
   ]
  },
  {
   "cell_type": "code",
   "execution_count": 8,
   "metadata": {},
   "outputs": [
    {
     "data": {
      "text/plain": [
       "2      111\n",
       "3       48\n",
       "1       29\n",
       "1,5      8\n",
       "4        6\n",
       "2,5      3\n",
       "Name: Climate, dtype: int64"
      ]
     },
     "execution_count": 8,
     "metadata": {},
     "output_type": "execute_result"
    }
   ],
   "source": [
    "#por apresentar poucos valores distintos Climate poderia ser considerada uma variável categórica\n",
    "countries.Climate.value_counts()"
   ]
  },
  {
   "cell_type": "code",
   "execution_count": 9,
   "metadata": {},
   "outputs": [],
   "source": [
    "col = ['Pop_density', 'Coastline_ratio', 'Net_migration', 'Infant_mortality',\n",
    "       'Literacy', 'Phones_per_1000', 'Arable', 'Crops', 'Other','Climate',\n",
    "       'Birthrate', 'Deathrate', 'Agriculture', 'Industry', 'Service']"
   ]
  },
  {
   "cell_type": "code",
   "execution_count": 10,
   "metadata": {},
   "outputs": [],
   "source": [
    "# nas colunas que devem ser transformadas em numéricas\n",
    "# substitui a virgula por ponto\n",
    "# convert de string para float\n",
    "\n",
    "def replace(x):\n",
    "    if pd.isnull(x):\n",
    "        pass\n",
    "    else:\n",
    "        x = x.replace(',','.')\n",
    "        x = float(x)\n",
    "    return x\n",
    "            \n",
    "for i in col:\n",
    "    countries[i] = list(map(replace, countries[i] ))"
   ]
  },
  {
   "cell_type": "markdown",
   "metadata": {},
   "source": [
    "## Análise Questão 1"
   ]
  },
  {
   "cell_type": "code",
   "execution_count": 11,
   "metadata": {},
   "outputs": [
    {
     "data": {
      "text/plain": [
       "'Afghanistan '"
      ]
     },
     "execution_count": 11,
     "metadata": {},
     "output_type": "execute_result"
    }
   ],
   "source": [
    "# identificando espaços nas colunas Country e Region\n",
    "countries.Country[0]"
   ]
  },
  {
   "cell_type": "code",
   "execution_count": 12,
   "metadata": {},
   "outputs": [
    {
     "data": {
      "text/plain": [
       "'ASIA (EX. NEAR EAST)         '"
      ]
     },
     "execution_count": 12,
     "metadata": {},
     "output_type": "execute_result"
    }
   ],
   "source": [
    "countries.Region[0]"
   ]
  },
  {
   "cell_type": "code",
   "execution_count": 13,
   "metadata": {},
   "outputs": [],
   "source": [
    "# remove espaços em branco no começo e no final da string\n",
    "# caso fosse remover somente em uma das posições lstrip() rstrip()\n",
    "# como a string é imutável, é necessário que outra variável receba seu valor\n",
    "countries['Country'] = countries['Country'].str.strip()\n",
    "countries['Region'] = countries['Region'].str.strip()"
   ]
  },
  {
   "cell_type": "code",
   "execution_count": 14,
   "metadata": {},
   "outputs": [
    {
     "data": {
      "text/plain": [
       "['ASIA (EX. NEAR EAST)',\n",
       " 'BALTICS',\n",
       " 'C.W. OF IND. STATES',\n",
       " 'EASTERN EUROPE',\n",
       " 'LATIN AMER. & CARIB',\n",
       " 'NEAR EAST',\n",
       " 'NORTHERN AFRICA',\n",
       " 'NORTHERN AMERICA',\n",
       " 'OCEANIA',\n",
       " 'SUB-SAHARAN AFRICA',\n",
       " 'WESTERN EUROPE']"
      ]
     },
     "execution_count": 14,
     "metadata": {},
     "output_type": "execute_result"
    }
   ],
   "source": [
    "sorted(countries.Region.value_counts().index.tolist()) "
   ]
  },
  {
   "cell_type": "markdown",
   "metadata": {},
   "source": [
    "## Análise questão 2"
   ]
  },
  {
   "cell_type": "code",
   "execution_count": 15,
   "metadata": {},
   "outputs": [
    {
     "data": {
      "text/plain": [
       "<matplotlib.axes._subplots.AxesSubplot at 0x221d1803c48>"
      ]
     },
     "execution_count": 15,
     "metadata": {},
     "output_type": "execute_result"
    },
    {
     "data": {
      "image/png": "[encoded data removed]",
      "text/plain": [
       "<Figure size 864x576 with 1 Axes>"
      ]
     },
     "metadata": {},
     "output_type": "display_data"
    }
   ],
   "source": [
    "countries.Pop_density.hist()"
   ]
  },
  {
   "cell_type": "code",
   "execution_count": 16,
   "metadata": {},
   "outputs": [
    {
     "data": {
      "text/html": [
       "<div>\n",
       "<style scoped>\n",
       "    .dataframe tbody tr th:only-of-type {\n",
       "        vertical-align: middle;\n",
       "    }\n",
       "\n",
       "    .dataframe tbody tr th {\n",
       "        vertical-align: top;\n",
       "    }\n",
       "\n",
       "    .dataframe thead th {\n",
       "        text-align: right;\n",
       "    }\n",
       "</style>\n",
       "<table border=\"1\" class=\"dataframe\">\n",
       "  <thead>\n",
       "    <tr style=\"text-align: right;\">\n",
       "      <th></th>\n",
       "      <th>Country</th>\n",
       "      <th>Region</th>\n",
       "      <th>Population</th>\n",
       "      <th>Area</th>\n",
       "      <th>Pop_density</th>\n",
       "      <th>Coastline_ratio</th>\n",
       "      <th>Net_migration</th>\n",
       "      <th>Infant_mortality</th>\n",
       "      <th>GDP</th>\n",
       "      <th>Literacy</th>\n",
       "      <th>Phones_per_1000</th>\n",
       "      <th>Arable</th>\n",
       "      <th>Crops</th>\n",
       "      <th>Other</th>\n",
       "      <th>Climate</th>\n",
       "      <th>Birthrate</th>\n",
       "      <th>Deathrate</th>\n",
       "      <th>Agriculture</th>\n",
       "      <th>Industry</th>\n",
       "      <th>Service</th>\n",
       "    </tr>\n",
       "  </thead>\n",
       "  <tbody>\n",
       "    <tr>\n",
       "      <td>74</td>\n",
       "      <td>Gaza Strip</td>\n",
       "      <td>NEAR EAST</td>\n",
       "      <td>1428757</td>\n",
       "      <td>360</td>\n",
       "      <td>3968.8</td>\n",
       "      <td>11.11</td>\n",
       "      <td>1.60</td>\n",
       "      <td>22.93</td>\n",
       "      <td>600.0</td>\n",
       "      <td>NaN</td>\n",
       "      <td>244.3</td>\n",
       "      <td>28.95</td>\n",
       "      <td>21.05</td>\n",
       "      <td>50.00</td>\n",
       "      <td>3.0</td>\n",
       "      <td>39.45</td>\n",
       "      <td>3.80</td>\n",
       "      <td>0.030</td>\n",
       "      <td>0.283</td>\n",
       "      <td>0.687</td>\n",
       "    </tr>\n",
       "    <tr>\n",
       "      <td>78</td>\n",
       "      <td>Gibraltar</td>\n",
       "      <td>WESTERN EUROPE</td>\n",
       "      <td>27928</td>\n",
       "      <td>7</td>\n",
       "      <td>3989.7</td>\n",
       "      <td>171.43</td>\n",
       "      <td>0.00</td>\n",
       "      <td>5.13</td>\n",
       "      <td>17500.0</td>\n",
       "      <td>NaN</td>\n",
       "      <td>877.7</td>\n",
       "      <td>0.00</td>\n",
       "      <td>0.00</td>\n",
       "      <td>100.00</td>\n",
       "      <td>NaN</td>\n",
       "      <td>10.74</td>\n",
       "      <td>9.31</td>\n",
       "      <td>NaN</td>\n",
       "      <td>NaN</td>\n",
       "      <td>NaN</td>\n",
       "    </tr>\n",
       "    <tr>\n",
       "      <td>91</td>\n",
       "      <td>Hong Kong</td>\n",
       "      <td>ASIA (EX. NEAR EAST)</td>\n",
       "      <td>6940432</td>\n",
       "      <td>1092</td>\n",
       "      <td>6355.7</td>\n",
       "      <td>67.12</td>\n",
       "      <td>5.24</td>\n",
       "      <td>2.97</td>\n",
       "      <td>28800.0</td>\n",
       "      <td>93.5</td>\n",
       "      <td>546.7</td>\n",
       "      <td>5.05</td>\n",
       "      <td>1.01</td>\n",
       "      <td>93.94</td>\n",
       "      <td>2.0</td>\n",
       "      <td>7.29</td>\n",
       "      <td>6.29</td>\n",
       "      <td>0.001</td>\n",
       "      <td>0.092</td>\n",
       "      <td>0.906</td>\n",
       "    </tr>\n",
       "    <tr>\n",
       "      <td>122</td>\n",
       "      <td>Macau</td>\n",
       "      <td>ASIA (EX. NEAR EAST)</td>\n",
       "      <td>453125</td>\n",
       "      <td>28</td>\n",
       "      <td>16183.0</td>\n",
       "      <td>146.43</td>\n",
       "      <td>4.86</td>\n",
       "      <td>4.39</td>\n",
       "      <td>19400.0</td>\n",
       "      <td>94.5</td>\n",
       "      <td>384.9</td>\n",
       "      <td>0.00</td>\n",
       "      <td>0.00</td>\n",
       "      <td>100.00</td>\n",
       "      <td>2.0</td>\n",
       "      <td>8.48</td>\n",
       "      <td>4.47</td>\n",
       "      <td>0.001</td>\n",
       "      <td>0.072</td>\n",
       "      <td>0.927</td>\n",
       "    </tr>\n",
       "    <tr>\n",
       "      <td>138</td>\n",
       "      <td>Monaco</td>\n",
       "      <td>WESTERN EUROPE</td>\n",
       "      <td>32543</td>\n",
       "      <td>2</td>\n",
       "      <td>16271.5</td>\n",
       "      <td>205.00</td>\n",
       "      <td>7.75</td>\n",
       "      <td>5.43</td>\n",
       "      <td>27000.0</td>\n",
       "      <td>99.0</td>\n",
       "      <td>1035.6</td>\n",
       "      <td>0.00</td>\n",
       "      <td>0.00</td>\n",
       "      <td>100.00</td>\n",
       "      <td>NaN</td>\n",
       "      <td>9.19</td>\n",
       "      <td>12.91</td>\n",
       "      <td>0.170</td>\n",
       "      <td>NaN</td>\n",
       "      <td>NaN</td>\n",
       "    </tr>\n",
       "    <tr>\n",
       "      <td>184</td>\n",
       "      <td>Singapore</td>\n",
       "      <td>ASIA (EX. NEAR EAST)</td>\n",
       "      <td>4492150</td>\n",
       "      <td>693</td>\n",
       "      <td>6482.2</td>\n",
       "      <td>27.85</td>\n",
       "      <td>11.53</td>\n",
       "      <td>2.29</td>\n",
       "      <td>23700.0</td>\n",
       "      <td>92.5</td>\n",
       "      <td>411.4</td>\n",
       "      <td>1.64</td>\n",
       "      <td>0.00</td>\n",
       "      <td>98.36</td>\n",
       "      <td>2.0</td>\n",
       "      <td>9.34</td>\n",
       "      <td>4.28</td>\n",
       "      <td>0.000</td>\n",
       "      <td>0.339</td>\n",
       "      <td>0.661</td>\n",
       "    </tr>\n",
       "  </tbody>\n",
       "</table>\n",
       "</div>"
      ],
      "text/plain": [
       "        Country                Region  Population  Area  Pop_density  \\\n",
       "74   Gaza Strip             NEAR EAST     1428757   360       3968.8   \n",
       "78    Gibraltar        WESTERN EUROPE       27928     7       3989.7   \n",
       "91    Hong Kong  ASIA (EX. NEAR EAST)     6940432  1092       6355.7   \n",
       "122       Macau  ASIA (EX. NEAR EAST)      453125    28      16183.0   \n",
       "138      Monaco        WESTERN EUROPE       32543     2      16271.5   \n",
       "184   Singapore  ASIA (EX. NEAR EAST)     4492150   693       6482.2   \n",
       "\n",
       "     Coastline_ratio  Net_migration  Infant_mortality      GDP  Literacy  \\\n",
       "74             11.11           1.60             22.93    600.0       NaN   \n",
       "78            171.43           0.00              5.13  17500.0       NaN   \n",
       "91             67.12           5.24              2.97  28800.0      93.5   \n",
       "122           146.43           4.86              4.39  19400.0      94.5   \n",
       "138           205.00           7.75              5.43  27000.0      99.0   \n",
       "184            27.85          11.53              2.29  23700.0      92.5   \n",
       "\n",
       "     Phones_per_1000  Arable  Crops   Other  Climate  Birthrate  Deathrate  \\\n",
       "74             244.3   28.95  21.05   50.00      3.0      39.45       3.80   \n",
       "78             877.7    0.00   0.00  100.00      NaN      10.74       9.31   \n",
       "91             546.7    5.05   1.01   93.94      2.0       7.29       6.29   \n",
       "122            384.9    0.00   0.00  100.00      2.0       8.48       4.47   \n",
       "138           1035.6    0.00   0.00  100.00      NaN       9.19      12.91   \n",
       "184            411.4    1.64   0.00   98.36      2.0       9.34       4.28   \n",
       "\n",
       "     Agriculture  Industry  Service  \n",
       "74         0.030     0.283    0.687  \n",
       "78           NaN       NaN      NaN  \n",
       "91         0.001     0.092    0.906  \n",
       "122        0.001     0.072    0.927  \n",
       "138        0.170       NaN      NaN  \n",
       "184        0.000     0.339    0.661  "
      ]
     },
     "execution_count": 16,
     "metadata": {},
     "output_type": "execute_result"
    }
   ],
   "source": [
    "# existem apenas dois registros nos intervalos acima maiores que 2000\n",
    "countries[countries.Pop_density>2000]"
   ]
  },
  {
   "cell_type": "code",
   "execution_count": 17,
   "metadata": {},
   "outputs": [
    {
     "data": {
      "text/plain": [
       "KBinsDiscretizer(encode='ordinal', n_bins=10, strategy='quantile')"
      ]
     },
     "execution_count": 17,
     "metadata": {},
     "output_type": "execute_result"
    }
   ],
   "source": [
    "#Criação de variável que representa intevalos, semelhante ao pd.cut\n",
    "discretizer = preprocessing.KBinsDiscretizer(n_bins=10, encode='ordinal', strategy='quantile')\n",
    "discretizer.fit(countries[['Pop_density']])"
   ]
  },
  {
   "cell_type": "code",
   "execution_count": 18,
   "metadata": {},
   "outputs": [
    {
     "data": {
      "text/plain": [
       "array([array([0.00000e+00, 1.01400e+01, 2.12200e+01, 3.94800e+01, 5.98000e+01,\n",
       "       7.88000e+01, 1.05540e+02, 1.50120e+02, 2.53700e+02, 3.96740e+02,\n",
       "       1.62715e+04])], dtype=object)"
      ]
     },
     "execution_count": 18,
     "metadata": {},
     "output_type": "execute_result"
    }
   ],
   "source": [
    "# limites para cada range\n",
    "discretizer.bin_edges_"
   ]
  },
  {
   "cell_type": "code",
   "execution_count": 19,
   "metadata": {},
   "outputs": [],
   "source": [
    "# numericamente representa em qual intervalo ficara cada linha\n",
    "score_bins = discretizer.transform(countries[['Pop_density']])"
   ]
  },
  {
   "cell_type": "code",
   "execution_count": 20,
   "metadata": {},
   "outputs": [
    {
     "data": {
      "text/plain": [
       "array([3., 6., 1., 8., 7., 0., 6., 7., 1., 5., 8., 0., 5., 5., 2., 9., 9.,\n",
       "       9., 3., 8., 1., 4., 9., 3., 0., 5., 0., 2., 7., 4., 4., 3., 4., 8.,\n",
       "       4., 2., 0., 5., 7., 0., 0., 2., 6., 2., 8., 2., 1., 5., 5., 3., 5.,\n",
       "       5., 5., 6., 6., 1., 5., 7., 4., 3., 5., 8., 1., 3., 2., 4., 2., 3.,\n",
       "       1., 6., 0., 4., 0., 6., 9., 4., 7., 5., 9., 5., 0., 8., 8., 8., 6.,\n",
       "       9., 2., 3., 0., 8., 4., 9., 6., 0., 8., 6., 3., 4., 3., 6., 8., 7.,\n",
       "       7., 8., 9., 4., 0., 3., 6., 7., 9., 6., 2., 2., 2., 8., 4., 2., 0.,\n",
       "       7., 3., 7., 9., 5., 2., 6., 4., 9., 0., 9., 0., 8., 0., 9., 9., 3.,\n",
       "       7., 6., 9., 0., 5., 4., 2., 0., 9., 7., 9., 7., 1., 1., 3., 0., 6.,\n",
       "       7., 1., 1., 7., 3., 3., 1., 1., 2., 8., 6., 6., 8., 4., 8., 5., 0.,\n",
       "       8., 1., 6., 8., 2., 8., 4., 9., 7., 1., 4., 6., 7., 5., 9., 6., 5.,\n",
       "       1., 1., 2., 5., 8., 1., 0., 4., 1., 7., 5., 9., 3., 3., 6., 5., 7.,\n",
       "       7., 4., 5., 1., 3., 9., 6., 4., 2., 7., 2., 1., 4., 1., 2., 8., 3.,\n",
       "       3., 9., 0., 3., 1., 2.])"
      ]
     },
     "execution_count": 20,
     "metadata": {},
     "output_type": "execute_result"
    }
   ],
   "source": [
    "score_bins[:,0]"
   ]
  },
  {
   "cell_type": "code",
   "execution_count": 21,
   "metadata": {},
   "outputs": [
    {
     "data": {
      "text/plain": [
       "11"
      ]
     },
     "execution_count": 21,
     "metadata": {},
     "output_type": "execute_result"
    }
   ],
   "source": [
    "bin_edges_quantile = discretizer.bin_edges_[0]\n",
    "len(bin_edges_quantile)"
   ]
  },
  {
   "cell_type": "code",
   "execution_count": 22,
   "metadata": {},
   "outputs": [
    {
     "name": "stdout",
     "output_type": "stream",
     "text": [
      "0.00 to 10.14 : qtde registros 23 \n",
      "10.14 to 21.22 : qtde registros 23 \n",
      "21.22 to 39.48 : qtde registros 22 \n",
      "39.48 to 59.80 : qtde registros 23 \n",
      "59.80 to 78.80 : qtde registros 22 \n",
      "78.80 to 105.54 : qtde registros 23 \n",
      "105.54 to 150.12 : qtde registros 23 \n",
      "150.12 to 253.70 : qtde registros 22 \n",
      "253.70 to 396.74 : qtde registros 23 \n",
      "396.74 to 16271.50 : qtde registros 23 \n"
     ]
    }
   ],
   "source": [
    "#lista a quantidade de registros por intervalo de 'Pop_density'\n",
    "#cada intervalo contém 10% dos registros\n",
    "def get_intervals(bin_idx, bin_edge):\n",
    "    return f\"{np.round(bin_edge[bin_idx],2):.2f} to {np.round(bin_edge[bin_idx+1],2):.2f}\"\n",
    "\n",
    "for i in range(len(bin_edges_quantile) -1):\n",
    "    print(f\"{get_intervals(i, bin_edges_quantile)} : qtde registros {sum(score_bins[:,0] == i)} \")"
   ]
  },
  {
   "cell_type": "code",
   "execution_count": 23,
   "metadata": {},
   "outputs": [
    {
     "data": {
      "text/plain": [
       "23"
      ]
     },
     "execution_count": 23,
     "metadata": {},
     "output_type": "execute_result"
    }
   ],
   "source": [
    "#considerando que cada linha é um país\n",
    "#a quantidade de paises que se encontram acima de 90 percentil\n",
    "sum(score_bins[:,0]>=9)"
   ]
  },
  {
   "cell_type": "markdown",
   "metadata": {},
   "source": [
    "## Análise questão 3"
   ]
  },
  {
   "cell_type": "code",
   "execution_count": 24,
   "metadata": {},
   "outputs": [
    {
     "data": {
      "text/plain": [
       "SUB-SAHARAN AFRICA      51\n",
       "LATIN AMER. & CARIB     45\n",
       "ASIA (EX. NEAR EAST)    28\n",
       "WESTERN EUROPE          28\n",
       "OCEANIA                 21\n",
       "NEAR EAST               16\n",
       "EASTERN EUROPE          12\n",
       "C.W. OF IND. STATES     12\n",
       "NORTHERN AFRICA          6\n",
       "NORTHERN AMERICA         5\n",
       "BALTICS                  3\n",
       "Name: Region, dtype: int64"
      ]
     },
     "execution_count": 24,
     "metadata": {},
     "output_type": "execute_result"
    }
   ],
   "source": [
    "#quantidade de registros por Region\n",
    "countries.Region.value_counts()"
   ]
  },
  {
   "cell_type": "code",
   "execution_count": 25,
   "metadata": {},
   "outputs": [
    {
     "data": {
      "text/plain": [
       "2.0    111\n",
       "3.0     48\n",
       "1.0     29\n",
       "NaN     22\n",
       "1.5      8\n",
       "4.0      6\n",
       "2.5      3\n",
       "Name: Climate, dtype: int64"
      ]
     },
     "execution_count": 25,
     "metadata": {},
     "output_type": "execute_result"
    }
   ],
   "source": [
    "#quantidade de registros por Climate\n",
    "countries.Climate.value_counts(dropna=False)"
   ]
  },
  {
   "cell_type": "code",
   "execution_count": 26,
   "metadata": {},
   "outputs": [
    {
     "data": {
      "text/html": [
       "<div>\n",
       "<style scoped>\n",
       "    .dataframe tbody tr th:only-of-type {\n",
       "        vertical-align: middle;\n",
       "    }\n",
       "\n",
       "    .dataframe tbody tr th {\n",
       "        vertical-align: top;\n",
       "    }\n",
       "\n",
       "    .dataframe thead th {\n",
       "        text-align: right;\n",
       "    }\n",
       "</style>\n",
       "<table border=\"1\" class=\"dataframe\">\n",
       "  <thead>\n",
       "    <tr style=\"text-align: right;\">\n",
       "      <th></th>\n",
       "      <th>Country</th>\n",
       "      <th>Region</th>\n",
       "      <th>Population</th>\n",
       "      <th>Area</th>\n",
       "      <th>Pop_density</th>\n",
       "      <th>Coastline_ratio</th>\n",
       "      <th>Net_migration</th>\n",
       "      <th>Infant_mortality</th>\n",
       "      <th>GDP</th>\n",
       "      <th>Literacy</th>\n",
       "      <th>Phones_per_1000</th>\n",
       "      <th>Arable</th>\n",
       "      <th>Crops</th>\n",
       "      <th>Other</th>\n",
       "      <th>Climate</th>\n",
       "      <th>Birthrate</th>\n",
       "      <th>Deathrate</th>\n",
       "      <th>Agriculture</th>\n",
       "      <th>Industry</th>\n",
       "      <th>Service</th>\n",
       "    </tr>\n",
       "  </thead>\n",
       "  <tbody>\n",
       "    <tr>\n",
       "      <td>5</td>\n",
       "      <td>Angola</td>\n",
       "      <td>SUB-SAHARAN AFRICA</td>\n",
       "      <td>12127071</td>\n",
       "      <td>1246700</td>\n",
       "      <td>9.7</td>\n",
       "      <td>0.13</td>\n",
       "      <td>0.00</td>\n",
       "      <td>191.19</td>\n",
       "      <td>1900.0</td>\n",
       "      <td>42.0</td>\n",
       "      <td>7.8</td>\n",
       "      <td>2.41</td>\n",
       "      <td>0.24</td>\n",
       "      <td>97.35</td>\n",
       "      <td>NaN</td>\n",
       "      <td>45.11</td>\n",
       "      <td>24.20</td>\n",
       "      <td>0.096</td>\n",
       "      <td>0.658</td>\n",
       "      <td>0.246</td>\n",
       "    </tr>\n",
       "    <tr>\n",
       "      <td>36</td>\n",
       "      <td>Canada</td>\n",
       "      <td>NORTHERN AMERICA</td>\n",
       "      <td>33098932</td>\n",
       "      <td>9984670</td>\n",
       "      <td>3.3</td>\n",
       "      <td>2.02</td>\n",
       "      <td>5.96</td>\n",
       "      <td>4.75</td>\n",
       "      <td>29800.0</td>\n",
       "      <td>97.0</td>\n",
       "      <td>552.2</td>\n",
       "      <td>4.96</td>\n",
       "      <td>0.02</td>\n",
       "      <td>95.02</td>\n",
       "      <td>NaN</td>\n",
       "      <td>10.78</td>\n",
       "      <td>7.80</td>\n",
       "      <td>0.022</td>\n",
       "      <td>0.294</td>\n",
       "      <td>0.684</td>\n",
       "    </tr>\n",
       "    <tr>\n",
       "      <td>50</td>\n",
       "      <td>Croatia</td>\n",
       "      <td>EASTERN EUROPE</td>\n",
       "      <td>4494749</td>\n",
       "      <td>56542</td>\n",
       "      <td>79.5</td>\n",
       "      <td>10.32</td>\n",
       "      <td>1.58</td>\n",
       "      <td>6.84</td>\n",
       "      <td>10600.0</td>\n",
       "      <td>98.5</td>\n",
       "      <td>420.4</td>\n",
       "      <td>26.09</td>\n",
       "      <td>2.27</td>\n",
       "      <td>71.65</td>\n",
       "      <td>NaN</td>\n",
       "      <td>9.61</td>\n",
       "      <td>11.48</td>\n",
       "      <td>0.070</td>\n",
       "      <td>0.308</td>\n",
       "      <td>0.622</td>\n",
       "    </tr>\n",
       "    <tr>\n",
       "      <td>66</td>\n",
       "      <td>Faroe Islands</td>\n",
       "      <td>WESTERN EUROPE</td>\n",
       "      <td>47246</td>\n",
       "      <td>1399</td>\n",
       "      <td>33.8</td>\n",
       "      <td>79.84</td>\n",
       "      <td>1.41</td>\n",
       "      <td>6.24</td>\n",
       "      <td>22000.0</td>\n",
       "      <td>NaN</td>\n",
       "      <td>503.8</td>\n",
       "      <td>2.14</td>\n",
       "      <td>0.00</td>\n",
       "      <td>97.86</td>\n",
       "      <td>NaN</td>\n",
       "      <td>14.05</td>\n",
       "      <td>8.70</td>\n",
       "      <td>0.270</td>\n",
       "      <td>0.110</td>\n",
       "      <td>0.620</td>\n",
       "    </tr>\n",
       "    <tr>\n",
       "      <td>78</td>\n",
       "      <td>Gibraltar</td>\n",
       "      <td>WESTERN EUROPE</td>\n",
       "      <td>27928</td>\n",
       "      <td>7</td>\n",
       "      <td>3989.7</td>\n",
       "      <td>171.43</td>\n",
       "      <td>0.00</td>\n",
       "      <td>5.13</td>\n",
       "      <td>17500.0</td>\n",
       "      <td>NaN</td>\n",
       "      <td>877.7</td>\n",
       "      <td>0.00</td>\n",
       "      <td>0.00</td>\n",
       "      <td>100.00</td>\n",
       "      <td>NaN</td>\n",
       "      <td>10.74</td>\n",
       "      <td>9.31</td>\n",
       "      <td>NaN</td>\n",
       "      <td>NaN</td>\n",
       "      <td>NaN</td>\n",
       "    </tr>\n",
       "    <tr>\n",
       "      <td>101</td>\n",
       "      <td>Italy</td>\n",
       "      <td>WESTERN EUROPE</td>\n",
       "      <td>58133509</td>\n",
       "      <td>301230</td>\n",
       "      <td>193.0</td>\n",
       "      <td>2.52</td>\n",
       "      <td>2.07</td>\n",
       "      <td>5.94</td>\n",
       "      <td>26700.0</td>\n",
       "      <td>98.6</td>\n",
       "      <td>430.9</td>\n",
       "      <td>27.79</td>\n",
       "      <td>9.53</td>\n",
       "      <td>62.68</td>\n",
       "      <td>NaN</td>\n",
       "      <td>8.72</td>\n",
       "      <td>10.40</td>\n",
       "      <td>0.021</td>\n",
       "      <td>0.291</td>\n",
       "      <td>0.688</td>\n",
       "    </tr>\n",
       "    <tr>\n",
       "      <td>115</td>\n",
       "      <td>Lebanon</td>\n",
       "      <td>NEAR EAST</td>\n",
       "      <td>3874050</td>\n",
       "      <td>10400</td>\n",
       "      <td>372.5</td>\n",
       "      <td>2.16</td>\n",
       "      <td>0.00</td>\n",
       "      <td>24.52</td>\n",
       "      <td>4800.0</td>\n",
       "      <td>87.4</td>\n",
       "      <td>255.6</td>\n",
       "      <td>16.62</td>\n",
       "      <td>13.98</td>\n",
       "      <td>69.40</td>\n",
       "      <td>NaN</td>\n",
       "      <td>18.52</td>\n",
       "      <td>6.21</td>\n",
       "      <td>0.120</td>\n",
       "      <td>0.210</td>\n",
       "      <td>0.670</td>\n",
       "    </tr>\n",
       "    <tr>\n",
       "      <td>118</td>\n",
       "      <td>Libya</td>\n",
       "      <td>NORTHERN AFRICA</td>\n",
       "      <td>5900754</td>\n",
       "      <td>1759540</td>\n",
       "      <td>3.4</td>\n",
       "      <td>0.10</td>\n",
       "      <td>0.00</td>\n",
       "      <td>24.60</td>\n",
       "      <td>6400.0</td>\n",
       "      <td>82.6</td>\n",
       "      <td>127.1</td>\n",
       "      <td>1.03</td>\n",
       "      <td>0.19</td>\n",
       "      <td>98.78</td>\n",
       "      <td>NaN</td>\n",
       "      <td>26.49</td>\n",
       "      <td>3.48</td>\n",
       "      <td>0.076</td>\n",
       "      <td>0.499</td>\n",
       "      <td>0.425</td>\n",
       "    </tr>\n",
       "    <tr>\n",
       "      <td>120</td>\n",
       "      <td>Lithuania</td>\n",
       "      <td>BALTICS</td>\n",
       "      <td>3585906</td>\n",
       "      <td>65200</td>\n",
       "      <td>55.0</td>\n",
       "      <td>0.14</td>\n",
       "      <td>-0.71</td>\n",
       "      <td>6.89</td>\n",
       "      <td>11400.0</td>\n",
       "      <td>99.6</td>\n",
       "      <td>223.4</td>\n",
       "      <td>45.22</td>\n",
       "      <td>0.91</td>\n",
       "      <td>53.87</td>\n",
       "      <td>NaN</td>\n",
       "      <td>8.75</td>\n",
       "      <td>10.98</td>\n",
       "      <td>0.055</td>\n",
       "      <td>0.325</td>\n",
       "      <td>0.620</td>\n",
       "    </tr>\n",
       "    <tr>\n",
       "      <td>121</td>\n",
       "      <td>Luxembourg</td>\n",
       "      <td>WESTERN EUROPE</td>\n",
       "      <td>474413</td>\n",
       "      <td>2586</td>\n",
       "      <td>183.5</td>\n",
       "      <td>0.00</td>\n",
       "      <td>8.97</td>\n",
       "      <td>4.81</td>\n",
       "      <td>55100.0</td>\n",
       "      <td>100.0</td>\n",
       "      <td>515.4</td>\n",
       "      <td>23.28</td>\n",
       "      <td>0.40</td>\n",
       "      <td>76.32</td>\n",
       "      <td>NaN</td>\n",
       "      <td>11.94</td>\n",
       "      <td>8.41</td>\n",
       "      <td>0.010</td>\n",
       "      <td>0.130</td>\n",
       "      <td>0.860</td>\n",
       "    </tr>\n",
       "    <tr>\n",
       "      <td>129</td>\n",
       "      <td>Malta</td>\n",
       "      <td>WESTERN EUROPE</td>\n",
       "      <td>400214</td>\n",
       "      <td>316</td>\n",
       "      <td>1266.5</td>\n",
       "      <td>62.28</td>\n",
       "      <td>2.07</td>\n",
       "      <td>3.89</td>\n",
       "      <td>17700.0</td>\n",
       "      <td>92.8</td>\n",
       "      <td>505.0</td>\n",
       "      <td>28.13</td>\n",
       "      <td>3.13</td>\n",
       "      <td>68.74</td>\n",
       "      <td>NaN</td>\n",
       "      <td>10.22</td>\n",
       "      <td>8.10</td>\n",
       "      <td>0.030</td>\n",
       "      <td>0.230</td>\n",
       "      <td>0.740</td>\n",
       "    </tr>\n",
       "    <tr>\n",
       "      <td>137</td>\n",
       "      <td>Moldova</td>\n",
       "      <td>C.W. OF IND. STATES</td>\n",
       "      <td>4466706</td>\n",
       "      <td>33843</td>\n",
       "      <td>132.0</td>\n",
       "      <td>0.00</td>\n",
       "      <td>-0.26</td>\n",
       "      <td>40.42</td>\n",
       "      <td>1800.0</td>\n",
       "      <td>99.1</td>\n",
       "      <td>208.1</td>\n",
       "      <td>55.30</td>\n",
       "      <td>10.79</td>\n",
       "      <td>33.91</td>\n",
       "      <td>NaN</td>\n",
       "      <td>15.70</td>\n",
       "      <td>12.64</td>\n",
       "      <td>0.213</td>\n",
       "      <td>0.233</td>\n",
       "      <td>0.555</td>\n",
       "    </tr>\n",
       "    <tr>\n",
       "      <td>138</td>\n",
       "      <td>Monaco</td>\n",
       "      <td>WESTERN EUROPE</td>\n",
       "      <td>32543</td>\n",
       "      <td>2</td>\n",
       "      <td>16271.5</td>\n",
       "      <td>205.00</td>\n",
       "      <td>7.75</td>\n",
       "      <td>5.43</td>\n",
       "      <td>27000.0</td>\n",
       "      <td>99.0</td>\n",
       "      <td>1035.6</td>\n",
       "      <td>0.00</td>\n",
       "      <td>0.00</td>\n",
       "      <td>100.00</td>\n",
       "      <td>NaN</td>\n",
       "      <td>9.19</td>\n",
       "      <td>12.91</td>\n",
       "      <td>0.170</td>\n",
       "      <td>NaN</td>\n",
       "      <td>NaN</td>\n",
       "    </tr>\n",
       "    <tr>\n",
       "      <td>141</td>\n",
       "      <td>Morocco</td>\n",
       "      <td>NORTHERN AFRICA</td>\n",
       "      <td>33241259</td>\n",
       "      <td>446550</td>\n",
       "      <td>74.4</td>\n",
       "      <td>0.41</td>\n",
       "      <td>-0.98</td>\n",
       "      <td>41.62</td>\n",
       "      <td>4000.0</td>\n",
       "      <td>51.7</td>\n",
       "      <td>40.4</td>\n",
       "      <td>19.61</td>\n",
       "      <td>2.17</td>\n",
       "      <td>78.22</td>\n",
       "      <td>NaN</td>\n",
       "      <td>21.98</td>\n",
       "      <td>5.58</td>\n",
       "      <td>0.217</td>\n",
       "      <td>0.357</td>\n",
       "      <td>0.426</td>\n",
       "    </tr>\n",
       "    <tr>\n",
       "      <td>145</td>\n",
       "      <td>Nepal</td>\n",
       "      <td>ASIA (EX. NEAR EAST)</td>\n",
       "      <td>28287147</td>\n",
       "      <td>147181</td>\n",
       "      <td>192.2</td>\n",
       "      <td>0.00</td>\n",
       "      <td>0.00</td>\n",
       "      <td>66.98</td>\n",
       "      <td>1400.0</td>\n",
       "      <td>45.2</td>\n",
       "      <td>15.9</td>\n",
       "      <td>21.68</td>\n",
       "      <td>0.64</td>\n",
       "      <td>77.68</td>\n",
       "      <td>NaN</td>\n",
       "      <td>30.98</td>\n",
       "      <td>9.31</td>\n",
       "      <td>0.380</td>\n",
       "      <td>0.210</td>\n",
       "      <td>0.410</td>\n",
       "    </tr>\n",
       "    <tr>\n",
       "      <td>169</td>\n",
       "      <td>Russia</td>\n",
       "      <td>C.W. OF IND. STATES</td>\n",
       "      <td>142893540</td>\n",
       "      <td>17075200</td>\n",
       "      <td>8.4</td>\n",
       "      <td>0.22</td>\n",
       "      <td>1.02</td>\n",
       "      <td>15.39</td>\n",
       "      <td>8900.0</td>\n",
       "      <td>99.6</td>\n",
       "      <td>280.6</td>\n",
       "      <td>7.33</td>\n",
       "      <td>0.11</td>\n",
       "      <td>92.56</td>\n",
       "      <td>NaN</td>\n",
       "      <td>9.95</td>\n",
       "      <td>14.65</td>\n",
       "      <td>0.054</td>\n",
       "      <td>0.371</td>\n",
       "      <td>0.575</td>\n",
       "    </tr>\n",
       "    <tr>\n",
       "      <td>171</td>\n",
       "      <td>Saint Helena</td>\n",
       "      <td>SUB-SAHARAN AFRICA</td>\n",
       "      <td>7502</td>\n",
       "      <td>413</td>\n",
       "      <td>18.2</td>\n",
       "      <td>14.53</td>\n",
       "      <td>0.00</td>\n",
       "      <td>19.00</td>\n",
       "      <td>2500.0</td>\n",
       "      <td>97.0</td>\n",
       "      <td>293.3</td>\n",
       "      <td>12.90</td>\n",
       "      <td>0.00</td>\n",
       "      <td>87.10</td>\n",
       "      <td>NaN</td>\n",
       "      <td>12.13</td>\n",
       "      <td>6.53</td>\n",
       "      <td>NaN</td>\n",
       "      <td>NaN</td>\n",
       "      <td>NaN</td>\n",
       "    </tr>\n",
       "    <tr>\n",
       "      <td>174</td>\n",
       "      <td>St Pierre &amp; Miquelon</td>\n",
       "      <td>NORTHERN AMERICA</td>\n",
       "      <td>7026</td>\n",
       "      <td>242</td>\n",
       "      <td>29.0</td>\n",
       "      <td>49.59</td>\n",
       "      <td>-4.86</td>\n",
       "      <td>7.54</td>\n",
       "      <td>6900.0</td>\n",
       "      <td>99.0</td>\n",
       "      <td>683.2</td>\n",
       "      <td>13.04</td>\n",
       "      <td>0.00</td>\n",
       "      <td>86.96</td>\n",
       "      <td>NaN</td>\n",
       "      <td>13.52</td>\n",
       "      <td>6.83</td>\n",
       "      <td>NaN</td>\n",
       "      <td>NaN</td>\n",
       "      <td>NaN</td>\n",
       "    </tr>\n",
       "    <tr>\n",
       "      <td>177</td>\n",
       "      <td>San Marino</td>\n",
       "      <td>WESTERN EUROPE</td>\n",
       "      <td>29251</td>\n",
       "      <td>61</td>\n",
       "      <td>479.5</td>\n",
       "      <td>0.00</td>\n",
       "      <td>10.98</td>\n",
       "      <td>5.73</td>\n",
       "      <td>34600.0</td>\n",
       "      <td>96.0</td>\n",
       "      <td>704.3</td>\n",
       "      <td>16.67</td>\n",
       "      <td>0.00</td>\n",
       "      <td>83.33</td>\n",
       "      <td>NaN</td>\n",
       "      <td>10.02</td>\n",
       "      <td>8.17</td>\n",
       "      <td>NaN</td>\n",
       "      <td>NaN</td>\n",
       "      <td>NaN</td>\n",
       "    </tr>\n",
       "    <tr>\n",
       "      <td>181</td>\n",
       "      <td>Serbia</td>\n",
       "      <td>EASTERN EUROPE</td>\n",
       "      <td>9396411</td>\n",
       "      <td>88361</td>\n",
       "      <td>106.3</td>\n",
       "      <td>0.00</td>\n",
       "      <td>-1.33</td>\n",
       "      <td>12.89</td>\n",
       "      <td>2200.0</td>\n",
       "      <td>93.0</td>\n",
       "      <td>285.8</td>\n",
       "      <td>33.35</td>\n",
       "      <td>3.20</td>\n",
       "      <td>63.45</td>\n",
       "      <td>NaN</td>\n",
       "      <td>NaN</td>\n",
       "      <td>NaN</td>\n",
       "      <td>0.166</td>\n",
       "      <td>0.255</td>\n",
       "      <td>0.579</td>\n",
       "    </tr>\n",
       "    <tr>\n",
       "      <td>186</td>\n",
       "      <td>Slovenia</td>\n",
       "      <td>EASTERN EUROPE</td>\n",
       "      <td>2010347</td>\n",
       "      <td>20273</td>\n",
       "      <td>99.2</td>\n",
       "      <td>0.23</td>\n",
       "      <td>1.12</td>\n",
       "      <td>4.45</td>\n",
       "      <td>19000.0</td>\n",
       "      <td>99.7</td>\n",
       "      <td>406.1</td>\n",
       "      <td>8.60</td>\n",
       "      <td>1.49</td>\n",
       "      <td>89.91</td>\n",
       "      <td>NaN</td>\n",
       "      <td>8.98</td>\n",
       "      <td>10.31</td>\n",
       "      <td>0.028</td>\n",
       "      <td>0.369</td>\n",
       "      <td>0.603</td>\n",
       "    </tr>\n",
       "    <tr>\n",
       "      <td>200</td>\n",
       "      <td>Tanzania</td>\n",
       "      <td>SUB-SAHARAN AFRICA</td>\n",
       "      <td>37445392</td>\n",
       "      <td>945087</td>\n",
       "      <td>39.6</td>\n",
       "      <td>0.15</td>\n",
       "      <td>-2.06</td>\n",
       "      <td>98.54</td>\n",
       "      <td>600.0</td>\n",
       "      <td>78.2</td>\n",
       "      <td>4.0</td>\n",
       "      <td>4.52</td>\n",
       "      <td>1.08</td>\n",
       "      <td>94.40</td>\n",
       "      <td>NaN</td>\n",
       "      <td>37.71</td>\n",
       "      <td>16.39</td>\n",
       "      <td>0.432</td>\n",
       "      <td>0.172</td>\n",
       "      <td>0.396</td>\n",
       "    </tr>\n",
       "  </tbody>\n",
       "</table>\n",
       "</div>"
      ],
      "text/plain": [
       "                  Country                Region  Population      Area  \\\n",
       "5                  Angola    SUB-SAHARAN AFRICA    12127071   1246700   \n",
       "36                 Canada      NORTHERN AMERICA    33098932   9984670   \n",
       "50                Croatia        EASTERN EUROPE     4494749     56542   \n",
       "66          Faroe Islands        WESTERN EUROPE       47246      1399   \n",
       "78              Gibraltar        WESTERN EUROPE       27928         7   \n",
       "101                 Italy        WESTERN EUROPE    58133509    301230   \n",
       "115               Lebanon             NEAR EAST     3874050     10400   \n",
       "118                 Libya       NORTHERN AFRICA     5900754   1759540   \n",
       "120             Lithuania               BALTICS     3585906     65200   \n",
       "121            Luxembourg        WESTERN EUROPE      474413      2586   \n",
       "129                 Malta        WESTERN EUROPE      400214       316   \n",
       "137               Moldova   C.W. OF IND. STATES     4466706     33843   \n",
       "138                Monaco        WESTERN EUROPE       32543         2   \n",
       "141               Morocco       NORTHERN AFRICA    33241259    446550   \n",
       "145                 Nepal  ASIA (EX. NEAR EAST)    28287147    147181   \n",
       "169                Russia   C.W. OF IND. STATES   142893540  17075200   \n",
       "171          Saint Helena    SUB-SAHARAN AFRICA        7502       413   \n",
       "174  St Pierre & Miquelon      NORTHERN AMERICA        7026       242   \n",
       "177            San Marino        WESTERN EUROPE       29251        61   \n",
       "181                Serbia        EASTERN EUROPE     9396411     88361   \n",
       "186              Slovenia        EASTERN EUROPE     2010347     20273   \n",
       "200              Tanzania    SUB-SAHARAN AFRICA    37445392    945087   \n",
       "\n",
       "     Pop_density  Coastline_ratio  Net_migration  Infant_mortality      GDP  \\\n",
       "5            9.7             0.13           0.00            191.19   1900.0   \n",
       "36           3.3             2.02           5.96              4.75  29800.0   \n",
       "50          79.5            10.32           1.58              6.84  10600.0   \n",
       "66          33.8            79.84           1.41              6.24  22000.0   \n",
       "78        3989.7           171.43           0.00              5.13  17500.0   \n",
       "101        193.0             2.52           2.07              5.94  26700.0   \n",
       "115        372.5             2.16           0.00             24.52   4800.0   \n",
       "118          3.4             0.10           0.00             24.60   6400.0   \n",
       "120         55.0             0.14          -0.71              6.89  11400.0   \n",
       "121        183.5             0.00           8.97              4.81  55100.0   \n",
       "129       1266.5            62.28           2.07              3.89  17700.0   \n",
       "137        132.0             0.00          -0.26             40.42   1800.0   \n",
       "138      16271.5           205.00           7.75              5.43  27000.0   \n",
       "141         74.4             0.41          -0.98             41.62   4000.0   \n",
       "145        192.2             0.00           0.00             66.98   1400.0   \n",
       "169          8.4             0.22           1.02             15.39   8900.0   \n",
       "171         18.2            14.53           0.00             19.00   2500.0   \n",
       "174         29.0            49.59          -4.86              7.54   6900.0   \n",
       "177        479.5             0.00          10.98              5.73  34600.0   \n",
       "181        106.3             0.00          -1.33             12.89   2200.0   \n",
       "186         99.2             0.23           1.12              4.45  19000.0   \n",
       "200         39.6             0.15          -2.06             98.54    600.0   \n",
       "\n",
       "     Literacy  Phones_per_1000  Arable  Crops   Other  Climate  Birthrate  \\\n",
       "5        42.0              7.8    2.41   0.24   97.35      NaN      45.11   \n",
       "36       97.0            552.2    4.96   0.02   95.02      NaN      10.78   \n",
       "50       98.5            420.4   26.09   2.27   71.65      NaN       9.61   \n",
       "66        NaN            503.8    2.14   0.00   97.86      NaN      14.05   \n",
       "78        NaN            877.7    0.00   0.00  100.00      NaN      10.74   \n",
       "101      98.6            430.9   27.79   9.53   62.68      NaN       8.72   \n",
       "115      87.4            255.6   16.62  13.98   69.40      NaN      18.52   \n",
       "118      82.6            127.1    1.03   0.19   98.78      NaN      26.49   \n",
       "120      99.6            223.4   45.22   0.91   53.87      NaN       8.75   \n",
       "121     100.0            515.4   23.28   0.40   76.32      NaN      11.94   \n",
       "129      92.8            505.0   28.13   3.13   68.74      NaN      10.22   \n",
       "137      99.1            208.1   55.30  10.79   33.91      NaN      15.70   \n",
       "138      99.0           1035.6    0.00   0.00  100.00      NaN       9.19   \n",
       "141      51.7             40.4   19.61   2.17   78.22      NaN      21.98   \n",
       "145      45.2             15.9   21.68   0.64   77.68      NaN      30.98   \n",
       "169      99.6            280.6    7.33   0.11   92.56      NaN       9.95   \n",
       "171      97.0            293.3   12.90   0.00   87.10      NaN      12.13   \n",
       "174      99.0            683.2   13.04   0.00   86.96      NaN      13.52   \n",
       "177      96.0            704.3   16.67   0.00   83.33      NaN      10.02   \n",
       "181      93.0            285.8   33.35   3.20   63.45      NaN        NaN   \n",
       "186      99.7            406.1    8.60   1.49   89.91      NaN       8.98   \n",
       "200      78.2              4.0    4.52   1.08   94.40      NaN      37.71   \n",
       "\n",
       "     Deathrate  Agriculture  Industry  Service  \n",
       "5        24.20        0.096     0.658    0.246  \n",
       "36        7.80        0.022     0.294    0.684  \n",
       "50       11.48        0.070     0.308    0.622  \n",
       "66        8.70        0.270     0.110    0.620  \n",
       "78        9.31          NaN       NaN      NaN  \n",
       "101      10.40        0.021     0.291    0.688  \n",
       "115       6.21        0.120     0.210    0.670  \n",
       "118       3.48        0.076     0.499    0.425  \n",
       "120      10.98        0.055     0.325    0.620  \n",
       "121       8.41        0.010     0.130    0.860  \n",
       "129       8.10        0.030     0.230    0.740  \n",
       "137      12.64        0.213     0.233    0.555  \n",
       "138      12.91        0.170       NaN      NaN  \n",
       "141       5.58        0.217     0.357    0.426  \n",
       "145       9.31        0.380     0.210    0.410  \n",
       "169      14.65        0.054     0.371    0.575  \n",
       "171       6.53          NaN       NaN      NaN  \n",
       "174       6.83          NaN       NaN      NaN  \n",
       "177       8.17          NaN       NaN      NaN  \n",
       "181        NaN        0.166     0.255    0.579  \n",
       "186      10.31        0.028     0.369    0.603  \n",
       "200      16.39        0.432     0.172    0.396  "
      ]
     },
     "execution_count": 26,
     "metadata": {},
     "output_type": "execute_result"
    }
   ],
   "source": [
    "#registros cujo Climate esta nan\n",
    "countries[countries['Climate'].isnull()]"
   ]
  },
  {
   "cell_type": "code",
   "execution_count": 27,
   "metadata": {},
   "outputs": [],
   "source": [
    "#preencher estes registros com 0\n",
    "countries[['Climate']] = countries[['Climate']].fillna(value=0)"
   ]
  },
  {
   "cell_type": "code",
   "execution_count": 28,
   "metadata": {},
   "outputs": [],
   "source": [
    "onehotencoder_Region = preprocessing.OneHotEncoder().fit(countries[['Region']])"
   ]
  },
  {
   "cell_type": "code",
   "execution_count": 29,
   "metadata": {},
   "outputs": [
    {
     "data": {
      "text/plain": [
       "[array(['ASIA (EX. NEAR EAST)', 'BALTICS', 'C.W. OF IND. STATES',\n",
       "        'EASTERN EUROPE', 'LATIN AMER. & CARIB', 'NEAR EAST',\n",
       "        'NORTHERN AFRICA', 'NORTHERN AMERICA', 'OCEANIA',\n",
       "        'SUB-SAHARAN AFRICA', 'WESTERN EUROPE'], dtype=object)]"
      ]
     },
     "execution_count": 29,
     "metadata": {},
     "output_type": "execute_result"
    }
   ],
   "source": [
    "onehotencoder_Region.categories_"
   ]
  },
  {
   "cell_type": "code",
   "execution_count": 30,
   "metadata": {},
   "outputs": [
    {
     "data": {
      "text/plain": [
       "11"
      ]
     },
     "execution_count": 30,
     "metadata": {},
     "output_type": "execute_result"
    }
   ],
   "source": [
    "len(onehotencoder_Region.categories_[0])"
   ]
  },
  {
   "cell_type": "code",
   "execution_count": 31,
   "metadata": {},
   "outputs": [
    {
     "data": {
      "text/plain": [
       "2.0    111\n",
       "3.0     48\n",
       "1.0     29\n",
       "0.0     22\n",
       "1.5      8\n",
       "4.0      6\n",
       "2.5      3\n",
       "Name: Climate, dtype: int64"
      ]
     },
     "execution_count": 31,
     "metadata": {},
     "output_type": "execute_result"
    }
   ],
   "source": [
    "countries['Climate'].value_counts()"
   ]
  },
  {
   "cell_type": "code",
   "execution_count": 32,
   "metadata": {},
   "outputs": [
    {
     "data": {
      "text/plain": [
       "[array([0. , 1. , 1.5, 2. , 2.5, 3. , 4. ])]"
      ]
     },
     "execution_count": 32,
     "metadata": {},
     "output_type": "execute_result"
    }
   ],
   "source": [
    "onehotencoder_Climate = preprocessing.OneHotEncoder(categories='auto').fit(countries[['Climate']])\n",
    "onehotencoder_Climate.categories_"
   ]
  },
  {
   "cell_type": "code",
   "execution_count": 33,
   "metadata": {},
   "outputs": [
    {
     "data": {
      "text/plain": [
       "7"
      ]
     },
     "execution_count": 33,
     "metadata": {},
     "output_type": "execute_result"
    }
   ],
   "source": [
    "len(onehotencoder_Climate.categories_[0])"
   ]
  },
  {
   "cell_type": "markdown",
   "metadata": {},
   "source": [
    "## Análise questão 4"
   ]
  },
  {
   "cell_type": "code",
   "execution_count": 34,
   "metadata": {},
   "outputs": [
    {
     "data": {
      "text/html": [
       "<div>\n",
       "<style scoped>\n",
       "    .dataframe tbody tr th:only-of-type {\n",
       "        vertical-align: middle;\n",
       "    }\n",
       "\n",
       "    .dataframe tbody tr th {\n",
       "        vertical-align: top;\n",
       "    }\n",
       "\n",
       "    .dataframe thead th {\n",
       "        text-align: right;\n",
       "    }\n",
       "</style>\n",
       "<table border=\"1\" class=\"dataframe\">\n",
       "  <thead>\n",
       "    <tr style=\"text-align: right;\">\n",
       "      <th></th>\n",
       "      <th>Population</th>\n",
       "      <th>Area</th>\n",
       "      <th>Pop_density</th>\n",
       "      <th>Coastline_ratio</th>\n",
       "      <th>Net_migration</th>\n",
       "      <th>Infant_mortality</th>\n",
       "      <th>GDP</th>\n",
       "      <th>Literacy</th>\n",
       "      <th>Phones_per_1000</th>\n",
       "      <th>Arable</th>\n",
       "      <th>Crops</th>\n",
       "      <th>Other</th>\n",
       "      <th>Climate</th>\n",
       "      <th>Birthrate</th>\n",
       "      <th>Deathrate</th>\n",
       "      <th>Agriculture</th>\n",
       "      <th>Industry</th>\n",
       "      <th>Service</th>\n",
       "    </tr>\n",
       "  </thead>\n",
       "  <tbody>\n",
       "    <tr>\n",
       "      <td>0</td>\n",
       "      <td>31056997</td>\n",
       "      <td>647500</td>\n",
       "      <td>48.0</td>\n",
       "      <td>0.00</td>\n",
       "      <td>23.06</td>\n",
       "      <td>163.07</td>\n",
       "      <td>700.0</td>\n",
       "      <td>36.0</td>\n",
       "      <td>3.2</td>\n",
       "      <td>12.13</td>\n",
       "      <td>0.22</td>\n",
       "      <td>87.65</td>\n",
       "      <td>1.0</td>\n",
       "      <td>46.60</td>\n",
       "      <td>20.34</td>\n",
       "      <td>0.380</td>\n",
       "      <td>0.240</td>\n",
       "      <td>0.380</td>\n",
       "    </tr>\n",
       "    <tr>\n",
       "      <td>1</td>\n",
       "      <td>3581655</td>\n",
       "      <td>28748</td>\n",
       "      <td>124.6</td>\n",
       "      <td>1.26</td>\n",
       "      <td>-4.93</td>\n",
       "      <td>21.52</td>\n",
       "      <td>4500.0</td>\n",
       "      <td>86.5</td>\n",
       "      <td>71.2</td>\n",
       "      <td>21.09</td>\n",
       "      <td>4.42</td>\n",
       "      <td>74.49</td>\n",
       "      <td>3.0</td>\n",
       "      <td>15.11</td>\n",
       "      <td>5.22</td>\n",
       "      <td>0.232</td>\n",
       "      <td>0.188</td>\n",
       "      <td>0.579</td>\n",
       "    </tr>\n",
       "    <tr>\n",
       "      <td>2</td>\n",
       "      <td>32930091</td>\n",
       "      <td>2381740</td>\n",
       "      <td>13.8</td>\n",
       "      <td>0.04</td>\n",
       "      <td>-0.39</td>\n",
       "      <td>31.00</td>\n",
       "      <td>6000.0</td>\n",
       "      <td>70.0</td>\n",
       "      <td>78.1</td>\n",
       "      <td>3.22</td>\n",
       "      <td>0.25</td>\n",
       "      <td>96.53</td>\n",
       "      <td>1.0</td>\n",
       "      <td>17.14</td>\n",
       "      <td>4.61</td>\n",
       "      <td>0.101</td>\n",
       "      <td>0.600</td>\n",
       "      <td>0.298</td>\n",
       "    </tr>\n",
       "    <tr>\n",
       "      <td>3</td>\n",
       "      <td>57794</td>\n",
       "      <td>199</td>\n",
       "      <td>290.4</td>\n",
       "      <td>58.29</td>\n",
       "      <td>-20.71</td>\n",
       "      <td>9.27</td>\n",
       "      <td>8000.0</td>\n",
       "      <td>97.0</td>\n",
       "      <td>259.5</td>\n",
       "      <td>10.00</td>\n",
       "      <td>15.00</td>\n",
       "      <td>75.00</td>\n",
       "      <td>2.0</td>\n",
       "      <td>22.46</td>\n",
       "      <td>3.27</td>\n",
       "      <td>NaN</td>\n",
       "      <td>NaN</td>\n",
       "      <td>NaN</td>\n",
       "    </tr>\n",
       "    <tr>\n",
       "      <td>4</td>\n",
       "      <td>71201</td>\n",
       "      <td>468</td>\n",
       "      <td>152.1</td>\n",
       "      <td>0.00</td>\n",
       "      <td>6.60</td>\n",
       "      <td>4.05</td>\n",
       "      <td>19000.0</td>\n",
       "      <td>100.0</td>\n",
       "      <td>497.2</td>\n",
       "      <td>2.22</td>\n",
       "      <td>0.00</td>\n",
       "      <td>97.78</td>\n",
       "      <td>3.0</td>\n",
       "      <td>8.71</td>\n",
       "      <td>6.25</td>\n",
       "      <td>NaN</td>\n",
       "      <td>NaN</td>\n",
       "      <td>NaN</td>\n",
       "    </tr>\n",
       "    <tr>\n",
       "      <td>...</td>\n",
       "      <td>...</td>\n",
       "      <td>...</td>\n",
       "      <td>...</td>\n",
       "      <td>...</td>\n",
       "      <td>...</td>\n",
       "      <td>...</td>\n",
       "      <td>...</td>\n",
       "      <td>...</td>\n",
       "      <td>...</td>\n",
       "      <td>...</td>\n",
       "      <td>...</td>\n",
       "      <td>...</td>\n",
       "      <td>...</td>\n",
       "      <td>...</td>\n",
       "      <td>...</td>\n",
       "      <td>...</td>\n",
       "      <td>...</td>\n",
       "      <td>...</td>\n",
       "    </tr>\n",
       "    <tr>\n",
       "      <td>222</td>\n",
       "      <td>2460492</td>\n",
       "      <td>5860</td>\n",
       "      <td>419.9</td>\n",
       "      <td>0.00</td>\n",
       "      <td>2.98</td>\n",
       "      <td>19.62</td>\n",
       "      <td>800.0</td>\n",
       "      <td>NaN</td>\n",
       "      <td>145.2</td>\n",
       "      <td>16.90</td>\n",
       "      <td>18.97</td>\n",
       "      <td>64.13</td>\n",
       "      <td>3.0</td>\n",
       "      <td>31.67</td>\n",
       "      <td>3.92</td>\n",
       "      <td>0.090</td>\n",
       "      <td>0.280</td>\n",
       "      <td>0.630</td>\n",
       "    </tr>\n",
       "    <tr>\n",
       "      <td>223</td>\n",
       "      <td>273008</td>\n",
       "      <td>266000</td>\n",
       "      <td>1.0</td>\n",
       "      <td>0.42</td>\n",
       "      <td>NaN</td>\n",
       "      <td>NaN</td>\n",
       "      <td>NaN</td>\n",
       "      <td>NaN</td>\n",
       "      <td>NaN</td>\n",
       "      <td>0.02</td>\n",
       "      <td>0.00</td>\n",
       "      <td>99.98</td>\n",
       "      <td>1.0</td>\n",
       "      <td>NaN</td>\n",
       "      <td>NaN</td>\n",
       "      <td>NaN</td>\n",
       "      <td>NaN</td>\n",
       "      <td>0.400</td>\n",
       "    </tr>\n",
       "    <tr>\n",
       "      <td>224</td>\n",
       "      <td>21456188</td>\n",
       "      <td>527970</td>\n",
       "      <td>40.6</td>\n",
       "      <td>0.36</td>\n",
       "      <td>0.00</td>\n",
       "      <td>61.50</td>\n",
       "      <td>800.0</td>\n",
       "      <td>50.2</td>\n",
       "      <td>37.2</td>\n",
       "      <td>2.78</td>\n",
       "      <td>0.24</td>\n",
       "      <td>96.98</td>\n",
       "      <td>1.0</td>\n",
       "      <td>42.89</td>\n",
       "      <td>8.30</td>\n",
       "      <td>0.135</td>\n",
       "      <td>0.472</td>\n",
       "      <td>0.393</td>\n",
       "    </tr>\n",
       "    <tr>\n",
       "      <td>225</td>\n",
       "      <td>11502010</td>\n",
       "      <td>752614</td>\n",
       "      <td>15.3</td>\n",
       "      <td>0.00</td>\n",
       "      <td>0.00</td>\n",
       "      <td>88.29</td>\n",
       "      <td>800.0</td>\n",
       "      <td>80.6</td>\n",
       "      <td>8.2</td>\n",
       "      <td>7.08</td>\n",
       "      <td>0.03</td>\n",
       "      <td>92.90</td>\n",
       "      <td>2.0</td>\n",
       "      <td>41.00</td>\n",
       "      <td>19.93</td>\n",
       "      <td>0.220</td>\n",
       "      <td>0.290</td>\n",
       "      <td>0.489</td>\n",
       "    </tr>\n",
       "    <tr>\n",
       "      <td>226</td>\n",
       "      <td>12236805</td>\n",
       "      <td>390580</td>\n",
       "      <td>31.3</td>\n",
       "      <td>0.00</td>\n",
       "      <td>0.00</td>\n",
       "      <td>67.69</td>\n",
       "      <td>1900.0</td>\n",
       "      <td>90.7</td>\n",
       "      <td>26.8</td>\n",
       "      <td>8.32</td>\n",
       "      <td>0.34</td>\n",
       "      <td>91.34</td>\n",
       "      <td>2.0</td>\n",
       "      <td>28.01</td>\n",
       "      <td>21.84</td>\n",
       "      <td>0.179</td>\n",
       "      <td>0.243</td>\n",
       "      <td>0.579</td>\n",
       "    </tr>\n",
       "  </tbody>\n",
       "</table>\n",
       "<p>227 rows × 18 columns</p>\n",
       "</div>"
      ],
      "text/plain": [
       "     Population     Area  Pop_density  Coastline_ratio  Net_migration  \\\n",
       "0      31056997   647500         48.0             0.00          23.06   \n",
       "1       3581655    28748        124.6             1.26          -4.93   \n",
       "2      32930091  2381740         13.8             0.04          -0.39   \n",
       "3         57794      199        290.4            58.29         -20.71   \n",
       "4         71201      468        152.1             0.00           6.60   \n",
       "..          ...      ...          ...              ...            ...   \n",
       "222     2460492     5860        419.9             0.00           2.98   \n",
       "223      273008   266000          1.0             0.42            NaN   \n",
       "224    21456188   527970         40.6             0.36           0.00   \n",
       "225    11502010   752614         15.3             0.00           0.00   \n",
       "226    12236805   390580         31.3             0.00           0.00   \n",
       "\n",
       "     Infant_mortality      GDP  Literacy  Phones_per_1000  Arable  Crops  \\\n",
       "0              163.07    700.0      36.0              3.2   12.13   0.22   \n",
       "1               21.52   4500.0      86.5             71.2   21.09   4.42   \n",
       "2               31.00   6000.0      70.0             78.1    3.22   0.25   \n",
       "3                9.27   8000.0      97.0            259.5   10.00  15.00   \n",
       "4                4.05  19000.0     100.0            497.2    2.22   0.00   \n",
       "..                ...      ...       ...              ...     ...    ...   \n",
       "222             19.62    800.0       NaN            145.2   16.90  18.97   \n",
       "223               NaN      NaN       NaN              NaN    0.02   0.00   \n",
       "224             61.50    800.0      50.2             37.2    2.78   0.24   \n",
       "225             88.29    800.0      80.6              8.2    7.08   0.03   \n",
       "226             67.69   1900.0      90.7             26.8    8.32   0.34   \n",
       "\n",
       "     Other  Climate  Birthrate  Deathrate  Agriculture  Industry  Service  \n",
       "0    87.65      1.0      46.60      20.34        0.380     0.240    0.380  \n",
       "1    74.49      3.0      15.11       5.22        0.232     0.188    0.579  \n",
       "2    96.53      1.0      17.14       4.61        0.101     0.600    0.298  \n",
       "3    75.00      2.0      22.46       3.27          NaN       NaN      NaN  \n",
       "4    97.78      3.0       8.71       6.25          NaN       NaN      NaN  \n",
       "..     ...      ...        ...        ...          ...       ...      ...  \n",
       "222  64.13      3.0      31.67       3.92        0.090     0.280    0.630  \n",
       "223  99.98      1.0        NaN        NaN          NaN       NaN    0.400  \n",
       "224  96.98      1.0      42.89       8.30        0.135     0.472    0.393  \n",
       "225  92.90      2.0      41.00      19.93        0.220     0.290    0.489  \n",
       "226  91.34      2.0      28.01      21.84        0.179     0.243    0.579  \n",
       "\n",
       "[227 rows x 18 columns]"
      ]
     },
     "execution_count": 34,
     "metadata": {},
     "output_type": "execute_result"
    }
   ],
   "source": [
    "countries.select_dtypes(include=[np.number])"
   ]
  },
  {
   "cell_type": "code",
   "execution_count": 35,
   "metadata": {},
   "outputs": [],
   "source": [
    "pipeline = Pipeline(steps=[\n",
    "    (\"imputer_median\", SimpleImputer(strategy=\"median\")),\n",
    "    (\"standardscaler\", preprocessing.StandardScaler())\n",
    "])"
   ]
  },
  {
   "cell_type": "code",
   "execution_count": 36,
   "metadata": {},
   "outputs": [],
   "source": [
    "#comando único seria pipeline.fit_transform(countries_number)\n",
    "countries_number = countries.select_dtypes(include=[np.number])\n",
    "fit = pipeline.fit(countries_number)\n",
    "transf = fit.transform(countries_number)"
   ]
  },
  {
   "cell_type": "code",
   "execution_count": 37,
   "metadata": {},
   "outputs": [
    {
     "data": {
      "text/plain": [
       "array([ 0.01969468,  0.02758332, -0.19984434, -0.29344342,  4.75079803,\n",
       "        3.6380982 , -0.89639423, -2.49781686, -1.02749132, -0.12636082,\n",
       "       -0.51886111,  0.37260169, -1.01655675,  2.21296666,  2.2525074 ,\n",
       "        1.63657562, -0.31540576, -1.1611354 ])"
      ]
     },
     "execution_count": 37,
     "metadata": {},
     "output_type": "execute_result"
    }
   ],
   "source": [
    "#retorna todas as colunas do tipo numerico padronizadas\n",
    "transf[0]"
   ]
  },
  {
   "cell_type": "code",
   "execution_count": 38,
   "metadata": {},
   "outputs": [],
   "source": [
    "test_country = [\n",
    "    'Test Country', 'NEAR EAST', -0.19032480757326514,\n",
    "    -0.3232636124824411, -0.04421734470810142, -0.27528113360605316,\n",
    "    0.13255850810281325, -0.8054845935643491, 1.0119784924248225,\n",
    "    0.6189182532646624, 1.0074863283776458, 0.20239896852403538,\n",
    "    -0.043678728558593366, -0.13929748680369286, 1.3163604645710438,\n",
    "    -0.3699637766938669, -0.6149300604558857, -0.854369594993175,\n",
    "    0.263445277972641, 0.5712416961268142\n",
    "]\n",
    "\n",
    "transf_test = pipeline.transform([test_country[2:]])"
   ]
  },
  {
   "cell_type": "code",
   "execution_count": 39,
   "metadata": {},
   "outputs": [
    {
     "data": {
      "text/plain": [
       "array([[-0.24432501, -0.33489095, -0.22884735, -0.29726002,  0.01959086,\n",
       "        -1.02861728, -0.96623348, -4.35427242, -1.03720972, -1.04685743,\n",
       "        -0.55058149, -5.10112169, -0.67138971, -2.02455164, -1.99092137,\n",
       "        -7.04915046, -0.13915481,  0.03490335]])"
      ]
     },
     "execution_count": 39,
     "metadata": {},
     "output_type": "execute_result"
    }
   ],
   "source": [
    "transf_test"
   ]
  },
  {
   "cell_type": "code",
   "execution_count": 40,
   "metadata": {},
   "outputs": [
    {
     "data": {
      "text/plain": [
       "9"
      ]
     },
     "execution_count": 40,
     "metadata": {},
     "output_type": "execute_result"
    }
   ],
   "source": [
    "#retorna a posição (index) da coluna Arable\n",
    "countries_number.columns.get_loc('Arable')"
   ]
  },
  {
   "cell_type": "code",
   "execution_count": 41,
   "metadata": {},
   "outputs": [],
   "source": [
    "arable = transf_test[:, countries_number.columns.get_loc('Arable') ]"
   ]
  },
  {
   "cell_type": "code",
   "execution_count": 42,
   "metadata": {},
   "outputs": [
    {
     "data": {
      "text/plain": [
       "-1.047"
      ]
     },
     "execution_count": 42,
     "metadata": {},
     "output_type": "execute_result"
    }
   ],
   "source": [
    "float(np.around(arable.item(),3))"
   ]
  },
  {
   "cell_type": "markdown",
   "metadata": {},
   "source": [
    "## Análise questão 5\n",
    "Apenas para estudo e comparação, serão aplicados as 3 técnicas de remoção de outlier nos dados: IQR, Histograma"
   ]
  },
  {
   "cell_type": "code",
   "execution_count": 43,
   "metadata": {},
   "outputs": [
    {
     "data": {
      "text/plain": [
       "<matplotlib.axes._subplots.AxesSubplot at 0x221d1d44c08>"
      ]
     },
     "execution_count": 43,
     "metadata": {},
     "output_type": "execute_result"
    },
    {
     "data": {
      "image/png": "[encoded data removed]",
      "text/plain": [
       "<Figure size 720x360 with 1 Axes>"
      ]
     },
     "metadata": {},
     "output_type": "display_data"
    }
   ],
   "source": [
    "#IQR\n",
    "plt.figure(figsize=(10,5))\n",
    "sns.boxplot(countries.Net_migration)"
   ]
  },
  {
   "cell_type": "code",
   "execution_count": 44,
   "metadata": {},
   "outputs": [
    {
     "data": {
      "text/plain": [
       "[-3.8149999999999995, 3.885]"
      ]
     },
     "execution_count": 44,
     "metadata": {},
     "output_type": "execute_result"
    }
   ],
   "source": [
    "#tudo que estiver neste intervalo não é considerado outlier\n",
    "q1= countries.Net_migration.quantile(0.25)\n",
    "q3 = countries.Net_migration.quantile(0.75)\n",
    "iqr = q3 - q1\n",
    "non_outlier_iqr = [q1 - 1.5 * iqr, q3 + 1.5 * iqr]\n",
    "non_outlier_iqr"
   ]
  },
  {
   "cell_type": "code",
   "execution_count": 45,
   "metadata": {},
   "outputs": [
    {
     "data": {
      "text/plain": [
       "26"
      ]
     },
     "execution_count": 45,
     "metadata": {},
     "output_type": "execute_result"
    }
   ],
   "source": [
    "#quantidade abaixo e acima\n",
    "len(countries.Net_migration[(countries.Net_migration < non_outlier_iqr[0]) ])\n",
    "len(countries.Net_migration[(countries.Net_migration > non_outlier_iqr[1]) ])"
   ]
  },
  {
   "cell_type": "code",
   "execution_count": 46,
   "metadata": {},
   "outputs": [],
   "source": [
    "outlier_iqr = countries.Net_migration[(countries.Net_migration<non_outlier_iqr[0] )|\n",
    "                                      (countries.Net_migration>non_outlier_iqr[1])]"
   ]
  },
  {
   "cell_type": "code",
   "execution_count": 47,
   "metadata": {},
   "outputs": [
    {
     "name": "stdout",
     "output_type": "stream",
     "text": [
      "Quantidade de outliers: 50\n",
      "Porcentagem % : 22.03\n"
     ]
    }
   ],
   "source": [
    "# 22% dos dados são considerados outliers por esta técnica\n",
    "print('Quantidade de outliers:' ,len(outlier_iqr))\n",
    "print('Porcentagem % :' , round(len(outlier_iqr)/len(countries.Net_migration)*100,2))"
   ]
  },
  {
   "cell_type": "code",
   "execution_count": 48,
   "metadata": {},
   "outputs": [],
   "source": [
    "#como existe 3 registros com Nan, estes campos serão preenchidos para completar a análise\n",
    "Net_migration_semNAN = countries.Net_migration.fillna(value=0)"
   ]
  },
  {
   "cell_type": "code",
   "execution_count": 49,
   "metadata": {},
   "outputs": [
    {
     "data": {
      "text/plain": [
       "<matplotlib.axes._subplots.AxesSubplot at 0x221d1b5f308>"
      ]
     },
     "execution_count": 49,
     "metadata": {},
     "output_type": "execute_result"
    },
    {
     "data": {
      "image/png": "[encoded data removed]",
      "text/plain": [
       "<Figure size 864x576 with 1 Axes>"
      ]
     },
     "metadata": {},
     "output_type": "display_data"
    }
   ],
   "source": [
    "#Histograma\n",
    "sns.distplot(Net_migration_semNAN)"
   ]
  },
  {
   "cell_type": "code",
   "execution_count": 50,
   "metadata": {},
   "outputs": [
    {
     "name": "stdout",
     "output_type": "stream",
     "text": [
      "0.037621145374449334 4.856711857648491\n"
     ]
    }
   ],
   "source": [
    "#Pelo histograma uma forma de identificar os outliers é o dado estar fora do intervalo\n",
    "#[media - k * std, media + k * std ], onde k é geralmente 1.5, 2, 2.5 ou 3\n",
    "#pela analise visual, vamos considerar k=2.0\n",
    "mean = Net_migration_semNAN.mean()\n",
    "std = Net_migration_semNAN.std()\n",
    "print(mean, std)"
   ]
  },
  {
   "cell_type": "code",
   "execution_count": 51,
   "metadata": {},
   "outputs": [
    {
     "data": {
      "text/plain": [
       "[-9.675802569922531, 8.785923715296981]"
      ]
     },
     "execution_count": 51,
     "metadata": {},
     "output_type": "execute_result"
    }
   ],
   "source": [
    "non_outlier_hist = [mean - 2.0 * std, q1 + 2.0 * std]\n",
    "non_outlier_hist"
   ]
  },
  {
   "cell_type": "code",
   "execution_count": 52,
   "metadata": {},
   "outputs": [
    {
     "name": "stdout",
     "output_type": "stream",
     "text": [
      "Quantidade de outliers: 18\n",
      "Porcentagem % : 7.93\n"
     ]
    }
   ],
   "source": [
    "outlier_hist = Net_migration_semNAN[(Net_migration_semNAN<non_outlier_hist[0] )|\n",
    "                                      (Net_migration_semNAN>non_outlier_hist[1])]\n",
    "# 8% dos dados são considerados outliers por esta técnica\n",
    "print('Quantidade de outliers:' ,len(outlier_hist))\n",
    "print('Porcentagem % :' , round(len(outlier_hist)/len(Net_migration_semNAN)*100,2))"
   ]
  },
  {
   "cell_type": "markdown",
   "metadata": {},
   "source": [
    "## Análise questão 6"
   ]
  },
  {
   "cell_type": "code",
   "execution_count": 53,
   "metadata": {},
   "outputs": [],
   "source": [
    "categories = ['sci.electronics', 'comp.graphics', 'rec.motorcycles']\n",
    "newsgroup = fetch_20newsgroups(subset=\"train\", categories=categories, shuffle=True, random_state=42)"
   ]
  },
  {
   "cell_type": "code",
   "execution_count": 54,
   "metadata": {},
   "outputs": [
    {
     "data": {
      "text/plain": [
       "sklearn.utils.Bunch"
      ]
     },
     "execution_count": 54,
     "metadata": {},
     "output_type": "execute_result"
    }
   ],
   "source": [
    "#Bunch é uma subclasse da classe DIC. Ele permite usar keys como atributos\n",
    "type(newsgroup)"
   ]
  },
  {
   "cell_type": "code",
   "execution_count": 55,
   "metadata": {},
   "outputs": [
    {
     "data": {
      "text/plain": [
       "dict_keys(['data', 'filenames', 'target_names', 'target', 'DESCR'])"
      ]
     },
     "execution_count": 55,
     "metadata": {},
     "output_type": "execute_result"
    }
   ],
   "source": [
    "#chaves do dataset\n",
    "newsgroup.keys()"
   ]
  },
  {
   "cell_type": "code",
   "execution_count": 56,
   "metadata": {},
   "outputs": [
    {
     "data": {
      "text/plain": [
       "'From: rubin@cis.ohio-state.edu (Daniel J Rubin)\\nSubject: Re: what to do with old 256k SIMMs?\\nOrganization: The Ohio State University Dept. of Computer and Info. Science\\nLines: 18\\nNNTP-Posting-Host: diplodocus.cis.ohio-state.edu\\n\\n>>\\tI was wondering if people had any good uses for old\\n>>256k SIMMs.  I have a bunch of them for the Apple Mac\\n>>and I know lots of other people do to.  I have tried to\\n>>sell them but have gotten NO interest.\\n\\nHow hard would it be to somehow interface them to some of the popular \\nMotorola microcontrollers.  I am a novice at microcontrollers, but I am\\nstarting to get into them for some of my projects.  I have several 256k\\nSIMMs laying around from upgraded Macs and if I could use them as \"free\"\\nmemory in one or two of my projects that would be great.  One project that\\ncomes to mind is a Caller ID device that would require quite a bit of RAM\\nto store several hundered CID records etc...\\n\\n                                                             - Dan\\n-- \\n             Daniel Joseph Rubin     rubin@cis.ohio-state.edu \\n     \\n                       GO BENGALS!      GO BUCKS!\\n'"
      ]
     },
     "execution_count": 56,
     "metadata": {},
     "output_type": "execute_result"
    }
   ],
   "source": [
    "#forma de acessar os dados\n",
    "newsgroup.data[0]"
   ]
  },
  {
   "cell_type": "code",
   "execution_count": 57,
   "metadata": {},
   "outputs": [],
   "source": [
    "#converte um coleção de documentos em uma matriz com o total de tokens\n",
    "vectorizer = CountVectorizer(analyzer='word')\n",
    "vectorizer_fit = vectorizer.fit_transform(newsgroup.data)"
   ]
  },
  {
   "cell_type": "code",
   "execution_count": 58,
   "metadata": {},
   "outputs": [
    {
     "data": {
      "text/plain": [
       "19211"
      ]
     },
     "execution_count": 58,
     "metadata": {},
     "output_type": "execute_result"
    }
   ],
   "source": [
    "#A palavra phone esta no vetor na posição 19211. Lembrando que os indices em python iniciam com 0\n",
    "vectorizer.vocabulary_['phone']"
   ]
  },
  {
   "cell_type": "code",
   "execution_count": 59,
   "metadata": {},
   "outputs": [
    {
     "data": {
      "text/plain": [
       "(1773, 27335)"
      ]
     },
     "execution_count": 59,
     "metadata": {},
     "output_type": "execute_result"
    }
   ],
   "source": [
    "#tamanho do vetor\n",
    "vectorizer_fit.shape"
   ]
  },
  {
   "cell_type": "code",
   "execution_count": 60,
   "metadata": {},
   "outputs": [
    {
     "data": {
      "text/plain": [
       "213"
      ]
     },
     "execution_count": 60,
     "metadata": {},
     "output_type": "execute_result"
    }
   ],
   "source": [
    "#quantidade de vezes que a palavra aparece\n",
    "vectorizer_fit[:,19211].sum()"
   ]
  },
  {
   "cell_type": "markdown",
   "metadata": {},
   "source": [
    "## Análise questão 7"
   ]
  },
  {
   "cell_type": "code",
   "execution_count": 61,
   "metadata": {},
   "outputs": [],
   "source": [
    "tfid = TfidfVectorizer()\n",
    "tfid_fit = tfid.fit_transform(newsgroup.data)"
   ]
  },
  {
   "cell_type": "code",
   "execution_count": 62,
   "metadata": {},
   "outputs": [
    {
     "data": {
      "text/plain": [
       "19211"
      ]
     },
     "execution_count": 62,
     "metadata": {},
     "output_type": "execute_result"
    }
   ],
   "source": [
    "tfid.vocabulary_['phone']"
   ]
  },
  {
   "cell_type": "code",
   "execution_count": 63,
   "metadata": {},
   "outputs": [
    {
     "data": {
      "text/plain": [
       "(1773, 27335)"
      ]
     },
     "execution_count": 63,
     "metadata": {},
     "output_type": "execute_result"
    }
   ],
   "source": [
    "tfid_fit.shape"
   ]
  },
  {
   "cell_type": "code",
   "execution_count": 64,
   "metadata": {},
   "outputs": [
    {
     "data": {
      "text/plain": [
       "8.88774594667355"
      ]
     },
     "execution_count": 64,
     "metadata": {},
     "output_type": "execute_result"
    }
   ],
   "source": [
    "#score dado pela quantidade de vezes que a palavra aparece. \n",
    "#Quanto menos aparecer maior o score\n",
    "tfid_fit[:,19211].sum()"
   ]
  },
  {
   "cell_type": "markdown",
   "metadata": {},
   "source": [
    "## Questão 1\n",
    "\n",
    "Quais são as regiões (variável `Region`) presentes no _data set_? Retorne uma lista com as regiões únicas do _data set_ com os espaços à frente e atrás da string removidos (mas mantenha pontuação: ponto, hífen etc) e ordenadas em ordem alfabética."
   ]
  },
  {
   "cell_type": "code",
   "execution_count": 65,
   "metadata": {},
   "outputs": [
    {
     "data": {
      "text/plain": [
       "['ASIA (EX. NEAR EAST)',\n",
       " 'BALTICS',\n",
       " 'C.W. OF IND. STATES',\n",
       " 'EASTERN EUROPE',\n",
       " 'LATIN AMER. & CARIB',\n",
       " 'NEAR EAST',\n",
       " 'NORTHERN AFRICA',\n",
       " 'NORTHERN AMERICA',\n",
       " 'OCEANIA',\n",
       " 'SUB-SAHARAN AFRICA',\n",
       " 'WESTERN EUROPE']"
      ]
     },
     "execution_count": 65,
     "metadata": {},
     "output_type": "execute_result"
    }
   ],
   "source": [
    "def q1():\n",
    "    return sorted(countries.Region.value_counts().index.tolist()) \n",
    "q1()"
   ]
  },
  {
   "cell_type": "markdown",
   "metadata": {},
   "source": [
    "## Questão 2\n",
    "\n",
    "Discretizando a variável `Pop_density` em 10 intervalos com `KBinsDiscretizer`, seguindo o encode `ordinal` e estratégia `quantile`, quantos países se encontram acima do 90º percentil? Responda como um único escalar inteiro."
   ]
  },
  {
   "cell_type": "code",
   "execution_count": 66,
   "metadata": {},
   "outputs": [
    {
     "data": {
      "text/plain": [
       "23"
      ]
     },
     "execution_count": 66,
     "metadata": {},
     "output_type": "execute_result"
    }
   ],
   "source": [
    "def q2():\n",
    "    #Criação de variável que representa intevalos, semelhante ao pd.cut\n",
    "    discretizer = preprocessing.KBinsDiscretizer(n_bins=10, encode='ordinal', strategy='quantile')\n",
    "    discretizer.fit(countries[['Pop_density']])\n",
    "    return int(sum(score_bins[:,0]>=9))\n",
    "q2()"
   ]
  },
  {
   "cell_type": "markdown",
   "metadata": {},
   "source": [
    "# Questão 3\n",
    "\n",
    "Se codificarmos as variáveis `Region` e `Climate` usando _one-hot encoding_, quantos novos atributos seriam criados? Responda como um único escalar."
   ]
  },
  {
   "cell_type": "code",
   "execution_count": 67,
   "metadata": {},
   "outputs": [
    {
     "data": {
      "text/plain": [
       "18"
      ]
     },
     "execution_count": 67,
     "metadata": {},
     "output_type": "execute_result"
    }
   ],
   "source": [
    "def q3():\n",
    "    #preencher estes registros com 0\n",
    "    countries[['Climate']] = countries[['Climate']].fillna(value=0)\n",
    "    onehotencoder_Region = preprocessing.OneHotEncoder().fit(countries[['Region']])\n",
    "    #necessário colocar parametro categories=auto para não juntar 1 e 1.5\n",
    "    onehotencoder_Climate = preprocessing.OneHotEncoder(categories='auto').fit(countries[['Climate']])\n",
    "    soma = len(onehotencoder_Region.categories_[0])+ len(onehotencoder_Climate.categories_[0])\n",
    "    return soma\n",
    "q3()"
   ]
  },
  {
   "cell_type": "markdown",
   "metadata": {},
   "source": [
    "## Questão 4\n",
    "\n",
    "Aplique o seguinte _pipeline_:\n",
    "\n",
    "1. Preencha as variáveis do tipo `int64` e `float64` com suas respectivas medianas.\n",
    "2. Padronize essas variáveis.\n",
    "\n",
    "Após aplicado o _pipeline_ descrito acima aos dados (somente nas variáveis dos tipos especificados), aplique o mesmo _pipeline_ (ou `ColumnTransformer`) ao dado abaixo. Qual o valor da variável `Arable` após o _pipeline_? Responda como um único float arredondado para três casas decimais."
   ]
  },
  {
   "cell_type": "code",
   "execution_count": null,
   "metadata": {},
   "outputs": [],
   "source": [
    "test_country = [\n",
    "    'Test Country', 'NEAR EAST', -0.19032480757326514,\n",
    "    -0.3232636124824411, -0.04421734470810142, -0.27528113360605316,\n",
    "    0.13255850810281325, -0.8054845935643491, 1.0119784924248225,\n",
    "    0.6189182532646624, 1.0074863283776458, 0.20239896852403538,\n",
    "    -0.043678728558593366, -0.13929748680369286, 1.3163604645710438,\n",
    "    -0.3699637766938669, -0.6149300604558857, -0.854369594993175,\n",
    "    0.263445277972641, 0.5712416961268142\n",
    "]"
   ]
  },
  {
   "cell_type": "code",
   "execution_count": 68,
   "metadata": {},
   "outputs": [
    {
     "data": {
      "text/plain": [
       "-1.047"
      ]
     },
     "execution_count": 68,
     "metadata": {},
     "output_type": "execute_result"
    }
   ],
   "source": [
    "def q4():\n",
    "    pipeline = Pipeline(steps=[\n",
    "    (\"imputer_median\", SimpleImputer(strategy=\"median\")),\n",
    "    (\"standardscaler\", preprocessing.StandardScaler())\n",
    "    ])\n",
    "    #comando único seria pipeline.fit_transform(countries_number)\n",
    "    countries_number = countries.select_dtypes(include=[np.number])\n",
    "    fit = pipeline.fit(countries_number)\n",
    "    transf = fit.transform(countries_number)\n",
    "    #aplica o pipeline para os dados fornecidos\n",
    "    transf_test = pipeline.transform([test_country[2:]])\n",
    "    ##retorna a posição (index) da coluna Arable e busca no vetor\n",
    "    arable = transf_test[:, countries_number.columns.get_loc('Arable') ]\n",
    "    return float(np.around(arable.item(),3))\n",
    "q4()"
   ]
  },
  {
   "cell_type": "markdown",
   "metadata": {},
   "source": [
    "## Questão 5\n",
    "\n",
    "Descubra o número de _outliers_ da variável `Net_migration` segundo o método do _boxplot_, ou seja, usando a lógica:\n",
    "\n",
    "$$x \\notin [Q1 - 1.5 \\times \\text{IQR}, Q3 + 1.5 \\times \\text{IQR}] \\Rightarrow x \\text{ é outlier}$$\n",
    "\n",
    "que se encontram no grupo inferior e no grupo superior.\n",
    "\n",
    "Você deveria remover da análise as observações consideradas _outliers_ segundo esse método? Responda como uma tupla de três elementos `(outliers_abaixo, outliers_acima, removeria?)` ((int, int, bool))."
   ]
  },
  {
   "cell_type": "code",
   "execution_count": 69,
   "metadata": {},
   "outputs": [
    {
     "data": {
      "text/plain": [
       "(24, 26, False)"
      ]
     },
     "execution_count": 69,
     "metadata": {},
     "output_type": "execute_result"
    }
   ],
   "source": [
    "def q5():\n",
    "    #tudo que estiver neste intervalo não é considerado outlier\n",
    "    q1= countries.Net_migration.quantile(0.25)\n",
    "    q3 = countries.Net_migration.quantile(0.75)\n",
    "    iqr = q3 - q1\n",
    "    non_outlier_iqr = [q1 - 1.5 * iqr, q3 + 1.5 * iqr]\n",
    "    #quantidade abaixo e quantidade acima.\n",
    "    #analise indicou 30% de outlier, uma quantidade significativa que naão deve ser removida\n",
    "    lower = len(countries.Net_migration[countries.Net_migration<non_outlier_iqr[0] ])\n",
    "    upper = len(countries.Net_migration[countries.Net_migration>non_outlier_iqr[1] ])\n",
    "    return (lower, upper, False)\n",
    "q5()"
   ]
  },
  {
   "cell_type": "markdown",
   "metadata": {},
   "source": [
    "## Questão 6\n",
    "Para as questões 6 e 7 utilize a biblioteca `fetch_20newsgroups` de datasets de test do `sklearn`\n",
    "\n",
    "Considere carregar as seguintes categorias e o dataset `newsgroups`:\n",
    "\n",
    "```\n",
    "categories = ['sci.electronics', 'comp.graphics', 'rec.motorcycles']\n",
    "newsgroup = fetch_20newsgroups(subset=\"train\", categories=categories, shuffle=True, random_state=42)\n",
    "```\n",
    "\n",
    "\n",
    "Aplique `CountVectorizer` ao _data set_ `newsgroups` e descubra o número de vezes que a palavra _phone_ aparece no corpus. Responda como um único escalar."
   ]
  },
  {
   "cell_type": "code",
   "execution_count": 70,
   "metadata": {},
   "outputs": [
    {
     "data": {
      "text/plain": [
       "213"
      ]
     },
     "execution_count": 70,
     "metadata": {},
     "output_type": "execute_result"
    }
   ],
   "source": [
    "def q6():\n",
    "    categories = ['sci.electronics', 'comp.graphics', 'rec.motorcycles']\n",
    "    newsgroup = fetch_20newsgroups(subset=\"train\", categories=categories, shuffle=True, random_state=42)\n",
    "    vectorizer = CountVectorizer(analyzer='word')\n",
    "    vectorizer_fit = vectorizer.fit_transform(newsgroup.data)\n",
    "    return int((vectorizer_fit[:,vectorizer.vocabulary_['phone']].sum()))\n",
    "q6()"
   ]
  },
  {
   "cell_type": "markdown",
   "metadata": {},
   "source": [
    "## Questão 7\n",
    "\n",
    "Aplique `TfidfVectorizer` ao _data set_ `newsgroups` e descubra o TF-IDF da palavra _phone_. Responda como um único escalar arredondado para três casas decimais."
   ]
  },
  {
   "cell_type": "code",
   "execution_count": 71,
   "metadata": {},
   "outputs": [
    {
     "data": {
      "text/plain": [
       "8.888"
      ]
     },
     "execution_count": 71,
     "metadata": {},
     "output_type": "execute_result"
    }
   ],
   "source": [
    "def q7():\n",
    "    tfid = TfidfVectorizer()\n",
    "    tfid_fit = tfid.fit_transform(newsgroup.data)\n",
    "    return float(round(tfid_fit[:,tfid.vocabulary_['phone']].sum(),3))\n",
    "q7()"
   ]
  },
  {
   "cell_type": "code",
   "execution_count": null,
   "metadata": {},
   "outputs": [],
   "source": []
  }
 ],
 "metadata": {
  "kernelspec": {
   "display_name": "Python 3",
   "language": "python",
   "name": "python3"
  },
  "language_info": {
   "codemirror_mode": {
    "name": "ipython",
    "version": 3
   },
   "file_extension": ".py",
   "mimetype": "text/x-python",
   "name": "python",
   "nbconvert_exporter": "python",
   "pygments_lexer": "ipython3",
   "version": "3.7.4"
  }
 },
 "nbformat": 4,
 "nbformat_minor": 2
}
